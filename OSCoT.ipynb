{
 "cells": [
  {
   "cell_type": "code",
   "execution_count": 30,
   "id": "467f1184",
   "metadata": {},
   "outputs": [],
   "source": [
    "# Multi-line output support\n",
    "from IPython.core.interactiveshell import InteractiveShell\n",
    "InteractiveShell.ast_node_interactivity = 'all' #Default is 'last'"
   ]
  },
  {
   "cell_type": "code",
   "execution_count": 31,
   "id": "1ff48bfb",
   "metadata": {},
   "outputs": [],
   "source": [
    "# numpy and pandas are required\n",
    "import pandas as pd\n",
    "import numpy as np\n",
    "import time"
   ]
  },
  {
   "cell_type": "code",
   "execution_count": 29,
   "id": "ba5b009f",
   "metadata": {},
   "outputs": [],
   "source": [
    "# Drawing Settings\n",
    "import matplotlib.pyplot as plt\n",
    "# Normal display of Chinese in windows environment (not enough in Linux, need to modify the font and reload)\n",
    "plt.rcParams['font.sans-serif'] = ['Times New Roman']\n",
    "plt.rcParams['axes.labelcolor'] = 'black'\n",
    "#The negative sign of the number used to normalize the coordinate axis\n",
    "plt.rcParams['axes.unicode_minus']=False"
   ]
  },
  {
   "cell_type": "code",
   "execution_count": 241,
   "id": "b480f0b0",
   "metadata": {},
   "outputs": [],
   "source": [
    "import os\n",
    "import openai\n",
    "# if you use VPN\n",
    "os.environ[\"http_proxy\"] = \"http://127.0.0.1:64893\"\n",
    "os.environ[\"https_proxy\"] = \"http://127.0.0.1:64893\"\n",
    "# set your own OPENAI KEY\n",
    "os.environ['OPENAI_API_KEY'] = \"<OPENAI_KEY>\"\n",
    "# set your own organization of the OPENAI account\n",
    "openai.organization = \"<ORGANIZATION>\""
   ]
  },
  {
   "cell_type": "markdown",
   "id": "91ca3cbc",
   "metadata": {},
   "source": [
    "# Completion request function"
   ]
  },
  {
   "cell_type": "code",
   "execution_count": 124,
   "id": "c6789a84",
   "metadata": {},
   "outputs": [],
   "source": [
    "def get_completion_from_messages(messages, \n",
    "                                 model=\"gpt-4\", \n",
    "                                 temperature=0, max_tokens=3000):\n",
    "    response = openai.ChatCompletion.create(\n",
    "        model=model,\n",
    "        messages=messages,\n",
    "        temperature=temperature, \n",
    "        max_tokens=max_tokens, \n",
    "    )\n",
    "    return response.choices[0].message[\"content\"]"
   ]
  },
  {
   "cell_type": "markdown",
   "id": "2ab6a37c",
   "metadata": {},
   "source": [
    "# Sample selection"
   ]
  },
  {
   "cell_type": "markdown",
   "id": "7642ef51-0e6a-422b-87ae-c5728a67c14e",
   "metadata": {},
   "source": [
    "## Data Path"
   ]
  },
  {
   "cell_type": "code",
   "execution_count": 97,
   "id": "1d311a7f",
   "metadata": {},
   "outputs": [],
   "source": [
    "Elements = [\"Ti\",\"Mn\",\"Fe\",\"W\",\"Mo\",\"Sn\"]\n",
    "def element_path(element):\n",
    "    path = ['Ce' + i  + '.csv' for i in Elements]\n",
    "    Dict = dict(zip(Elements, path))\n",
    "    return Dict[element]"
   ]
  },
  {
   "cell_type": "code",
   "execution_count": 98,
   "id": "c5e0bf59",
   "metadata": {},
   "outputs": [
    {
     "data": {
      "text/plain": [
       "'C:\\\\Users\\\\LMY99\\\\Desktop\\\\GPT project\\\\Model1-4\\\\model-3 (reasoning)\\\\demo_binary\\\\demos\\\\files'"
      ]
     },
     "execution_count": 98,
     "metadata": {},
     "output_type": "execute_result"
    },
    {
     "data": {
      "text/plain": [
       "'C:\\\\Users\\\\LMY99\\\\Desktop\\\\GPT project\\\\Model1-4\\\\model-3 (reasoning)\\\\demo_binary\\\\demos\\\\files'"
      ]
     },
     "execution_count": 98,
     "metadata": {},
     "output_type": "execute_result"
    }
   ],
   "source": [
    "# set file_paths\n",
    "os.getcwd()\n",
    "os.chdir(r'C:\\Users\\LMY99\\Desktop\\GPT project\\Model1-4\\model-3 (reasoning)\\demo_binary\\demos\\files')\n",
    "os.getcwd()"
   ]
  },
  {
   "cell_type": "markdown",
   "id": "0ffc1c9b",
   "metadata": {},
   "source": [
    "## Select samples"
   ]
  },
  {
   "cell_type": "code",
   "execution_count": 99,
   "id": "4cf44853-83e3-400a-824a-5ac58ba6992a",
   "metadata": {},
   "outputs": [],
   "source": [
    "thres = ['min', '25%', '50%', '75%', 'max']\n",
    "molar_ratio_matrix = np.array(np.empty((6, 5)))\n",
    "ghsv_matrix = np.array(np.empty((6, 5)))\n",
    "\n",
    "for i, j in enumerate(Elements):\n",
    "    Data = pd.read_csv(element_path(j), encoding = 'utf-8')\n",
    "    Data.columns = ['NO','Co1', 'Ratio', 'Dry-T(M)',  'Cal-T(M)',\n",
    "        'GHSV', 'Reac-Temp',  'O2-Con','H2O-Con','SO2-Con', 'Performance']\n",
    "    Des = Data.describe()\n",
    "    for k in range(len(thres)):\n",
    "        molar_ratio_matrix[i, k] = Des['Ratio'][thres[k]]\n",
    "        ghsv_matrix[i, k] = Des['GHSV'][thres[k]]"
   ]
  },
  {
   "cell_type": "code",
   "execution_count": 93,
   "id": "215bda8d-b5f8-4838-bbb1-516d9b5c51df",
   "metadata": {},
   "outputs": [],
   "source": [
    "def low_cap(factor, i, j, molar_ratio_matrix = molar_ratio_matrix, ghsv_matrix = ghsv_matrix):\n",
    "    matrix = molar_ratio_matrix if factor == 'Ratio' else ghsv_matrix\n",
    "    return matrix[i][j], matrix[i][j + 1]\n",
    "\n",
    "def sampling(data, column):\n",
    "    # sampled_data = data.sample(n=min(len(data), size))\n",
    "    sampled_data = data.sample(n = 1)\n",
    "    return sampled_data\n",
    "\n",
    "def renew_index(available_index, selected_index):\n",
    "    return [idx for idx in available_index if idx not in selected_index]\n",
    "\n",
    "def Ratio_GHSV(data, i):\n",
    "    samples = pd.DataFrame()\n",
    "    available_index = list(range(len(data)))\n",
    "    \n",
    "    for factor in ['Ratio', 'GHSV']:\n",
    "        for j in range(4):  # Three levels\n",
    "            low_bar, cap = low_cap(factor, i, j)\n",
    "            bounds_check = data[factor].between(low_bar, cap, inclusive=\"both\")\n",
    "            selected_index = data.index[bounds_check]\n",
    "            temp_samples = data.loc[selected_index]\n",
    "            sampled_data = sampling(temp_samples, factor)\n",
    "\n",
    "            samples = pd.concat((samples, sampled_data), axis=0)\n",
    "            available_index = renew_index(available_index, list(sampled_data.index))\n",
    "    return samples, available_index, data"
   ]
  },
  {
   "cell_type": "code",
   "execution_count": 95,
   "id": "c4cec280",
   "metadata": {
    "collapsed": true,
    "jupyter": {
     "outputs_hidden": true
    },
    "tags": []
   },
   "outputs": [
    {
     "name": "stdout",
     "output_type": "stream",
     "text": [
      "Run: 0\n",
      "14.904932737350464\n",
      "4 4\n",
      "16.453718185424805\n",
      "4 4\n",
      "6.444082021713257\n",
      "4 4\n",
      "0.11092233657836914\n",
      "4 4\n",
      "60.1866660118103\n",
      "4 4\n",
      "7.967429161071777\n",
      "4 4\n",
      "Run: 1\n",
      "3.888653516769409\n",
      "4 4\n",
      "18.535178661346436\n",
      "4 4\n",
      "29.722463846206665\n",
      "4 4\n",
      "0.4174494743347168\n",
      "4 4\n",
      "35.51033329963684\n",
      "4 4\n",
      "2.6773488521575928\n",
      "4 4\n",
      "Run: 2\n",
      "10.45088505744934\n",
      "4 4\n",
      "27.99216341972351\n",
      "4 4\n",
      "13.868278980255127\n",
      "4 4\n",
      "1.5871245861053467\n",
      "4 4\n",
      "36.591838121414185\n",
      "4 4\n",
      "0.09998250007629395\n",
      "4 4\n",
      "Run: 3\n",
      "5.941169738769531\n",
      "4 4\n",
      "19.647992849349976\n",
      "4 4\n",
      "43.42275047302246\n",
      "4 4\n",
      "1.333035945892334\n",
      "4 4\n",
      "11.021707534790039\n",
      "4 4\n",
      "7.991200685501099\n",
      "4 4\n",
      "Run: 4\n",
      "5.898492813110352\n",
      "4 4\n",
      "12.286453008651733\n",
      "4 4\n",
      "11.507399559020996\n",
      "4 4\n",
      "0.5036869049072266\n",
      "4 4\n",
      "11.056549549102783\n",
      "4 4\n",
      "1.7283990383148193\n",
      "4 4\n"
     ]
    }
   ],
   "source": [
    "for j in range(0,5):\n",
    "    print(f'Run: {j}')\n",
    "    for i, k in enumerate(Elements):\n",
    "        ele_path = element_path(k) + '.csv'\n",
    "        Data = pd.read_csv(ele_path, encoding = 'utf-8')\n",
    "        Data.columns = ['NO','Co1', 'Ratio', 'Dry-T(M)', 'Cal-T(M)',\n",
    "        'GHSV', 'Reac-Temp', 'O2-Con','H2O-Con','SO2-Con', 'Performance']\n",
    "        timeout = 600\n",
    "        per_flag = 4\n",
    "        diver_flag = 8\n",
    "        start_time = time.time()\n",
    "        while True:\n",
    "            samples, avaliable_index, data = Ratio_GHSV(Data, i)\n",
    "            diver = len(np.unique(samples['Reac-Temp']))\n",
    "            per = np.sum(samples['Performance'] == 'Positive')\n",
    "            current_time = time.time()\n",
    "            elapsed_time = current_time - start_time\n",
    "            if (diver == diver_flag) and (per == per_flag):\n",
    "                break\n",
    "            if ((diver < diver_flag) or (per != per_flag)) and (elapsed_time < timeout):\n",
    "                continue\n",
    "            if (elapsed_time >= timeout) and (diver < diver_flag):\n",
    "                diver_flag -= 1\n",
    "                start_time = time.time()\n",
    "        print(elapsed_time)\n",
    "        samples = pd.concat((samples, Data.loc[avaliable_index,:]), axis = 0)\n",
    "        name =  f\"{k}\" + f'_run{j}' + '.csv'\n",
    "        samples.to_csv(name, encoding = 'utf-8', index = None) \n",
    "        print(per, 8 - per)"
   ]
  },
  {
   "cell_type": "markdown",
   "id": "cc5c4827-0a3c-45f4-9fa7-584ae3d08739",
   "metadata": {},
   "source": [
    "# Feature_sets"
   ]
  },
  {
   "cell_type": "code",
   "execution_count": 192,
   "id": "d1d606bf-9a4e-4b5b-ae11-ebea179496dd",
   "metadata": {},
   "outputs": [],
   "source": [
    "delimiter = \"##\"\n",
    "def form_PROMPT(data):\n",
    "\n",
    "    unit_map = {\n",
    "        'Ratio': '',\n",
    "        'Dry-T(M)': '℃',\n",
    "        'Cal-T(M)': '℃',\n",
    "        'GHSV': 'h-1',\n",
    "        'Reac-Temp': '℃',\n",
    "        'O2-Con': 'vol%',\n",
    "        'H2O-Con': 'vol%',\n",
    "        'SO2-Con': 'vol%',\n",
    "    }\n",
    "\n",
    "    feature_sets = [\n",
    "        ['Ratio', 'Performance'],\n",
    "        ['Ratio', 'Reac-Temp', 'Performance'],\n",
    "        ['Ratio', 'Reac-Temp', 'GHSV', 'Performance'],\n",
    "        ['Ratio', 'Reac-Temp', 'GHSV', 'H2O-Con', 'SO2-Con', 'Performance'],\n",
    "        ['Ratio', 'Reac-Temp', 'GHSV', 'Dry-T(M)', 'Cal-T(M)', 'H2O-Con', 'SO2-Con', 'Performance'],\n",
    "        ['Ratio', 'Reac-Temp', 'GHSV', 'Dry-T(M)', 'Cal-T(M)', 'H2O-Con', 'SO2-Con', 'O2-Con', 'Performance'],\n",
    "    ]\n",
    "\n",
    "    Prompts = {str(index): [] for index in range(len(feature_sets))}\n",
    "    for index, feature_set in enumerate(feature_sets):\n",
    "        for _, row in data.iterrows():\n",
    "            info_parts = []\n",
    "            for feature in feature_set:\n",
    "                if feature == 'performance':\n",
    "                    info_parts.append(f\"{feature}: {row[feature]}\")\n",
    "                if feature == 'Ratio':\n",
    "                    info_parts.append(f\"Molar Ratio: Ce to {row['Co1']} = {row[feature]}\")\n",
    "                else:\n",
    "                    info_parts.append(f\"{feature}: {row[feature]}{unit_map.get(feature, '')}\")                                        \n",
    "            one_sample = \"; \".join(info_parts) \n",
    "            Prompts[str(index)].append(one_sample + delimiter)\n",
    "\n",
    "    return Prompts"
   ]
  },
  {
   "cell_type": "markdown",
   "id": "b4fa48d2",
   "metadata": {},
   "source": [
    "# Ordered and Structured prompt"
   ]
  },
  {
   "cell_type": "markdown",
   "id": "4b9d9568",
   "metadata": {},
   "source": [
    "## System message function"
   ]
  },
  {
   "cell_type": "code",
   "execution_count": 120,
   "id": "8c71bd57",
   "metadata": {},
   "outputs": [],
   "source": [
    "def sys_message(element_number,j):\n",
    "    Catalyst = f'Ce{Elements[element_number]}'\n",
    "    if j == 0:\n",
    "        system_message = f\"\"\"\n",
    "\"As an expert in the field of selective catalytic reduction of NOx by NH3, you will be given a set of tested datapoints to reason \n",
    "the most Collet_data trade-off and correlated relationship or trend between various factors and the performance of the catalysts. \n",
    "\n",
    "Four Notes:\n",
    "\n",
    "1.In reasoning, all factors in current datapoints must be identified and considered. \n",
    "\n",
    "2.The datapoints will be provided in a delimited format using {delimiter} characters. \n",
    "\n",
    "3.The performance of the catalyst will be evaluated based on a positive or negative result. A positive result indicates a NO conversion rate of 95% or higher, while a negative result implies a NO conversion rate below 95%.\n",
    "\n",
    "4.The SO2 content and H2O content must be observed carefully, if there are. \n",
    "\n",
    "To generate the reasoning paths, you need to follow these guidelines:\n",
    "\n",
    "1. The reasoning paths should be presented in a logical and structured manner, in the form of step 1-N.\n",
    "\n",
    "2. The reasoning paths are designed to infer the performance of untested datapoints. Therefore, each step must include Collet_dataised and quantified content that facilitates inference. \n",
    "This step-by-step approach will allow for accurate predictions in untested experimental scenarios, considering global factors.\n",
    "\n",
    "3. The output content should only contain reasoning paths, in at most 2000 words, without any additional messages.\"\n",
    " \n",
    "    \"\"\"\n",
    "        return system_message\n",
    "    elif j > 0:\n",
    "         system_message = f\"\"\"\n",
    "\"You will be given a new set of tested datapoints to refine the existing reasoning paths by reasonsing\n",
    "the most Collet_data trade-off and correlated relationship or trend between various factors and the performance of the catalysts. .\n",
    "\n",
    "Four Notes:\n",
    "\n",
    "1.In reasoning, all factors in current datapoints must be identified and considered. \n",
    "\n",
    "2.The datapoints will be provided in a delimited format using {delimiter} characters. \n",
    "\n",
    "3.The performance of the catalyst will be evaluated based on a positive or negative result. \n",
    "A positive result indicates a NO conversion rate of 95% or higher, while a negative result implies a NO conversion rate below 95%.\n",
    "\n",
    "4.The SO2 content and H2O content must be observed carefully, if there are.\n",
    "\n",
    "To generate the reasoning paths, you need to follow these guidelines:\n",
    "\n",
    "1. The reasoning paths should be presented in a logical and structured manner, in the form of step 1-N.\n",
    "\n",
    "2. The reasoning paths are designed to infer the performance of untested datapoints. Therefore, each step must include Collet_dataised and quantified content that facilitates inference. \n",
    "This step-by-step approach will allow for accurate predictions in untested experimental scenarios, considering global factors.\n",
    "\n",
    "3. The output content should only contain reasoning paths, in at most 3000 words, without any additional messages.\"\n",
    " \n",
    "    \"\"\" \n",
    "    return system_message"
   ]
  },
  {
   "cell_type": "markdown",
   "id": "cd3188c6",
   "metadata": {},
   "source": [
    "## User message function"
   ]
  },
  {
   "cell_type": "code",
   "execution_count": 121,
   "id": "4e2ca55d",
   "metadata": {},
   "outputs": [],
   "source": [
    "def user_message(j,datapoints):\n",
    "    if j == 0:\n",
    "        user_message = f\"\"\"\n",
    "        Please see the provided datapoints below:\n",
    "\n",
    "        Datapoints:```{datapoints}```\n",
    "        \"\"\"\n",
    "        return user_message\n",
    "    elif j > 0:\n",
    "        user_message = f\"\"\"\n",
    "        Please see the provided existing reasoning paths, and new datapoints demilited by triple \n",
    "        backticks below:\n",
    "        \n",
    "        Existing reasoning paths: ```{response}```\\n\n",
    "        \n",
    "        New datapoints: ```{datapoints}```     \n",
    "        \n",
    "        \"\"\"\n",
    "        return user_message"
   ]
  },
  {
   "cell_type": "markdown",
   "id": "fce83ce0-a2b3-4dbe-9d3d-b03e55f5576e",
   "metadata": {},
   "source": [
    "## OS-CoT Generation"
   ]
  },
  {
   "cell_type": "code",
   "execution_count": 161,
   "id": "2d745f46-ec78-4a56-9f33-5d81f413e1c8",
   "metadata": {},
   "outputs": [],
   "source": [
    "Respon_GPT4_OS = pd.DataFrame(np.em0pty((6,5)),columns = [f'run{i}' for i in range(5)])"
   ]
  },
  {
   "cell_type": "code",
   "execution_count": 143,
   "id": "3b8f64c6",
   "metadata": {
    "collapsed": true,
    "jupyter": {
     "outputs_hidden": true
    }
   },
   "outputs": [
    {
     "name": "stdout",
     "output_type": "stream",
     "text": [
      "Reasoning Path:\n",
      "\n",
      "Step 1: Identify the factors from the datapoints. The factors identified are the molar ratios of Ce to various elements (Ti, Mn, Fe, W, Mo, Sn) and the performance of the catalyst.\n",
      "\n",
      "Step 2: Analyze the relationship between the molar ratio of Ce to Ti and the performance of the catalyst. From the datapoints, it can be inferred that a molar ratio of Ce to Ti less than or equal to 0.1 results in a positive performance. However, when the molar ratio exceeds 0.1, the performance becomes negative.\n",
      "\n",
      "Step 3: Analyze the relationship between the molar ratio of Ce to Mn and the performance of the catalyst. The datapoints suggest that a molar ratio of Ce to Mn equal to 1.0 or 1.5 can result in a positive performance. However, when the molar ratio is less than 0.33 or greater than 1.5, the performance becomes negative.\n",
      "\n",
      "Step 4: Analyze the relationship between the molar ratio of Ce to Fe and the performance of the catalyst. The datapoints show that a molar ratio of Ce to Fe equal to 0.56 can result in both positive and negative performances. However, a molar ratio of 0.43 consistently results in a negative performance.\n",
      "\n",
      "Step 5: Analyze the relationship between the molar ratio of Ce to W and the performance of the catalyst. The datapoints suggest that a molar ratio of Ce to W equal to 1.5 can result in both positive and negative performances. However, a molar ratio of 0.2 or 0.67 consistently results in a positive performance.\n",
      "\n",
      "Step 6: Analyze the relationship between the molar ratio of Ce to Mo and the performance of the catalyst. The datapoints show that a molar ratio of Ce to Mo equal to 0.08 consistently results in a positive performance. However, a molar ratio greater than 0.08 results in a negative performance.\n",
      "\n",
      "Step 7: Analyze the relationship between the molar ratio of Ce to Sn and the performance of the catalyst. The datapoints suggest that a molar ratio of Ce to Sn equal to 1.0 or 2.0 can result in both positive and negative performances. However, a molar ratio of 0.25 or 0.5 consistently results in a positive performance.\n",
      "\n",
      "Step 8: Summarize the findings. The performance of the catalyst is highly dependent on the molar ratio of Ce to the other elements. For most elements, a specific molar ratio range results in a positive performance, while ratios outside this range result in a negative performance. This suggests that maintaining an optimal molar ratio is crucial for achieving a high NO conversion rate.\n"
     ]
    },
    {
     "ename": "KeyboardInterrupt",
     "evalue": "",
     "output_type": "error",
     "traceback": [
      "\u001b[1;31m---------------------------------------------------------------------------\u001b[0m",
      "\u001b[1;31mKeyboardInterrupt\u001b[0m                         Traceback (most recent call last)",
      "Cell \u001b[1;32mIn[143], line 15\u001b[0m\n\u001b[0;32m     12\u001b[0m datapoints \u001b[38;5;241m=\u001b[39m Prompt_data[\u001b[38;5;28mstr\u001b[39m(j)]\n\u001b[0;32m     13\u001b[0m messages \u001b[38;5;241m=\u001b[39m  [{\u001b[38;5;124m'\u001b[39m\u001b[38;5;124mrole\u001b[39m\u001b[38;5;124m'\u001b[39m:\u001b[38;5;124m'\u001b[39m\u001b[38;5;124msystem\u001b[39m\u001b[38;5;124m'\u001b[39m,\u001b[38;5;124m'\u001b[39m\u001b[38;5;124mcontent\u001b[39m\u001b[38;5;124m'\u001b[39m: sys_message(i, j)},\n\u001b[0;32m     14\u001b[0m              {\u001b[38;5;124m'\u001b[39m\u001b[38;5;124mrole\u001b[39m\u001b[38;5;124m'\u001b[39m:\u001b[38;5;124m'\u001b[39m\u001b[38;5;124muser\u001b[39m\u001b[38;5;124m'\u001b[39m, \u001b[38;5;124m'\u001b[39m\u001b[38;5;124mcontent\u001b[39m\u001b[38;5;124m'\u001b[39m: user_message(j, datapoints)}] \u001b[38;5;66;03m# call system_message&user_message function\u001b[39;00m\n\u001b[1;32m---> 15\u001b[0m response \u001b[38;5;241m=\u001b[39m \u001b[43mget_completion_from_messages\u001b[49m\u001b[43m(\u001b[49m\u001b[43mmessages\u001b[49m\u001b[43m)\u001b[49m \u001b[38;5;66;03m# call Completion request function\u001b[39;00m\n\u001b[0;32m     16\u001b[0m \u001b[38;5;28mprint\u001b[39m(response)\n\u001b[0;32m     17\u001b[0m Responses_GPT4\u001b[38;5;241m.\u001b[39mloc[j, \u001b[38;5;124mf\u001b[39m\u001b[38;5;124m'\u001b[39m\u001b[38;5;124mrun\u001b[39m\u001b[38;5;132;01m{\u001b[39;00mrun\u001b[38;5;132;01m}\u001b[39;00m\u001b[38;5;124m'\u001b[39m] \u001b[38;5;241m=\u001b[39m response\n",
      "Cell \u001b[1;32mIn[124], line 4\u001b[0m, in \u001b[0;36mget_completion_from_messages\u001b[1;34m(messages, model, temperature, max_tokens)\u001b[0m\n\u001b[0;32m      1\u001b[0m \u001b[38;5;28;01mdef\u001b[39;00m \u001b[38;5;21mget_completion_from_messages\u001b[39m(messages, \n\u001b[0;32m      2\u001b[0m                                  model\u001b[38;5;241m=\u001b[39m\u001b[38;5;124m\"\u001b[39m\u001b[38;5;124mgpt-4\u001b[39m\u001b[38;5;124m\"\u001b[39m, \n\u001b[0;32m      3\u001b[0m                                  temperature\u001b[38;5;241m=\u001b[39m\u001b[38;5;241m0\u001b[39m, max_tokens\u001b[38;5;241m=\u001b[39m\u001b[38;5;241m3000\u001b[39m):\n\u001b[1;32m----> 4\u001b[0m     response \u001b[38;5;241m=\u001b[39m \u001b[43mopenai\u001b[49m\u001b[38;5;241;43m.\u001b[39;49m\u001b[43mChatCompletion\u001b[49m\u001b[38;5;241;43m.\u001b[39;49m\u001b[43mcreate\u001b[49m\u001b[43m(\u001b[49m\n\u001b[0;32m      5\u001b[0m \u001b[43m        \u001b[49m\u001b[43mmodel\u001b[49m\u001b[38;5;241;43m=\u001b[39;49m\u001b[43mmodel\u001b[49m\u001b[43m,\u001b[49m\n\u001b[0;32m      6\u001b[0m \u001b[43m        \u001b[49m\u001b[43mmessages\u001b[49m\u001b[38;5;241;43m=\u001b[39;49m\u001b[43mmessages\u001b[49m\u001b[43m,\u001b[49m\n\u001b[0;32m      7\u001b[0m \u001b[43m        \u001b[49m\u001b[43mtemperature\u001b[49m\u001b[38;5;241;43m=\u001b[39;49m\u001b[43mtemperature\u001b[49m\u001b[43m,\u001b[49m\u001b[43m \u001b[49m\n\u001b[0;32m      8\u001b[0m \u001b[43m        \u001b[49m\u001b[43mmax_tokens\u001b[49m\u001b[38;5;241;43m=\u001b[39;49m\u001b[43mmax_tokens\u001b[49m\u001b[43m,\u001b[49m\u001b[43m \u001b[49m\n\u001b[0;32m      9\u001b[0m \u001b[43m    \u001b[49m\u001b[43m)\u001b[49m\n\u001b[0;32m     10\u001b[0m     \u001b[38;5;28;01mreturn\u001b[39;00m response\u001b[38;5;241m.\u001b[39mchoices[\u001b[38;5;241m0\u001b[39m]\u001b[38;5;241m.\u001b[39mmessage[\u001b[38;5;124m\"\u001b[39m\u001b[38;5;124mcontent\u001b[39m\u001b[38;5;124m\"\u001b[39m]\n",
      "File \u001b[1;32mD:\\anaconda\\anaconda\\envs\\langchain1\\lib\\site-packages\\openai\\api_resources\\chat_completion.py:25\u001b[0m, in \u001b[0;36mChatCompletion.create\u001b[1;34m(cls, *args, **kwargs)\u001b[0m\n\u001b[0;32m     23\u001b[0m \u001b[38;5;28;01mwhile\u001b[39;00m \u001b[38;5;28;01mTrue\u001b[39;00m:\n\u001b[0;32m     24\u001b[0m     \u001b[38;5;28;01mtry\u001b[39;00m:\n\u001b[1;32m---> 25\u001b[0m         \u001b[38;5;28;01mreturn\u001b[39;00m \u001b[38;5;28msuper\u001b[39m()\u001b[38;5;241m.\u001b[39mcreate(\u001b[38;5;241m*\u001b[39margs, \u001b[38;5;241m*\u001b[39m\u001b[38;5;241m*\u001b[39mkwargs)\n\u001b[0;32m     26\u001b[0m     \u001b[38;5;28;01mexcept\u001b[39;00m TryAgain \u001b[38;5;28;01mas\u001b[39;00m e:\n\u001b[0;32m     27\u001b[0m         \u001b[38;5;28;01mif\u001b[39;00m timeout \u001b[38;5;129;01mis\u001b[39;00m \u001b[38;5;129;01mnot\u001b[39;00m \u001b[38;5;28;01mNone\u001b[39;00m \u001b[38;5;129;01mand\u001b[39;00m time\u001b[38;5;241m.\u001b[39mtime() \u001b[38;5;241m>\u001b[39m start \u001b[38;5;241m+\u001b[39m timeout:\n",
      "File \u001b[1;32mD:\\anaconda\\anaconda\\envs\\langchain1\\lib\\site-packages\\openai\\api_resources\\abstract\\engine_api_resource.py:155\u001b[0m, in \u001b[0;36mEngineAPIResource.create\u001b[1;34m(cls, api_key, api_base, api_type, request_id, api_version, organization, **params)\u001b[0m\n\u001b[0;32m    129\u001b[0m \u001b[38;5;129m@classmethod\u001b[39m\n\u001b[0;32m    130\u001b[0m \u001b[38;5;28;01mdef\u001b[39;00m \u001b[38;5;21mcreate\u001b[39m(\n\u001b[0;32m    131\u001b[0m     \u001b[38;5;28mcls\u001b[39m,\n\u001b[1;32m   (...)\u001b[0m\n\u001b[0;32m    138\u001b[0m     \u001b[38;5;241m*\u001b[39m\u001b[38;5;241m*\u001b[39mparams,\n\u001b[0;32m    139\u001b[0m ):\n\u001b[0;32m    140\u001b[0m     (\n\u001b[0;32m    141\u001b[0m         deployment_id,\n\u001b[0;32m    142\u001b[0m         engine,\n\u001b[1;32m   (...)\u001b[0m\n\u001b[0;32m    152\u001b[0m         api_key, api_base, api_type, api_version, organization, \u001b[38;5;241m*\u001b[39m\u001b[38;5;241m*\u001b[39mparams\n\u001b[0;32m    153\u001b[0m     )\n\u001b[1;32m--> 155\u001b[0m     response, _, api_key \u001b[38;5;241m=\u001b[39m \u001b[43mrequestor\u001b[49m\u001b[38;5;241;43m.\u001b[39;49m\u001b[43mrequest\u001b[49m\u001b[43m(\u001b[49m\n\u001b[0;32m    156\u001b[0m \u001b[43m        \u001b[49m\u001b[38;5;124;43m\"\u001b[39;49m\u001b[38;5;124;43mpost\u001b[39;49m\u001b[38;5;124;43m\"\u001b[39;49m\u001b[43m,\u001b[49m\n\u001b[0;32m    157\u001b[0m \u001b[43m        \u001b[49m\u001b[43murl\u001b[49m\u001b[43m,\u001b[49m\n\u001b[0;32m    158\u001b[0m \u001b[43m        \u001b[49m\u001b[43mparams\u001b[49m\u001b[38;5;241;43m=\u001b[39;49m\u001b[43mparams\u001b[49m\u001b[43m,\u001b[49m\n\u001b[0;32m    159\u001b[0m \u001b[43m        \u001b[49m\u001b[43mheaders\u001b[49m\u001b[38;5;241;43m=\u001b[39;49m\u001b[43mheaders\u001b[49m\u001b[43m,\u001b[49m\n\u001b[0;32m    160\u001b[0m \u001b[43m        \u001b[49m\u001b[43mstream\u001b[49m\u001b[38;5;241;43m=\u001b[39;49m\u001b[43mstream\u001b[49m\u001b[43m,\u001b[49m\n\u001b[0;32m    161\u001b[0m \u001b[43m        \u001b[49m\u001b[43mrequest_id\u001b[49m\u001b[38;5;241;43m=\u001b[39;49m\u001b[43mrequest_id\u001b[49m\u001b[43m,\u001b[49m\n\u001b[0;32m    162\u001b[0m \u001b[43m        \u001b[49m\u001b[43mrequest_timeout\u001b[49m\u001b[38;5;241;43m=\u001b[39;49m\u001b[43mrequest_timeout\u001b[49m\u001b[43m,\u001b[49m\n\u001b[0;32m    163\u001b[0m \u001b[43m    \u001b[49m\u001b[43m)\u001b[49m\n\u001b[0;32m    165\u001b[0m     \u001b[38;5;28;01mif\u001b[39;00m stream:\n\u001b[0;32m    166\u001b[0m         \u001b[38;5;66;03m# must be an iterator\u001b[39;00m\n\u001b[0;32m    167\u001b[0m         \u001b[38;5;28;01massert\u001b[39;00m \u001b[38;5;129;01mnot\u001b[39;00m \u001b[38;5;28misinstance\u001b[39m(response, OpenAIResponse)\n",
      "File \u001b[1;32mD:\\anaconda\\anaconda\\envs\\langchain1\\lib\\site-packages\\openai\\api_requestor.py:289\u001b[0m, in \u001b[0;36mAPIRequestor.request\u001b[1;34m(self, method, url, params, headers, files, stream, request_id, request_timeout)\u001b[0m\n\u001b[0;32m    278\u001b[0m \u001b[38;5;28;01mdef\u001b[39;00m \u001b[38;5;21mrequest\u001b[39m(\n\u001b[0;32m    279\u001b[0m     \u001b[38;5;28mself\u001b[39m,\n\u001b[0;32m    280\u001b[0m     method,\n\u001b[1;32m   (...)\u001b[0m\n\u001b[0;32m    287\u001b[0m     request_timeout: Optional[Union[\u001b[38;5;28mfloat\u001b[39m, Tuple[\u001b[38;5;28mfloat\u001b[39m, \u001b[38;5;28mfloat\u001b[39m]]] \u001b[38;5;241m=\u001b[39m \u001b[38;5;28;01mNone\u001b[39;00m,\n\u001b[0;32m    288\u001b[0m ) \u001b[38;5;241m-\u001b[39m\u001b[38;5;241m>\u001b[39m Tuple[Union[OpenAIResponse, Iterator[OpenAIResponse]], \u001b[38;5;28mbool\u001b[39m, \u001b[38;5;28mstr\u001b[39m]:\n\u001b[1;32m--> 289\u001b[0m     result \u001b[38;5;241m=\u001b[39m \u001b[38;5;28;43mself\u001b[39;49m\u001b[38;5;241;43m.\u001b[39;49m\u001b[43mrequest_raw\u001b[49m\u001b[43m(\u001b[49m\n\u001b[0;32m    290\u001b[0m \u001b[43m        \u001b[49m\u001b[43mmethod\u001b[49m\u001b[38;5;241;43m.\u001b[39;49m\u001b[43mlower\u001b[49m\u001b[43m(\u001b[49m\u001b[43m)\u001b[49m\u001b[43m,\u001b[49m\n\u001b[0;32m    291\u001b[0m \u001b[43m        \u001b[49m\u001b[43murl\u001b[49m\u001b[43m,\u001b[49m\n\u001b[0;32m    292\u001b[0m \u001b[43m        \u001b[49m\u001b[43mparams\u001b[49m\u001b[38;5;241;43m=\u001b[39;49m\u001b[43mparams\u001b[49m\u001b[43m,\u001b[49m\n\u001b[0;32m    293\u001b[0m \u001b[43m        \u001b[49m\u001b[43msupplied_headers\u001b[49m\u001b[38;5;241;43m=\u001b[39;49m\u001b[43mheaders\u001b[49m\u001b[43m,\u001b[49m\n\u001b[0;32m    294\u001b[0m \u001b[43m        \u001b[49m\u001b[43mfiles\u001b[49m\u001b[38;5;241;43m=\u001b[39;49m\u001b[43mfiles\u001b[49m\u001b[43m,\u001b[49m\n\u001b[0;32m    295\u001b[0m \u001b[43m        \u001b[49m\u001b[43mstream\u001b[49m\u001b[38;5;241;43m=\u001b[39;49m\u001b[43mstream\u001b[49m\u001b[43m,\u001b[49m\n\u001b[0;32m    296\u001b[0m \u001b[43m        \u001b[49m\u001b[43mrequest_id\u001b[49m\u001b[38;5;241;43m=\u001b[39;49m\u001b[43mrequest_id\u001b[49m\u001b[43m,\u001b[49m\n\u001b[0;32m    297\u001b[0m \u001b[43m        \u001b[49m\u001b[43mrequest_timeout\u001b[49m\u001b[38;5;241;43m=\u001b[39;49m\u001b[43mrequest_timeout\u001b[49m\u001b[43m,\u001b[49m\n\u001b[0;32m    298\u001b[0m \u001b[43m    \u001b[49m\u001b[43m)\u001b[49m\n\u001b[0;32m    299\u001b[0m     resp, got_stream \u001b[38;5;241m=\u001b[39m \u001b[38;5;28mself\u001b[39m\u001b[38;5;241m.\u001b[39m_interpret_response(result, stream)\n\u001b[0;32m    300\u001b[0m     \u001b[38;5;28;01mreturn\u001b[39;00m resp, got_stream, \u001b[38;5;28mself\u001b[39m\u001b[38;5;241m.\u001b[39mapi_key\n",
      "File \u001b[1;32mD:\\anaconda\\anaconda\\envs\\langchain1\\lib\\site-packages\\openai\\api_requestor.py:606\u001b[0m, in \u001b[0;36mAPIRequestor.request_raw\u001b[1;34m(self, method, url, params, supplied_headers, files, stream, request_id, request_timeout)\u001b[0m\n\u001b[0;32m    604\u001b[0m     _thread_context\u001b[38;5;241m.\u001b[39msession_create_time \u001b[38;5;241m=\u001b[39m time\u001b[38;5;241m.\u001b[39mtime()\n\u001b[0;32m    605\u001b[0m \u001b[38;5;28;01mtry\u001b[39;00m:\n\u001b[1;32m--> 606\u001b[0m     result \u001b[38;5;241m=\u001b[39m \u001b[43m_thread_context\u001b[49m\u001b[38;5;241;43m.\u001b[39;49m\u001b[43msession\u001b[49m\u001b[38;5;241;43m.\u001b[39;49m\u001b[43mrequest\u001b[49m\u001b[43m(\u001b[49m\n\u001b[0;32m    607\u001b[0m \u001b[43m        \u001b[49m\u001b[43mmethod\u001b[49m\u001b[43m,\u001b[49m\n\u001b[0;32m    608\u001b[0m \u001b[43m        \u001b[49m\u001b[43mabs_url\u001b[49m\u001b[43m,\u001b[49m\n\u001b[0;32m    609\u001b[0m \u001b[43m        \u001b[49m\u001b[43mheaders\u001b[49m\u001b[38;5;241;43m=\u001b[39;49m\u001b[43mheaders\u001b[49m\u001b[43m,\u001b[49m\n\u001b[0;32m    610\u001b[0m \u001b[43m        \u001b[49m\u001b[43mdata\u001b[49m\u001b[38;5;241;43m=\u001b[39;49m\u001b[43mdata\u001b[49m\u001b[43m,\u001b[49m\n\u001b[0;32m    611\u001b[0m \u001b[43m        \u001b[49m\u001b[43mfiles\u001b[49m\u001b[38;5;241;43m=\u001b[39;49m\u001b[43mfiles\u001b[49m\u001b[43m,\u001b[49m\n\u001b[0;32m    612\u001b[0m \u001b[43m        \u001b[49m\u001b[43mstream\u001b[49m\u001b[38;5;241;43m=\u001b[39;49m\u001b[43mstream\u001b[49m\u001b[43m,\u001b[49m\n\u001b[0;32m    613\u001b[0m \u001b[43m        \u001b[49m\u001b[43mtimeout\u001b[49m\u001b[38;5;241;43m=\u001b[39;49m\u001b[43mrequest_timeout\u001b[49m\u001b[43m \u001b[49m\u001b[38;5;28;43;01mif\u001b[39;49;00m\u001b[43m \u001b[49m\u001b[43mrequest_timeout\u001b[49m\u001b[43m \u001b[49m\u001b[38;5;28;43;01melse\u001b[39;49;00m\u001b[43m \u001b[49m\u001b[43mTIMEOUT_SECS\u001b[49m\u001b[43m,\u001b[49m\n\u001b[0;32m    614\u001b[0m \u001b[43m        \u001b[49m\u001b[43mproxies\u001b[49m\u001b[38;5;241;43m=\u001b[39;49m\u001b[43m_thread_context\u001b[49m\u001b[38;5;241;43m.\u001b[39;49m\u001b[43msession\u001b[49m\u001b[38;5;241;43m.\u001b[39;49m\u001b[43mproxies\u001b[49m\u001b[43m,\u001b[49m\n\u001b[0;32m    615\u001b[0m \u001b[43m    \u001b[49m\u001b[43m)\u001b[49m\n\u001b[0;32m    616\u001b[0m \u001b[38;5;28;01mexcept\u001b[39;00m requests\u001b[38;5;241m.\u001b[39mexceptions\u001b[38;5;241m.\u001b[39mTimeout \u001b[38;5;28;01mas\u001b[39;00m e:\n\u001b[0;32m    617\u001b[0m     \u001b[38;5;28;01mraise\u001b[39;00m error\u001b[38;5;241m.\u001b[39mTimeout(\u001b[38;5;124m\"\u001b[39m\u001b[38;5;124mRequest timed out: \u001b[39m\u001b[38;5;132;01m{}\u001b[39;00m\u001b[38;5;124m\"\u001b[39m\u001b[38;5;241m.\u001b[39mformat(e)) \u001b[38;5;28;01mfrom\u001b[39;00m \u001b[38;5;21;01me\u001b[39;00m\n",
      "File \u001b[1;32mD:\\anaconda\\anaconda\\envs\\langchain1\\lib\\site-packages\\requests\\sessions.py:589\u001b[0m, in \u001b[0;36mSession.request\u001b[1;34m(self, method, url, params, data, headers, cookies, files, auth, timeout, allow_redirects, proxies, hooks, stream, verify, cert, json)\u001b[0m\n\u001b[0;32m    584\u001b[0m send_kwargs \u001b[38;5;241m=\u001b[39m {\n\u001b[0;32m    585\u001b[0m     \u001b[38;5;124m\"\u001b[39m\u001b[38;5;124mtimeout\u001b[39m\u001b[38;5;124m\"\u001b[39m: timeout,\n\u001b[0;32m    586\u001b[0m     \u001b[38;5;124m\"\u001b[39m\u001b[38;5;124mallow_redirects\u001b[39m\u001b[38;5;124m\"\u001b[39m: allow_redirects,\n\u001b[0;32m    587\u001b[0m }\n\u001b[0;32m    588\u001b[0m send_kwargs\u001b[38;5;241m.\u001b[39mupdate(settings)\n\u001b[1;32m--> 589\u001b[0m resp \u001b[38;5;241m=\u001b[39m \u001b[38;5;28mself\u001b[39m\u001b[38;5;241m.\u001b[39msend(prep, \u001b[38;5;241m*\u001b[39m\u001b[38;5;241m*\u001b[39msend_kwargs)\n\u001b[0;32m    591\u001b[0m \u001b[38;5;28;01mreturn\u001b[39;00m resp\n",
      "File \u001b[1;32mD:\\anaconda\\anaconda\\envs\\langchain1\\lib\\site-packages\\requests\\sessions.py:703\u001b[0m, in \u001b[0;36mSession.send\u001b[1;34m(self, request, **kwargs)\u001b[0m\n\u001b[0;32m    700\u001b[0m start \u001b[38;5;241m=\u001b[39m preferred_clock()\n\u001b[0;32m    702\u001b[0m \u001b[38;5;66;03m# Send the request\u001b[39;00m\n\u001b[1;32m--> 703\u001b[0m r \u001b[38;5;241m=\u001b[39m adapter\u001b[38;5;241m.\u001b[39msend(request, \u001b[38;5;241m*\u001b[39m\u001b[38;5;241m*\u001b[39mkwargs)\n\u001b[0;32m    705\u001b[0m \u001b[38;5;66;03m# Total elapsed time of the request (approximately)\u001b[39;00m\n\u001b[0;32m    706\u001b[0m elapsed \u001b[38;5;241m=\u001b[39m preferred_clock() \u001b[38;5;241m-\u001b[39m start\n",
      "File \u001b[1;32mD:\\anaconda\\anaconda\\envs\\langchain1\\lib\\site-packages\\requests\\adapters.py:486\u001b[0m, in \u001b[0;36mHTTPAdapter.send\u001b[1;34m(self, request, stream, timeout, verify, cert, proxies)\u001b[0m\n\u001b[0;32m    483\u001b[0m     timeout \u001b[38;5;241m=\u001b[39m TimeoutSauce(connect\u001b[38;5;241m=\u001b[39mtimeout, read\u001b[38;5;241m=\u001b[39mtimeout)\n\u001b[0;32m    485\u001b[0m \u001b[38;5;28;01mtry\u001b[39;00m:\n\u001b[1;32m--> 486\u001b[0m     resp \u001b[38;5;241m=\u001b[39m \u001b[43mconn\u001b[49m\u001b[38;5;241;43m.\u001b[39;49m\u001b[43murlopen\u001b[49m\u001b[43m(\u001b[49m\n\u001b[0;32m    487\u001b[0m \u001b[43m        \u001b[49m\u001b[43mmethod\u001b[49m\u001b[38;5;241;43m=\u001b[39;49m\u001b[43mrequest\u001b[49m\u001b[38;5;241;43m.\u001b[39;49m\u001b[43mmethod\u001b[49m\u001b[43m,\u001b[49m\n\u001b[0;32m    488\u001b[0m \u001b[43m        \u001b[49m\u001b[43murl\u001b[49m\u001b[38;5;241;43m=\u001b[39;49m\u001b[43murl\u001b[49m\u001b[43m,\u001b[49m\n\u001b[0;32m    489\u001b[0m \u001b[43m        \u001b[49m\u001b[43mbody\u001b[49m\u001b[38;5;241;43m=\u001b[39;49m\u001b[43mrequest\u001b[49m\u001b[38;5;241;43m.\u001b[39;49m\u001b[43mbody\u001b[49m\u001b[43m,\u001b[49m\n\u001b[0;32m    490\u001b[0m \u001b[43m        \u001b[49m\u001b[43mheaders\u001b[49m\u001b[38;5;241;43m=\u001b[39;49m\u001b[43mrequest\u001b[49m\u001b[38;5;241;43m.\u001b[39;49m\u001b[43mheaders\u001b[49m\u001b[43m,\u001b[49m\n\u001b[0;32m    491\u001b[0m \u001b[43m        \u001b[49m\u001b[43mredirect\u001b[49m\u001b[38;5;241;43m=\u001b[39;49m\u001b[38;5;28;43;01mFalse\u001b[39;49;00m\u001b[43m,\u001b[49m\n\u001b[0;32m    492\u001b[0m \u001b[43m        \u001b[49m\u001b[43massert_same_host\u001b[49m\u001b[38;5;241;43m=\u001b[39;49m\u001b[38;5;28;43;01mFalse\u001b[39;49;00m\u001b[43m,\u001b[49m\n\u001b[0;32m    493\u001b[0m \u001b[43m        \u001b[49m\u001b[43mpreload_content\u001b[49m\u001b[38;5;241;43m=\u001b[39;49m\u001b[38;5;28;43;01mFalse\u001b[39;49;00m\u001b[43m,\u001b[49m\n\u001b[0;32m    494\u001b[0m \u001b[43m        \u001b[49m\u001b[43mdecode_content\u001b[49m\u001b[38;5;241;43m=\u001b[39;49m\u001b[38;5;28;43;01mFalse\u001b[39;49;00m\u001b[43m,\u001b[49m\n\u001b[0;32m    495\u001b[0m \u001b[43m        \u001b[49m\u001b[43mretries\u001b[49m\u001b[38;5;241;43m=\u001b[39;49m\u001b[38;5;28;43mself\u001b[39;49m\u001b[38;5;241;43m.\u001b[39;49m\u001b[43mmax_retries\u001b[49m\u001b[43m,\u001b[49m\n\u001b[0;32m    496\u001b[0m \u001b[43m        \u001b[49m\u001b[43mtimeout\u001b[49m\u001b[38;5;241;43m=\u001b[39;49m\u001b[43mtimeout\u001b[49m\u001b[43m,\u001b[49m\n\u001b[0;32m    497\u001b[0m \u001b[43m        \u001b[49m\u001b[43mchunked\u001b[49m\u001b[38;5;241;43m=\u001b[39;49m\u001b[43mchunked\u001b[49m\u001b[43m,\u001b[49m\n\u001b[0;32m    498\u001b[0m \u001b[43m    \u001b[49m\u001b[43m)\u001b[49m\n\u001b[0;32m    500\u001b[0m \u001b[38;5;28;01mexcept\u001b[39;00m (ProtocolError, \u001b[38;5;167;01mOSError\u001b[39;00m) \u001b[38;5;28;01mas\u001b[39;00m err:\n\u001b[0;32m    501\u001b[0m     \u001b[38;5;28;01mraise\u001b[39;00m \u001b[38;5;167;01mConnectionError\u001b[39;00m(err, request\u001b[38;5;241m=\u001b[39mrequest)\n",
      "File \u001b[1;32mD:\\anaconda\\anaconda\\envs\\langchain1\\lib\\site-packages\\urllib3\\connectionpool.py:791\u001b[0m, in \u001b[0;36mHTTPConnectionPool.urlopen\u001b[1;34m(self, method, url, body, headers, retries, redirect, assert_same_host, timeout, pool_timeout, release_conn, chunked, body_pos, preload_content, decode_content, **response_kw)\u001b[0m\n\u001b[0;32m    788\u001b[0m response_conn \u001b[38;5;241m=\u001b[39m conn \u001b[38;5;28;01mif\u001b[39;00m \u001b[38;5;129;01mnot\u001b[39;00m release_conn \u001b[38;5;28;01melse\u001b[39;00m \u001b[38;5;28;01mNone\u001b[39;00m\n\u001b[0;32m    790\u001b[0m \u001b[38;5;66;03m# Make the request on the HTTPConnection object\u001b[39;00m\n\u001b[1;32m--> 791\u001b[0m response \u001b[38;5;241m=\u001b[39m \u001b[38;5;28mself\u001b[39m\u001b[38;5;241m.\u001b[39m_make_request(\n\u001b[0;32m    792\u001b[0m     conn,\n\u001b[0;32m    793\u001b[0m     method,\n\u001b[0;32m    794\u001b[0m     url,\n\u001b[0;32m    795\u001b[0m     timeout\u001b[38;5;241m=\u001b[39mtimeout_obj,\n\u001b[0;32m    796\u001b[0m     body\u001b[38;5;241m=\u001b[39mbody,\n\u001b[0;32m    797\u001b[0m     headers\u001b[38;5;241m=\u001b[39mheaders,\n\u001b[0;32m    798\u001b[0m     chunked\u001b[38;5;241m=\u001b[39mchunked,\n\u001b[0;32m    799\u001b[0m     retries\u001b[38;5;241m=\u001b[39mretries,\n\u001b[0;32m    800\u001b[0m     response_conn\u001b[38;5;241m=\u001b[39mresponse_conn,\n\u001b[0;32m    801\u001b[0m     preload_content\u001b[38;5;241m=\u001b[39mpreload_content,\n\u001b[0;32m    802\u001b[0m     decode_content\u001b[38;5;241m=\u001b[39mdecode_content,\n\u001b[0;32m    803\u001b[0m     \u001b[38;5;241m*\u001b[39m\u001b[38;5;241m*\u001b[39mresponse_kw,\n\u001b[0;32m    804\u001b[0m )\n\u001b[0;32m    806\u001b[0m \u001b[38;5;66;03m# Everything went great!\u001b[39;00m\n\u001b[0;32m    807\u001b[0m clean_exit \u001b[38;5;241m=\u001b[39m \u001b[38;5;28;01mTrue\u001b[39;00m\n",
      "File \u001b[1;32mD:\\anaconda\\anaconda\\envs\\langchain1\\lib\\site-packages\\urllib3\\connectionpool.py:537\u001b[0m, in \u001b[0;36mHTTPConnectionPool._make_request\u001b[1;34m(self, conn, method, url, body, headers, retries, timeout, chunked, response_conn, preload_content, decode_content, enforce_content_length)\u001b[0m\n\u001b[0;32m    535\u001b[0m \u001b[38;5;66;03m# Receive the response from the server\u001b[39;00m\n\u001b[0;32m    536\u001b[0m \u001b[38;5;28;01mtry\u001b[39;00m:\n\u001b[1;32m--> 537\u001b[0m     response \u001b[38;5;241m=\u001b[39m \u001b[43mconn\u001b[49m\u001b[38;5;241;43m.\u001b[39;49m\u001b[43mgetresponse\u001b[49m\u001b[43m(\u001b[49m\u001b[43m)\u001b[49m\n\u001b[0;32m    538\u001b[0m \u001b[38;5;28;01mexcept\u001b[39;00m (BaseSSLError, \u001b[38;5;167;01mOSError\u001b[39;00m) \u001b[38;5;28;01mas\u001b[39;00m e:\n\u001b[0;32m    539\u001b[0m     \u001b[38;5;28mself\u001b[39m\u001b[38;5;241m.\u001b[39m_raise_timeout(err\u001b[38;5;241m=\u001b[39me, url\u001b[38;5;241m=\u001b[39murl, timeout_value\u001b[38;5;241m=\u001b[39mread_timeout)\n",
      "File \u001b[1;32mD:\\anaconda\\anaconda\\envs\\langchain1\\lib\\site-packages\\urllib3\\connection.py:461\u001b[0m, in \u001b[0;36mHTTPConnection.getresponse\u001b[1;34m(self)\u001b[0m\n\u001b[0;32m    458\u001b[0m \u001b[38;5;28;01mfrom\u001b[39;00m \u001b[38;5;21;01m.\u001b[39;00m\u001b[38;5;21;01mresponse\u001b[39;00m \u001b[38;5;28;01mimport\u001b[39;00m HTTPResponse\n\u001b[0;32m    460\u001b[0m \u001b[38;5;66;03m# Get the response from http.client.HTTPConnection\u001b[39;00m\n\u001b[1;32m--> 461\u001b[0m httplib_response \u001b[38;5;241m=\u001b[39m \u001b[38;5;28;43msuper\u001b[39;49m\u001b[43m(\u001b[49m\u001b[43m)\u001b[49m\u001b[38;5;241;43m.\u001b[39;49m\u001b[43mgetresponse\u001b[49m\u001b[43m(\u001b[49m\u001b[43m)\u001b[49m\n\u001b[0;32m    463\u001b[0m \u001b[38;5;28;01mtry\u001b[39;00m:\n\u001b[0;32m    464\u001b[0m     assert_header_parsing(httplib_response\u001b[38;5;241m.\u001b[39mmsg)\n",
      "File \u001b[1;32mD:\\anaconda\\anaconda\\envs\\langchain1\\lib\\http\\client.py:1375\u001b[0m, in \u001b[0;36mHTTPConnection.getresponse\u001b[1;34m(self)\u001b[0m\n\u001b[0;32m   1373\u001b[0m \u001b[38;5;28;01mtry\u001b[39;00m:\n\u001b[0;32m   1374\u001b[0m     \u001b[38;5;28;01mtry\u001b[39;00m:\n\u001b[1;32m-> 1375\u001b[0m         \u001b[43mresponse\u001b[49m\u001b[38;5;241;43m.\u001b[39;49m\u001b[43mbegin\u001b[49m\u001b[43m(\u001b[49m\u001b[43m)\u001b[49m\n\u001b[0;32m   1376\u001b[0m     \u001b[38;5;28;01mexcept\u001b[39;00m \u001b[38;5;167;01mConnectionError\u001b[39;00m:\n\u001b[0;32m   1377\u001b[0m         \u001b[38;5;28mself\u001b[39m\u001b[38;5;241m.\u001b[39mclose()\n",
      "File \u001b[1;32mD:\\anaconda\\anaconda\\envs\\langchain1\\lib\\http\\client.py:318\u001b[0m, in \u001b[0;36mHTTPResponse.begin\u001b[1;34m(self)\u001b[0m\n\u001b[0;32m    316\u001b[0m \u001b[38;5;66;03m# read until we get a non-100 response\u001b[39;00m\n\u001b[0;32m    317\u001b[0m \u001b[38;5;28;01mwhile\u001b[39;00m \u001b[38;5;28;01mTrue\u001b[39;00m:\n\u001b[1;32m--> 318\u001b[0m     version, status, reason \u001b[38;5;241m=\u001b[39m \u001b[38;5;28;43mself\u001b[39;49m\u001b[38;5;241;43m.\u001b[39;49m\u001b[43m_read_status\u001b[49m\u001b[43m(\u001b[49m\u001b[43m)\u001b[49m\n\u001b[0;32m    319\u001b[0m     \u001b[38;5;28;01mif\u001b[39;00m status \u001b[38;5;241m!=\u001b[39m CONTINUE:\n\u001b[0;32m    320\u001b[0m         \u001b[38;5;28;01mbreak\u001b[39;00m\n",
      "File \u001b[1;32mD:\\anaconda\\anaconda\\envs\\langchain1\\lib\\http\\client.py:279\u001b[0m, in \u001b[0;36mHTTPResponse._read_status\u001b[1;34m(self)\u001b[0m\n\u001b[0;32m    278\u001b[0m \u001b[38;5;28;01mdef\u001b[39;00m \u001b[38;5;21m_read_status\u001b[39m(\u001b[38;5;28mself\u001b[39m):\n\u001b[1;32m--> 279\u001b[0m     line \u001b[38;5;241m=\u001b[39m \u001b[38;5;28mstr\u001b[39m(\u001b[38;5;28;43mself\u001b[39;49m\u001b[38;5;241;43m.\u001b[39;49m\u001b[43mfp\u001b[49m\u001b[38;5;241;43m.\u001b[39;49m\u001b[43mreadline\u001b[49m\u001b[43m(\u001b[49m\u001b[43m_MAXLINE\u001b[49m\u001b[43m \u001b[49m\u001b[38;5;241;43m+\u001b[39;49m\u001b[43m \u001b[49m\u001b[38;5;241;43m1\u001b[39;49m\u001b[43m)\u001b[49m, \u001b[38;5;124m\"\u001b[39m\u001b[38;5;124miso-8859-1\u001b[39m\u001b[38;5;124m\"\u001b[39m)\n\u001b[0;32m    280\u001b[0m     \u001b[38;5;28;01mif\u001b[39;00m \u001b[38;5;28mlen\u001b[39m(line) \u001b[38;5;241m>\u001b[39m _MAXLINE:\n\u001b[0;32m    281\u001b[0m         \u001b[38;5;28;01mraise\u001b[39;00m LineTooLong(\u001b[38;5;124m\"\u001b[39m\u001b[38;5;124mstatus line\u001b[39m\u001b[38;5;124m\"\u001b[39m)\n",
      "File \u001b[1;32mD:\\anaconda\\anaconda\\envs\\langchain1\\lib\\socket.py:705\u001b[0m, in \u001b[0;36mSocketIO.readinto\u001b[1;34m(self, b)\u001b[0m\n\u001b[0;32m    703\u001b[0m \u001b[38;5;28;01mwhile\u001b[39;00m \u001b[38;5;28;01mTrue\u001b[39;00m:\n\u001b[0;32m    704\u001b[0m     \u001b[38;5;28;01mtry\u001b[39;00m:\n\u001b[1;32m--> 705\u001b[0m         \u001b[38;5;28;01mreturn\u001b[39;00m \u001b[38;5;28;43mself\u001b[39;49m\u001b[38;5;241;43m.\u001b[39;49m\u001b[43m_sock\u001b[49m\u001b[38;5;241;43m.\u001b[39;49m\u001b[43mrecv_into\u001b[49m\u001b[43m(\u001b[49m\u001b[43mb\u001b[49m\u001b[43m)\u001b[49m\n\u001b[0;32m    706\u001b[0m     \u001b[38;5;28;01mexcept\u001b[39;00m timeout:\n\u001b[0;32m    707\u001b[0m         \u001b[38;5;28mself\u001b[39m\u001b[38;5;241m.\u001b[39m_timeout_occurred \u001b[38;5;241m=\u001b[39m \u001b[38;5;28;01mTrue\u001b[39;00m\n",
      "File \u001b[1;32mD:\\anaconda\\anaconda\\envs\\langchain1\\lib\\ssl.py:1307\u001b[0m, in \u001b[0;36mSSLSocket.recv_into\u001b[1;34m(self, buffer, nbytes, flags)\u001b[0m\n\u001b[0;32m   1303\u001b[0m     \u001b[38;5;28;01mif\u001b[39;00m flags \u001b[38;5;241m!=\u001b[39m \u001b[38;5;241m0\u001b[39m:\n\u001b[0;32m   1304\u001b[0m         \u001b[38;5;28;01mraise\u001b[39;00m \u001b[38;5;167;01mValueError\u001b[39;00m(\n\u001b[0;32m   1305\u001b[0m           \u001b[38;5;124m\"\u001b[39m\u001b[38;5;124mnon-zero flags not allowed in calls to recv_into() on \u001b[39m\u001b[38;5;132;01m%s\u001b[39;00m\u001b[38;5;124m\"\u001b[39m \u001b[38;5;241m%\u001b[39m\n\u001b[0;32m   1306\u001b[0m           \u001b[38;5;28mself\u001b[39m\u001b[38;5;241m.\u001b[39m\u001b[38;5;18m__class__\u001b[39m)\n\u001b[1;32m-> 1307\u001b[0m     \u001b[38;5;28;01mreturn\u001b[39;00m \u001b[38;5;28;43mself\u001b[39;49m\u001b[38;5;241;43m.\u001b[39;49m\u001b[43mread\u001b[49m\u001b[43m(\u001b[49m\u001b[43mnbytes\u001b[49m\u001b[43m,\u001b[49m\u001b[43m \u001b[49m\u001b[43mbuffer\u001b[49m\u001b[43m)\u001b[49m\n\u001b[0;32m   1308\u001b[0m \u001b[38;5;28;01melse\u001b[39;00m:\n\u001b[0;32m   1309\u001b[0m     \u001b[38;5;28;01mreturn\u001b[39;00m \u001b[38;5;28msuper\u001b[39m()\u001b[38;5;241m.\u001b[39mrecv_into(buffer, nbytes, flags)\n",
      "File \u001b[1;32mD:\\anaconda\\anaconda\\envs\\langchain1\\lib\\ssl.py:1163\u001b[0m, in \u001b[0;36mSSLSocket.read\u001b[1;34m(self, len, buffer)\u001b[0m\n\u001b[0;32m   1161\u001b[0m \u001b[38;5;28;01mtry\u001b[39;00m:\n\u001b[0;32m   1162\u001b[0m     \u001b[38;5;28;01mif\u001b[39;00m buffer \u001b[38;5;129;01mis\u001b[39;00m \u001b[38;5;129;01mnot\u001b[39;00m \u001b[38;5;28;01mNone\u001b[39;00m:\n\u001b[1;32m-> 1163\u001b[0m         \u001b[38;5;28;01mreturn\u001b[39;00m \u001b[38;5;28;43mself\u001b[39;49m\u001b[38;5;241;43m.\u001b[39;49m\u001b[43m_sslobj\u001b[49m\u001b[38;5;241;43m.\u001b[39;49m\u001b[43mread\u001b[49m\u001b[43m(\u001b[49m\u001b[38;5;28;43mlen\u001b[39;49m\u001b[43m,\u001b[49m\u001b[43m \u001b[49m\u001b[43mbuffer\u001b[49m\u001b[43m)\u001b[49m\n\u001b[0;32m   1164\u001b[0m     \u001b[38;5;28;01melse\u001b[39;00m:\n\u001b[0;32m   1165\u001b[0m         \u001b[38;5;28;01mreturn\u001b[39;00m \u001b[38;5;28mself\u001b[39m\u001b[38;5;241m.\u001b[39m_sslobj\u001b[38;5;241m.\u001b[39mread(\u001b[38;5;28mlen\u001b[39m)\n",
      "\u001b[1;31mKeyboardInterrupt\u001b[0m: "
     ]
    }
   ],
   "source": [
    "for run in range(5):\n",
    "    Collet_data = pd.DataFrame([])\n",
    "    for i in range(6):\n",
    "        name =  f\"{Elements[i]}_run{run}.csv\"        \n",
    "        Data = pd.read_csv(name, encoding = 'utf-8')\n",
    "        Data.columns = ['NO','Co1', 'Ratio',  'Dry-T(M)', , 'Cal-T(M)',\n",
    "            'GHSV', 'Reac-Temp',  'O2-Con','H2O-Con','SO2-Con' 'Performance']\n",
    "        Collet_data = pd.concat((Collet_data, Data.loc[0:7,:]), axis = 0)\n",
    "        Collet_data = Collet_data.reset_index(drop = True)\n",
    "        Prompt_data = form_PROMPT(Collet_data)\n",
    "    for j in range(0, 6):    \n",
    "        datapoints = Prompt_data[str(j)]\n",
    "        messages =  [{'role':'system','content': sys_message(i, j)},\n",
    "                     {'role':'user', 'content': user_message(j, datapoints)}] # call system_message&user_message function\n",
    "        response = get_completion_from_messages(messages) # call Completion request function\n",
    "        print(response)\n",
    "        Respon_GPT4_OS.loc[j, f'run{run}'] = response"
   ]
  },
  {
   "cell_type": "markdown",
   "id": "1f986b7c",
   "metadata": {},
   "source": [
    "# One-pot CoT"
   ]
  },
  {
   "cell_type": "markdown",
   "id": "8705adcd-71c0-4420-80de-8f9500ad8f2b",
   "metadata": {},
   "source": [
    "## System message function"
   ]
  },
  {
   "cell_type": "code",
   "execution_count": 144,
   "id": "bb12fc4c",
   "metadata": {},
   "outputs": [],
   "source": [
    "def sys_one_pot(i):\n",
    "    Catalyst = f'Ce{Elements[i]}'\n",
    "    system_message = system_message = f\"\"\"\n",
    "\"As an expert in the field of selective catalytic reduction of NOx by NH3, you will be given a set of tested datapoints to reason \n",
    "the most Collet_data trade-off and correlated relationship or trend between various factors and the performance of the catalysts. \n",
    "\n",
    "Four Notes:\n",
    "\n",
    "1.In reasoning, all factors in current datapoints must be identified and considered. \n",
    "\n",
    "2.The datapoints will be provided in a delimited format using {delimiter} characters. \n",
    "\n",
    "3.The performance of the catalyst will be evaluated based on a positive or negative result. A positive result indicates a NO conversion rate of 95% or higher, while a negative result implies a NO conversion rate below 95%.\n",
    "\n",
    "4.The SO2 content and H2O content must be observed carefully, if there are. \n",
    "\n",
    "To generate the reasoning paths, you need to follow these guidelines:\n",
    "\n",
    "1. The reasoning paths should be presented in a logical and structured manner, in the form of step 1-N.\n",
    "\n",
    "2. The reasoning paths are designed to infer the performance of untested datapoints. Therefore, each step must include Collet_dataised and quantified content that facilitates inference. \n",
    "This step-by-step approach will allow for accurate predictions in untested experimental scenarios, considering global factors.\n",
    "\n",
    "3. The output content should only contain reasoning paths, in at most 2000 words, without any additional messages.\"\n",
    " \n",
    "    \"\"\"\n",
    "    return system_message\n"
   ]
  },
  {
   "cell_type": "markdown",
   "id": "1301d819-ed76-4f1d-8ff9-368528942b53",
   "metadata": {},
   "source": [
    "## User message function"
   ]
  },
  {
   "cell_type": "code",
   "execution_count": 145,
   "id": "5cb243f5-6b3d-4f75-b8a7-f601eeb3964d",
   "metadata": {},
   "outputs": [],
   "source": [
    "def user_one_pot(j,datapoints):\n",
    "    user_message = f\"\"\"\n",
    "        Please see the provided datapoints below:\n",
    "\n",
    "        Datapoints:```{datapoints}```\n",
    "        \"\"\"\n",
    "    return user_message"
   ]
  },
  {
   "cell_type": "markdown",
   "id": "2cf82606-b27c-438e-bded-e8f362ded3fb",
   "metadata": {},
   "source": [
    "## OP-CoT Generation"
   ]
  },
  {
   "cell_type": "code",
   "execution_count": 148,
   "id": "ac655896-82ae-4299-b17b-c53c16408d8a",
   "metadata": {},
   "outputs": [],
   "source": [
    "Respon_GPT4_OP = pd.DataFrame(np.empty((1,5)),columns = [f'run{i}' for i in range(5)])"
   ]
  },
  {
   "cell_type": "code",
   "execution_count": 147,
   "id": "e8795fd8",
   "metadata": {
    "collapsed": true,
    "jupyter": {
     "outputs_hidden": true
    }
   },
   "outputs": [
    {
     "name": "stdout",
     "output_type": "stream",
     "text": [
      "['Molar Ratio: Ce to Ti = 0.1; Reac-Temp: 240℃; GHSV: 40000h-1; Dry-T(M): 105℃; Cal-T(M): 500℃; H2O-Con: 6vol%; SO2-Con: 1000; O2-Con: 3.0vol%; Performance: Positive##', 'Molar Ratio: Ce to Ti = 0.1; Reac-Temp: 210℃; GHSV: 40000h-1; Dry-T(M): 120℃; Cal-T(M): 500℃; H2O-Con: 0vol%; SO2-Con: 0; O2-Con: 3.0vol%; Performance: Positive##', 'Molar Ratio: Ce to Ti = 0.47; Reac-Temp: 160℃; GHSV: 30000h-1; Dry-T(M): 105℃; Cal-T(M): 500℃; H2O-Con: 0vol%; SO2-Con: 0; O2-Con: 6.0vol%; Performance: Negative##', 'Molar Ratio: Ce to Ti = 9.3; Reac-Temp: 200℃; GHSV: 90000h-1; Dry-T(M): 80℃; Cal-T(M): 500℃; H2O-Con: 0vol%; SO2-Con: 0; O2-Con: 3.0vol%; Performance: Negative##', 'Molar Ratio: Ce to Ti = 0.05; Reac-Temp: 400℃; GHSV: 30000h-1; Dry-T(M): 105℃; Cal-T(M): 500℃; H2O-Con: 0vol%; SO2-Con: 0; O2-Con: 6.0vol%; Performance: Positive##', 'Molar Ratio: Ce to Ti = 0.3; Reac-Temp: 350℃; GHSV: 40000h-1; Dry-T(M): 105℃; Cal-T(M): 500℃; H2O-Con: 0vol%; SO2-Con: 0; O2-Con: 3.0vol%; Performance: Positive##', 'Molar Ratio: Ce to Ti = 0.4; Reac-Temp: 300℃; GHSV: 90000h-1; Dry-T(M): 120℃; Cal-T(M): 500℃; H2O-Con: 0vol%; SO2-Con: 0; O2-Con: 5.0vol%; Performance: Negative##', 'Molar Ratio: Ce to Ti = 0.3; Reac-Temp: 250℃; GHSV: 90000h-1; Dry-T(M): 110℃; Cal-T(M): 500℃; H2O-Con: 5vol%; SO2-Con: 0; O2-Con: 5.0vol%; Performance: Negative##', 'Molar Ratio: Ce to Ti = 0.05; Reac-Temp: 180℃; GHSV: 30000h-1; Dry-T(M): 105℃; Cal-T(M): 500℃; H2O-Con: 0vol%; SO2-Con: 0; O2-Con: 6.0vol%; Performance: Negative##', 'Molar Ratio: Ce to Mn = 0.33; Reac-Temp: 125℃; GHSV: 50000h-1; Dry-T(M): 100℃; Cal-T(M): 500℃; H2O-Con: 0vol%; SO2-Con: 0; O2-Con: 5.0vol%; Performance: Positive##', 'Molar Ratio: Ce to Mn = 1.5; Reac-Temp: 100℃; GHSV: 64000h-1; Dry-T(M): 120℃; Cal-T(M): 500℃; H2O-Con: 0vol%; SO2-Con: 0; O2-Con: 5.0vol%; Performance: Positive##', 'Molar Ratio: Ce to Mn = 1.5; Reac-Temp: 80℃; GHSV: 35000h-1; Dry-T(M): 105℃; Cal-T(M): 500℃; H2O-Con: 0vol%; SO2-Con: 0; O2-Con: 2.0vol%; Performance: Negative##', 'Molar Ratio: Ce to Mn = 4.0; Reac-Temp: 75℃; GHSV: 60000h-1; Dry-T(M): 110℃; Cal-T(M): 500℃; H2O-Con: 0vol%; SO2-Con: 0; O2-Con: 5.0vol%; Performance: Negative##', 'Molar Ratio: Ce to Mn = 0.2; Reac-Temp: 110℃; GHSV: 30000h-1; Dry-T(M): 100℃; Cal-T(M): 550℃; H2O-Con: 0vol%; SO2-Con: 0; O2-Con: 6.0vol%; Performance: Negative##', 'Molar Ratio: Ce to Mn = 0.33; Reac-Temp: 300℃; GHSV: 50000h-1; Dry-T(M): 100℃; Cal-T(M): 500℃; H2O-Con: 0vol%; SO2-Con: 0; O2-Con: 5.0vol%; Performance: Negative##', 'Molar Ratio: Ce to Mn = 1.0; Reac-Temp: 200℃; GHSV: 64000h-1; Dry-T(M): 120℃; Cal-T(M): 500℃; H2O-Con: 0vol%; SO2-Con: 0; O2-Con: 5.0vol%; Performance: Positive##', 'Molar Ratio: Ce to Mn = 1.0; Reac-Temp: 150℃; GHSV: 64000h-1; Dry-T(M): 120℃; Cal-T(M): 500℃; H2O-Con: 5vol%; SO2-Con: 50; O2-Con: 5.0vol%; Performance: Positive##', 'Molar Ratio: Ce to Mn = 0.2; Reac-Temp: 140℃; GHSV: 30000h-1; Dry-T(M): 100℃; Cal-T(M): 550℃; H2O-Con: 0vol%; SO2-Con: 0; O2-Con: 6.0vol%; Performance: Negative##', 'Molar Ratio: Ce to Fe = 0.43; Reac-Temp: 70℃; GHSV: 20000h-1; Dry-T(M): 110℃; Cal-T(M): 500℃; H2O-Con: 0vol%; SO2-Con: 0; O2-Con: 5.0vol%; Performance: Negative##', 'Molar Ratio: Ce to Fe = 0.43; Reac-Temp: 310℃; GHSV: 20000h-1; Dry-T(M): 110℃; Cal-T(M): 500℃; H2O-Con: 0vol%; SO2-Con: 0; O2-Con: 5.0vol%; Performance: Negative##', 'Molar Ratio: Ce to Fe = 0.56; Reac-Temp: 350℃; GHSV: 75000h-1; Dry-T(M): 105℃; Cal-T(M): 500℃; H2O-Con: 0vol%; SO2-Con: 200; O2-Con: 5.0vol%; Performance: Positive##', 'Molar Ratio: Ce to Fe = 0.56; Reac-Temp: 300℃; GHSV: 75000h-1; Dry-T(M): 105℃; Cal-T(M): 500℃; H2O-Con: 0vol%; SO2-Con: 200; O2-Con: 5.0vol%; Performance: Positive##', 'Molar Ratio: Ce to Fe = 0.43; Reac-Temp: 250℃; GHSV: 20000h-1; Dry-T(M): 110℃; Cal-T(M): 500℃; H2O-Con: 0vol%; SO2-Con: 0; O2-Con: 5.0vol%; Performance: Positive##', 'Molar Ratio: Ce to Fe = 0.43; Reac-Temp: 190℃; GHSV: 20000h-1; Dry-T(M): 110℃; Cal-T(M): 500℃; H2O-Con: 0vol%; SO2-Con: 0; O2-Con: 5.0vol%; Performance: Negative##', 'Molar Ratio: Ce to Fe = 0.56; Reac-Temp: 325℃; GHSV: 75000h-1; Dry-T(M): 105℃; Cal-T(M): 500℃; H2O-Con: 0vol%; SO2-Con: 200; O2-Con: 5.0vol%; Performance: Positive##', 'Molar Ratio: Ce to Fe = 0.56; Reac-Temp: 150℃; GHSV: 75000h-1; Dry-T(M): 105℃; Cal-T(M): 500℃; H2O-Con: 0vol%; SO2-Con: 0; O2-Con: 5.0vol%; Performance: Negative##', 'Molar Ratio: Ce to Fe = 0.43; Reac-Temp: 340℃; GHSV: 20000h-1; Dry-T(M): 110℃; Cal-T(M): 500℃; H2O-Con: 0vol%; SO2-Con: 0; O2-Con: 5.0vol%; Performance: Negative##', 'Molar Ratio: Ce to W = 0.2; Reac-Temp: 330℃; GHSV: 36000h-1; Dry-T(M): 105℃; Cal-T(M): 400℃; H2O-Con: 0vol%; SO2-Con: 0; O2-Con: 5.0vol%; Performance: Positive##', 'Molar Ratio: Ce to W = 1.5; Reac-Temp: 300℃; GHSV: 47000h-1; Dry-T(M): 110℃; Cal-T(M): 500℃; H2O-Con: 0vol%; SO2-Con: 200; O2-Con: 3.0vol%; Performance: Positive##', 'Molar Ratio: Ce to W = 1.5; Reac-Temp: 175℃; GHSV: 94000h-1; Dry-T(M): 110℃; Cal-T(M): 500℃; H2O-Con: 0vol%; SO2-Con: 0; O2-Con: 3.0vol%; Performance: Negative##', 'Molar Ratio: Ce to W = 1.5; Reac-Temp: 450℃; GHSV: 250000h-1; Dry-T(M): 100℃; Cal-T(M): 500℃; H2O-Con: 0vol%; SO2-Con: 0; O2-Con: 5.0vol%; Performance: Negative##', 'Molar Ratio: Ce to W = 4.0; Reac-Temp: 200℃; GHSV: 47000h-1; Dry-T(M): 110℃; Cal-T(M): 500℃; H2O-Con: 0vol%; SO2-Con: 0; O2-Con: 3.0vol%; Performance: Negative##', 'Molar Ratio: Ce to W = 1.5; Reac-Temp: 250℃; GHSV: 47000h-1; Dry-T(M): 110℃; Cal-T(M): 500℃; H2O-Con: 0vol%; SO2-Con: 0; O2-Con: 3.0vol%; Performance: Positive##', 'Molar Ratio: Ce to W = 0.67; Reac-Temp: 400℃; GHSV: 47000h-1; Dry-T(M): 110℃; Cal-T(M): 500℃; H2O-Con: 0vol%; SO2-Con: 0; O2-Con: 3.0vol%; Performance: Positive##', 'Molar Ratio: Ce to W = 1.5; Reac-Temp: 150℃; GHSV: 250000h-1; Dry-T(M): 100℃; Cal-T(M): 500℃; H2O-Con: 0vol%; SO2-Con: 0; O2-Con: 5.0vol%; Performance: Negative##', 'Molar Ratio: Ce to W = 0.2; Reac-Temp: 390℃; GHSV: 36000h-1; Dry-T(M): 105℃; Cal-T(M): 400℃; H2O-Con: 0vol%; SO2-Con: 0; O2-Con: 5.0vol%; Performance: Negative##', 'Molar Ratio: Ce to Mo = 0.08; Reac-Temp: 250℃; GHSV: 75000h-1; Dry-T(M): 105℃; Cal-T(M): 500℃; H2O-Con: 0vol%; SO2-Con: 2000; O2-Con: 5.0vol%; Performance: Positive##', 'Molar Ratio: Ce to Mo = 1.67; Reac-Temp: 350℃; GHSV: 90000h-1; Dry-T(M): 80℃; Cal-T(M): 500℃; H2O-Con: 0vol%; SO2-Con: 1000; O2-Con: 3.0vol%; Performance: Positive##', 'Molar Ratio: Ce to Mo = 2.0; Reac-Temp: 300℃; GHSV: 100000h-1; Dry-T(M): 100℃; Cal-T(M): 500℃; H2O-Con: 0vol%; SO2-Con: 100; O2-Con: 5.0vol%; Performance: Negative##', 'Molar Ratio: Ce to Mo = 2.0; Reac-Temp: 400℃; GHSV: 70000h-1; Dry-T(M): 110℃; Cal-T(M): 500℃; H2O-Con: 0vol%; SO2-Con: 0; O2-Con: 3.0vol%; Performance: Negative##', 'Molar Ratio: Ce to Mo = 1.0; Reac-Temp: 150℃; GHSV: 50000h-1; Dry-T(M): 110℃; Cal-T(M): 500℃; H2O-Con: 0vol%; SO2-Con: 0; O2-Con: 5.0vol%; Performance: Negative##', 'Molar Ratio: Ce to Mo = 0.08; Reac-Temp: 325℃; GHSV: 75000h-1; Dry-T(M): 105℃; Cal-T(M): 500℃; H2O-Con: 0vol%; SO2-Con: 0; O2-Con: 5.0vol%; Performance: Positive##', 'Molar Ratio: Ce to Mo = 0.08; Reac-Temp: 225℃; GHSV: 75000h-1; Dry-T(M): 105℃; Cal-T(M): 500℃; H2O-Con: 0vol%; SO2-Con: 0; O2-Con: 5.0vol%; Performance: Positive##', 'Molar Ratio: Ce to Mo = 1.67; Reac-Temp: 200℃; GHSV: 90000h-1; Dry-T(M): 80℃; Cal-T(M): 500℃; H2O-Con: 10vol%; SO2-Con: 0; O2-Con: 3.0vol%; Performance: Negative##', 'Molar Ratio: Ce to Mo = 0.08; Reac-Temp: 300℃; GHSV: 75000h-1; Dry-T(M): 105℃; Cal-T(M): 500℃; H2O-Con: 0vol%; SO2-Con: 200; O2-Con: 5.0vol%; Performance: Positive##', 'Molar Ratio: Ce to Sn = 1.0; Reac-Temp: 320℃; GHSV: 50000h-1; Dry-T(M): 105℃; Cal-T(M): 500℃; H2O-Con: 0vol%; SO2-Con: 0; O2-Con: 5.0vol%; Performance: Negative##', 'Molar Ratio: Ce to Sn = 1.0; Reac-Temp: 250℃; GHSV: 20000h-1; Dry-T(M): 120℃; Cal-T(M): 300℃; H2O-Con: 0vol%; SO2-Con: 0; O2-Con: 5.0vol%; Performance: Positive##', 'Molar Ratio: Ce to Sn = 1.32; Reac-Temp: 150℃; GHSV: 60000h-1; Dry-T(M): 110℃; Cal-T(M): 500℃; H2O-Con: 0vol%; SO2-Con: 100; O2-Con: 3.0vol%; Performance: Positive##', 'Molar Ratio: Ce to Sn = 2.0; Reac-Temp: 360℃; GHSV: 50000h-1; Dry-T(M): 105℃; Cal-T(M): 500℃; H2O-Con: 0vol%; SO2-Con: 0; O2-Con: 5.0vol%; Performance: Negative##', 'Molar Ratio: Ce to Sn = 2.0; Reac-Temp: 350℃; GHSV: 20000h-1; Dry-T(M): 120℃; Cal-T(M): 400℃; H2O-Con: 0vol%; SO2-Con: 0; O2-Con: 5.0vol%; Performance: Positive##', 'Molar Ratio: Ce to Sn = 1.0; Reac-Temp: 100℃; GHSV: 20000h-1; Dry-T(M): 120℃; Cal-T(M): 600℃; H2O-Con: 0vol%; SO2-Con: 0; O2-Con: 5.0vol%; Performance: Negative##', 'Molar Ratio: Ce to Sn = 2.0; Reac-Temp: 175℃; GHSV: 60000h-1; Dry-T(M): 110℃; Cal-T(M): 450℃; H2O-Con: 0vol%; SO2-Con: 0; O2-Con: 5.0vol%; Performance: Negative##', 'Molar Ratio: Ce to Sn = 0.25; Reac-Temp: 400℃; GHSV: 60000h-1; Dry-T(M): 110℃; Cal-T(M): 500℃; H2O-Con: 0vol%; SO2-Con: 0; O2-Con: 3.0vol%; Performance: Positive##', 'Molar Ratio: Ce to Sn = 0.5; Reac-Temp: 300℃; GHSV: 20000h-1; Dry-T(M): 120℃; Cal-T(M): 400℃; H2O-Con: 0vol%; SO2-Con: 0; O2-Con: 5.0vol%; Performance: Positive##']\n",
      "['Molar Ratio: Ce to Ti = 0.05; Reac-Temp: 400℃; GHSV: 30000h-1; Dry-T(M): 105℃; Cal-T(M): 500℃; H2O-Con: 0vol%; SO2-Con: 0; O2-Con: 6.0vol%; Performance: Positive##', 'Molar Ratio: Ce to Ti = 0.2; Reac-Temp: 175℃; GHSV: 25000h-1; Dry-T(M): 100℃; Cal-T(M): 500℃; H2O-Con: 0vol%; SO2-Con: 0; O2-Con: 5.3vol%; Performance: Negative##', 'Molar Ratio: Ce to Ti = 0.47; Reac-Temp: 260℃; GHSV: 30000h-1; Dry-T(M): 105℃; Cal-T(M): 500℃; H2O-Con: 0vol%; SO2-Con: 0; O2-Con: 6.0vol%; Performance: Positive##', 'Molar Ratio: Ce to Ti = 9.3; Reac-Temp: 350℃; GHSV: 90000h-1; Dry-T(M): 80℃; Cal-T(M): 500℃; H2O-Con: 10vol%; SO2-Con: 200; O2-Con: 3.0vol%; Performance: Positive##', 'Molar Ratio: Ce to Ti = 0.5; Reac-Temp: 250℃; GHSV: 25000h-1; Dry-T(M): 100℃; Cal-T(M): 500℃; H2O-Con: 0vol%; SO2-Con: 0; O2-Con: 5.3vol%; Performance: Positive##', 'Molar Ratio: Ce to Ti = 0.1; Reac-Temp: 240℃; GHSV: 40000h-1; Dry-T(M): 105℃; Cal-T(M): 500℃; H2O-Con: 6vol%; SO2-Con: 1000; O2-Con: 3.0vol%; Performance: Negative##', 'Molar Ratio: Ce to Ti = 0.05; Reac-Temp: 100℃; GHSV: 60000h-1; Dry-T(M): 110℃; Cal-T(M): 450℃; H2O-Con: 0vol%; SO2-Con: 0; O2-Con: 5.0vol%; Performance: Negative##', 'Molar Ratio: Ce to Ti = 0.05; Reac-Temp: 200℃; GHSV: 120000h-1; Dry-T(M): 243℃; Cal-T(M): 500℃; H2O-Con: 0vol%; SO2-Con: 0; O2-Con: 8.0vol%; Performance: Negative##', 'Molar Ratio: Ce to Ti = 0.05; Reac-Temp: 180℃; GHSV: 30000h-1; Dry-T(M): 105℃; Cal-T(M): 500℃; H2O-Con: 0vol%; SO2-Con: 0; O2-Con: 6.0vol%; Performance: Negative##', 'Molar Ratio: Ce to Mn = 0.33; Reac-Temp: 150℃; GHSV: 100000h-1; Dry-T(M): 100℃; Cal-T(M): 500℃; H2O-Con: 0vol%; SO2-Con: 0; O2-Con: 5.0vol%; Performance: Positive##', 'Molar Ratio: Ce to Mn = 1.5; Reac-Temp: 300℃; GHSV: 35000h-1; Dry-T(M): 105℃; Cal-T(M): 500℃; H2O-Con: 0vol%; SO2-Con: 0; O2-Con: 2.0vol%; Performance: Negative##', 'Molar Ratio: Ce to Mn = 1.5; Reac-Temp: 140℃; GHSV: 35000h-1; Dry-T(M): 105℃; Cal-T(M): 500℃; H2O-Con: 0vol%; SO2-Con: 0; O2-Con: 2.0vol%; Performance: Negative##', 'Molar Ratio: Ce to Mn = 4.0; Reac-Temp: 250℃; GHSV: 64000h-1; Dry-T(M): 120℃; Cal-T(M): 500℃; H2O-Con: 0vol%; SO2-Con: 0; O2-Con: 5.0vol%; Performance: Negative##', 'Molar Ratio: Ce to Mn = 1.5; Reac-Temp: 170℃; GHSV: 35000h-1; Dry-T(M): 105℃; Cal-T(M): 500℃; H2O-Con: 0vol%; SO2-Con: 0; O2-Con: 2.0vol%; Performance: Positive##', 'Molar Ratio: Ce to Mn = 1.5; Reac-Temp: 175℃; GHSV: 48000h-1; Dry-T(M): 120℃; Cal-T(M): 500℃; H2O-Con: 0vol%; SO2-Con: 150; O2-Con: 5.0vol%; Performance: Negative##', 'Molar Ratio: Ce to Mn = 1.0; Reac-Temp: 100℃; GHSV: 64000h-1; Dry-T(M): 120℃; Cal-T(M): 500℃; H2O-Con: 0vol%; SO2-Con: 0; O2-Con: 5.0vol%; Performance: Positive##', 'Molar Ratio: Ce to Mn = 1.5; Reac-Temp: 200℃; GHSV: 64000h-1; Dry-T(M): 120℃; Cal-T(M): 500℃; H2O-Con: 0vol%; SO2-Con: 0; O2-Con: 5.0vol%; Performance: Positive##', 'Molar Ratio: Ce to Mn = 0.2; Reac-Temp: 140℃; GHSV: 30000h-1; Dry-T(M): 100℃; Cal-T(M): 550℃; H2O-Con: 0vol%; SO2-Con: 0; O2-Con: 6.0vol%; Performance: Negative##', 'Molar Ratio: Ce to Fe = 0.05; Reac-Temp: 200℃; GHSV: 30000h-1; Dry-T(M): 105℃; Cal-T(M): 400℃; H2O-Con: 0vol%; SO2-Con: 0; O2-Con: 3.0vol%; Performance: Positive##', 'Molar Ratio: Ce to Fe = 0.43; Reac-Temp: 250℃; GHSV: 20000h-1; Dry-T(M): 110℃; Cal-T(M): 500℃; H2O-Con: 0vol%; SO2-Con: 0; O2-Con: 5.0vol%; Performance: Negative##', 'Molar Ratio: Ce to Fe = 0.43; Reac-Temp: 130℃; GHSV: 20000h-1; Dry-T(M): 110℃; Cal-T(M): 500℃; H2O-Con: 0vol%; SO2-Con: 0; O2-Con: 5.0vol%; Performance: Negative##', 'Molar Ratio: Ce to Fe = 0.56; Reac-Temp: 275℃; GHSV: 75000h-1; Dry-T(M): 105℃; Cal-T(M): 500℃; H2O-Con: 0vol%; SO2-Con: 200; O2-Con: 5.0vol%; Performance: Positive##', 'Molar Ratio: Ce to Fe = 0.43; Reac-Temp: 190℃; GHSV: 20000h-1; Dry-T(M): 110℃; Cal-T(M): 500℃; H2O-Con: 0vol%; SO2-Con: 0; O2-Con: 5.0vol%; Performance: Negative##', 'Molar Ratio: Ce to Fe = 0.43; Reac-Temp: 70℃; GHSV: 20000h-1; Dry-T(M): 110℃; Cal-T(M): 500℃; H2O-Con: 0vol%; SO2-Con: 0; O2-Con: 5.0vol%; Performance: Negative##', 'Molar Ratio: Ce to Fe = 0.56; Reac-Temp: 325℃; GHSV: 75000h-1; Dry-T(M): 105℃; Cal-T(M): 500℃; H2O-Con: 0vol%; SO2-Con: 200; O2-Con: 5.0vol%; Performance: Positive##', 'Molar Ratio: Ce to Fe = 0.56; Reac-Temp: 300℃; GHSV: 75000h-1; Dry-T(M): 105℃; Cal-T(M): 500℃; H2O-Con: 0vol%; SO2-Con: 200; O2-Con: 5.0vol%; Performance: Positive##', 'Molar Ratio: Ce to Fe = 0.43; Reac-Temp: 340℃; GHSV: 20000h-1; Dry-T(M): 110℃; Cal-T(M): 500℃; H2O-Con: 0vol%; SO2-Con: 0; O2-Con: 5.0vol%; Performance: Negative##', 'Molar Ratio: Ce to W = 1.0; Reac-Temp: 400℃; GHSV: 600000h-1; Dry-T(M): 100℃; Cal-T(M): 500℃; H2O-Con: 0vol%; SO2-Con: 0; O2-Con: 5.0vol%; Performance: Positive##', 'Molar Ratio: Ce to W = 1.5; Reac-Temp: 340℃; GHSV: 50000h-1; Dry-T(M): 110℃; Cal-T(M): 500℃; H2O-Con: 0vol%; SO2-Con: 0; O2-Con: 2.0vol%; Performance: Positive##', 'Molar Ratio: Ce to W = 1.5; Reac-Temp: 80℃; GHSV: 50000h-1; Dry-T(M): 110℃; Cal-T(M): 500℃; H2O-Con: 0vol%; SO2-Con: 0; O2-Con: 2.0vol%; Performance: Negative##', 'Molar Ratio: Ce to W = 1.5; Reac-Temp: 150℃; GHSV: 47000h-1; Dry-T(M): 110℃; Cal-T(M): 500℃; H2O-Con: 0vol%; SO2-Con: 0; O2-Con: 3.0vol%; Performance: Negative##', 'Molar Ratio: Ce to W = 0.25; Reac-Temp: 300℃; GHSV: 47000h-1; Dry-T(M): 110℃; Cal-T(M): 500℃; H2O-Con: 0vol%; SO2-Con: 0; O2-Con: 3.0vol%; Performance: Positive##', 'Molar Ratio: Ce to W = 1.5; Reac-Temp: 175℃; GHSV: 47000h-1; Dry-T(M): 110℃; Cal-T(M): 500℃; H2O-Con: 0vol%; SO2-Con: 0; O2-Con: 3.0vol%; Performance: Negative##', 'Molar Ratio: Ce to W = 0.67; Reac-Temp: 200℃; GHSV: 47000h-1; Dry-T(M): 110℃; Cal-T(M): 500℃; H2O-Con: 0vol%; SO2-Con: 0; O2-Con: 3.0vol%; Performance: Negative##', 'Molar Ratio: Ce to W = 1.5; Reac-Temp: 350℃; GHSV: 94000h-1; Dry-T(M): 110℃; Cal-T(M): 500℃; H2O-Con: 0vol%; SO2-Con: 0; O2-Con: 3.0vol%; Performance: Positive##', 'Molar Ratio: Ce to W = 0.2; Reac-Temp: 390℃; GHSV: 36000h-1; Dry-T(M): 105℃; Cal-T(M): 400℃; H2O-Con: 0vol%; SO2-Con: 0; O2-Con: 5.0vol%; Performance: Negative##', 'Molar Ratio: Ce to Mo = 1.0; Reac-Temp: 200℃; GHSV: 50000h-1; Dry-T(M): 110℃; Cal-T(M): 500℃; H2O-Con: 0vol%; SO2-Con: 0; O2-Con: 5.0vol%; Performance: Negative##', 'Molar Ratio: Ce to Mo = 1.67; Reac-Temp: 350℃; GHSV: 90000h-1; Dry-T(M): 80℃; Cal-T(M): 500℃; H2O-Con: 0vol%; SO2-Con: 1000; O2-Con: 3.0vol%; Performance: Negative##', 'Molar Ratio: Ce to Mo = 1.67; Reac-Temp: 400℃; GHSV: 90000h-1; Dry-T(M): 80℃; Cal-T(M): 500℃; H2O-Con: 0vol%; SO2-Con: 0; O2-Con: 3.0vol%; Performance: Positive##', 'Molar Ratio: Ce to Mo = 2.0; Reac-Temp: 300℃; GHSV: 50000h-1; Dry-T(M): 110℃; Cal-T(M): 500℃; H2O-Con: 5vol%; SO2-Con: 0; O2-Con: 5.0vol%; Performance: Positive##', 'Molar Ratio: Ce to Mo = 0.5; Reac-Temp: 100℃; GHSV: 50000h-1; Dry-T(M): 110℃; Cal-T(M): 500℃; H2O-Con: 0vol%; SO2-Con: 0; O2-Con: 5.0vol%; Performance: Negative##', 'Molar Ratio: Ce to Mo = 2.0; Reac-Temp: 150℃; GHSV: 50000h-1; Dry-T(M): 110℃; Cal-T(M): 500℃; H2O-Con: 5vol%; SO2-Con: 0; O2-Con: 5.0vol%; Performance: Positive##', 'Molar Ratio: Ce to Mo = 0.08; Reac-Temp: 325℃; GHSV: 75000h-1; Dry-T(M): 105℃; Cal-T(M): 500℃; H2O-Con: 0vol%; SO2-Con: 200; O2-Con: 5.0vol%; Performance: Positive##', 'Molar Ratio: Ce to Mo = 2.0; Reac-Temp: 250℃; GHSV: 100000h-1; Dry-T(M): 100℃; Cal-T(M): 500℃; H2O-Con: 0vol%; SO2-Con: 0; O2-Con: 5.0vol%; Performance: Negative##', 'Molar Ratio: Ce to Mo = 0.08; Reac-Temp: 300℃; GHSV: 75000h-1; Dry-T(M): 105℃; Cal-T(M): 500℃; H2O-Con: 0vol%; SO2-Con: 200; O2-Con: 5.0vol%; Performance: Positive##', 'Molar Ratio: Ce to Sn = 1.0; Reac-Temp: 250℃; GHSV: 20000h-1; Dry-T(M): 120℃; Cal-T(M): 300℃; H2O-Con: 0vol%; SO2-Con: 0; O2-Con: 5.0vol%; Performance: Positive##', 'Molar Ratio: Ce to Sn = 1.0; Reac-Temp: 350℃; GHSV: 20000h-1; Dry-T(M): 120℃; Cal-T(M): 400℃; H2O-Con: 0vol%; SO2-Con: 0; O2-Con: 5.0vol%; Performance: Positive##', 'Molar Ratio: Ce to Sn = 2.0; Reac-Temp: 240℃; GHSV: 50000h-1; Dry-T(M): 105℃; Cal-T(M): 500℃; H2O-Con: 0vol%; SO2-Con: 0; O2-Con: 5.0vol%; Performance: Negative##', 'Molar Ratio: Ce to Sn = 2.0; Reac-Temp: 200℃; GHSV: 60000h-1; Dry-T(M): 110℃; Cal-T(M): 450℃; H2O-Con: 0vol%; SO2-Con: 0; O2-Con: 5.0vol%; Performance: Negative##', 'Molar Ratio: Ce to Sn = 2.0; Reac-Temp: 100℃; GHSV: 20000h-1; Dry-T(M): 120℃; Cal-T(M): 400℃; H2O-Con: 0vol%; SO2-Con: 0; O2-Con: 5.0vol%; Performance: Negative##', 'Molar Ratio: Ce to Sn = 1.0; Reac-Temp: 300℃; GHSV: 20000h-1; Dry-T(M): 120℃; Cal-T(M): 400℃; H2O-Con: 5vol%; SO2-Con: 100; O2-Con: 5.0vol%; Performance: Positive##', 'Molar Ratio: Ce to Sn = 2.0; Reac-Temp: 280℃; GHSV: 50000h-1; Dry-T(M): 105℃; Cal-T(M): 500℃; H2O-Con: 0vol%; SO2-Con: 200; O2-Con: 5.0vol%; Performance: Negative##', 'Molar Ratio: Ce to Sn = 0.25; Reac-Temp: 400℃; GHSV: 60000h-1; Dry-T(M): 110℃; Cal-T(M): 500℃; H2O-Con: 0vol%; SO2-Con: 0; O2-Con: 3.0vol%; Performance: Positive##', 'Molar Ratio: Ce to Sn = 0.5; Reac-Temp: 300℃; GHSV: 20000h-1; Dry-T(M): 120℃; Cal-T(M): 400℃; H2O-Con: 0vol%; SO2-Con: 0; O2-Con: 5.0vol%; Performance: Positive##']\n",
      "['Molar Ratio: Ce to Ti = 0.09; Reac-Temp: 400℃; GHSV: 90000h-1; Dry-T(M): 80℃; Cal-T(M): 500℃; H2O-Con: 0vol%; SO2-Con: 0; O2-Con: 3.0vol%; Performance: Positive##', 'Molar Ratio: Ce to Ti = 0.1; Reac-Temp: 270℃; GHSV: 40000h-1; Dry-T(M): 105℃; Cal-T(M): 500℃; H2O-Con: 0vol%; SO2-Con: 0; O2-Con: 3.0vol%; Performance: Positive##', 'Molar Ratio: Ce to Ti = 0.47; Reac-Temp: 160℃; GHSV: 30000h-1; Dry-T(M): 105℃; Cal-T(M): 500℃; H2O-Con: 0vol%; SO2-Con: 0; O2-Con: 6.0vol%; Performance: Negative##', 'Molar Ratio: Ce to Ti = 20.0; Reac-Temp: 350℃; GHSV: 50000h-1; Dry-T(M): 80℃; Cal-T(M): 500℃; H2O-Con: 10vol%; SO2-Con: 500; O2-Con: 3.0vol%; Performance: Positive##', 'Molar Ratio: Ce to Ti = 0.05; Reac-Temp: 140℃; GHSV: 30000h-1; Dry-T(M): 105℃; Cal-T(M): 500℃; H2O-Con: 0vol%; SO2-Con: 0; O2-Con: 6.0vol%; Performance: Negative##', 'Molar Ratio: Ce to Ti = 0.3; Reac-Temp: 200℃; GHSV: 40000h-1; Dry-T(M): 105℃; Cal-T(M): 500℃; H2O-Con: 0vol%; SO2-Con: 0; O2-Con: 3.0vol%; Performance: Positive##', 'Molar Ratio: Ce to Ti = 0.05; Reac-Temp: 300℃; GHSV: 60000h-1; Dry-T(M): 110℃; Cal-T(M): 450℃; H2O-Con: 5vol%; SO2-Con: 100; O2-Con: 5.0vol%; Performance: Negative##', 'Molar Ratio: Ce to Ti = 0.05; Reac-Temp: 250℃; GHSV: 120000h-1; Dry-T(M): 243℃; Cal-T(M): 500℃; H2O-Con: 0vol%; SO2-Con: 0; O2-Con: 8.0vol%; Performance: Negative##', 'Molar Ratio: Ce to Ti = 0.05; Reac-Temp: 400℃; GHSV: 30000h-1; Dry-T(M): 105℃; Cal-T(M): 500℃; H2O-Con: 0vol%; SO2-Con: 0; O2-Con: 6.0vol%; Performance: Positive##', 'Molar Ratio: Ce to Mn = 0.67; Reac-Temp: 170℃; GHSV: 60000h-1; Dry-T(M): 80℃; Cal-T(M): 550℃; H2O-Con: 0vol%; SO2-Con: 0; O2-Con: 5.0vol%; Performance: Positive##', 'Molar Ratio: Ce to Mn = 1.5; Reac-Temp: 230℃; GHSV: 35000h-1; Dry-T(M): 105℃; Cal-T(M): 500℃; H2O-Con: 0vol%; SO2-Con: 0; O2-Con: 2.0vol%; Performance: Positive##', 'Molar Ratio: Ce to Mn = 1.5; Reac-Temp: 200℃; GHSV: 64000h-1; Dry-T(M): 120℃; Cal-T(M): 500℃; H2O-Con: 0vol%; SO2-Con: 0; O2-Con: 5.0vol%; Performance: Positive##', 'Molar Ratio: Ce to Mn = 4.0; Reac-Temp: 75℃; GHSV: 60000h-1; Dry-T(M): 110℃; Cal-T(M): 500℃; H2O-Con: 0vol%; SO2-Con: 0; O2-Con: 5.0vol%; Performance: Negative##', 'Molar Ratio: Ce to Mn = 1.5; Reac-Temp: 110℃; GHSV: 35000h-1; Dry-T(M): 105℃; Cal-T(M): 500℃; H2O-Con: 12vol%; SO2-Con: 100; O2-Con: 2.0vol%; Performance: Negative##', 'Molar Ratio: Ce to Mn = 0.67; Reac-Temp: 140℃; GHSV: 60000h-1; Dry-T(M): 80℃; Cal-T(M): 550℃; H2O-Con: 0vol%; SO2-Con: 0; O2-Con: 5.0vol%; Performance: Negative##', 'Molar Ratio: Ce to Mn = 1.0; Reac-Temp: 100℃; GHSV: 64000h-1; Dry-T(M): 120℃; Cal-T(M): 500℃; H2O-Con: 0vol%; SO2-Con: 0; O2-Con: 5.0vol%; Performance: Positive##', 'Molar Ratio: Ce to Mn = 0.33; Reac-Temp: 225℃; GHSV: 100000h-1; Dry-T(M): 100℃; Cal-T(M): 500℃; H2O-Con: 0vol%; SO2-Con: 0; O2-Con: 5.0vol%; Performance: Negative##', 'Molar Ratio: Ce to Mn = 0.2; Reac-Temp: 140℃; GHSV: 30000h-1; Dry-T(M): 100℃; Cal-T(M): 550℃; H2O-Con: 0vol%; SO2-Con: 0; O2-Con: 6.0vol%; Performance: Negative##', 'Molar Ratio: Ce to Fe = 0.05; Reac-Temp: 300℃; GHSV: 30000h-1; Dry-T(M): 105℃; Cal-T(M): 400℃; H2O-Con: 0vol%; SO2-Con: 0; O2-Con: 3.0vol%; Performance: Positive##', 'Molar Ratio: Ce to Fe = 0.43; Reac-Temp: 310℃; GHSV: 20000h-1; Dry-T(M): 110℃; Cal-T(M): 500℃; H2O-Con: 0vol%; SO2-Con: 0; O2-Con: 5.0vol%; Performance: Negative##', 'Molar Ratio: Ce to Fe = 0.56; Reac-Temp: 275℃; GHSV: 75000h-1; Dry-T(M): 105℃; Cal-T(M): 500℃; H2O-Con: 0vol%; SO2-Con: 200; O2-Con: 5.0vol%; Performance: Positive##', 'Molar Ratio: Ce to Fe = 1.0; Reac-Temp: 240℃; GHSV: 35000h-1; Dry-T(M): 140℃; Cal-T(M): 500℃; H2O-Con: 0vol%; SO2-Con: 0; O2-Con: 3.0vol%; Performance: Negative##', 'Molar Ratio: Ce to Fe = 0.43; Reac-Temp: 190℃; GHSV: 20000h-1; Dry-T(M): 110℃; Cal-T(M): 500℃; H2O-Con: 0vol%; SO2-Con: 0; O2-Con: 5.0vol%; Performance: Negative##', 'Molar Ratio: Ce to Fe = 0.05; Reac-Temp: 200℃; GHSV: 30000h-1; Dry-T(M): 105℃; Cal-T(M): 400℃; H2O-Con: 0vol%; SO2-Con: 0; O2-Con: 3.0vol%; Performance: Positive##', 'Molar Ratio: Ce to Fe = 0.56; Reac-Temp: 375℃; GHSV: 75000h-1; Dry-T(M): 105℃; Cal-T(M): 500℃; H2O-Con: 0vol%; SO2-Con: 200; O2-Con: 5.0vol%; Performance: Positive##', 'Molar Ratio: Ce to Fe = 0.56; Reac-Temp: 250℃; GHSV: 75000h-1; Dry-T(M): 105℃; Cal-T(M): 500℃; H2O-Con: 0vol%; SO2-Con: 200; O2-Con: 5.0vol%; Performance: Negative##', 'Molar Ratio: Ce to Fe = 0.43; Reac-Temp: 340℃; GHSV: 20000h-1; Dry-T(M): 110℃; Cal-T(M): 500℃; H2O-Con: 0vol%; SO2-Con: 0; O2-Con: 5.0vol%; Performance: Negative##', 'Molar Ratio: Ce to W = 0.67; Reac-Temp: 400℃; GHSV: 47000h-1; Dry-T(M): 110℃; Cal-T(M): 500℃; H2O-Con: 0vol%; SO2-Con: 0; O2-Con: 3.0vol%; Performance: Positive##', 'Molar Ratio: Ce to W = 1.5; Reac-Temp: 180℃; GHSV: 50000h-1; Dry-T(M): 110℃; Cal-T(M): 700℃; H2O-Con: 0vol%; SO2-Con: 0; O2-Con: 2.0vol%; Performance: Negative##', 'Molar Ratio: Ce to W = 1.5; Reac-Temp: 150℃; GHSV: 250000h-1; Dry-T(M): 100℃; Cal-T(M): 500℃; H2O-Con: 0vol%; SO2-Con: 0; O2-Con: 5.0vol%; Performance: Negative##', 'Molar Ratio: Ce to W = 1.5; Reac-Temp: 350℃; GHSV: 94000h-1; Dry-T(M): 110℃; Cal-T(M): 500℃; H2O-Con: 0vol%; SO2-Con: 0; O2-Con: 3.0vol%; Performance: Positive##', 'Molar Ratio: Ce to W = 1.5; Reac-Temp: 300℃; GHSV: 47000h-1; Dry-T(M): 110℃; Cal-T(M): 500℃; H2O-Con: 0vol%; SO2-Con: 200; O2-Con: 3.0vol%; Performance: Positive##', 'Molar Ratio: Ce to W = 1.5; Reac-Temp: 250℃; GHSV: 47000h-1; Dry-T(M): 110℃; Cal-T(M): 500℃; H2O-Con: 0vol%; SO2-Con: 0; O2-Con: 3.0vol%; Performance: Positive##', 'Molar Ratio: Ce to W = 1.5; Reac-Temp: 80℃; GHSV: 50000h-1; Dry-T(M): 110℃; Cal-T(M): 500℃; H2O-Con: 0vol%; SO2-Con: 0; O2-Con: 2.0vol%; Performance: Negative##', 'Molar Ratio: Ce to W = 1.0; Reac-Temp: 200℃; GHSV: 300000h-1; Dry-T(M): 100℃; Cal-T(M): 500℃; H2O-Con: 0vol%; SO2-Con: 0; O2-Con: 5.0vol%; Performance: Negative##', 'Molar Ratio: Ce to W = 0.2; Reac-Temp: 390℃; GHSV: 36000h-1; Dry-T(M): 105℃; Cal-T(M): 400℃; H2O-Con: 0vol%; SO2-Con: 0; O2-Con: 5.0vol%; Performance: Negative##', 'Molar Ratio: Ce to Mo = 0.08; Reac-Temp: 275℃; GHSV: 75000h-1; Dry-T(M): 105℃; Cal-T(M): 500℃; H2O-Con: 0vol%; SO2-Con: 0; O2-Con: 5.0vol%; Performance: Positive##', 'Molar Ratio: Ce to Mo = 1.67; Reac-Temp: 350℃; GHSV: 90000h-1; Dry-T(M): 80℃; Cal-T(M): 500℃; H2O-Con: 10vol%; SO2-Con: 0; O2-Con: 3.0vol%; Performance: Positive##', 'Molar Ratio: Ce to Mo = 1.67; Reac-Temp: 300℃; GHSV: 90000h-1; Dry-T(M): 80℃; Cal-T(M): 500℃; H2O-Con: 10vol%; SO2-Con: 0; O2-Con: 3.0vol%; Performance: Negative##', 'Molar Ratio: Ce to Mo = 3.0; Reac-Temp: 100℃; GHSV: 50000h-1; Dry-T(M): 110℃; Cal-T(M): 500℃; H2O-Con: 0vol%; SO2-Con: 0; O2-Con: 5.0vol%; Performance: Negative##', 'Molar Ratio: Ce to Mo = 2.0; Reac-Temp: 150℃; GHSV: 50000h-1; Dry-T(M): 110℃; Cal-T(M): 500℃; H2O-Con: 0vol%; SO2-Con: 100; O2-Con: 5.0vol%; Performance: Positive##', 'Molar Ratio: Ce to Mo = 4.0; Reac-Temp: 250℃; GHSV: 50000h-1; Dry-T(M): 110℃; Cal-T(M): 500℃; H2O-Con: 0vol%; SO2-Con: 0; O2-Con: 5.0vol%; Performance: Positive##', 'Molar Ratio: Ce to Mo = 0.08; Reac-Temp: 175℃; GHSV: 75000h-1; Dry-T(M): 105℃; Cal-T(M): 500℃; H2O-Con: 0vol%; SO2-Con: 200; O2-Con: 5.0vol%; Performance: Negative##', 'Molar Ratio: Ce to Mo = 1.67; Reac-Temp: 400℃; GHSV: 90000h-1; Dry-T(M): 110℃; Cal-T(M): 500℃; H2O-Con: 0vol%; SO2-Con: 0; O2-Con: 3.0vol%; Performance: Negative##', 'Molar Ratio: Ce to Mo = 0.08; Reac-Temp: 300℃; GHSV: 75000h-1; Dry-T(M): 105℃; Cal-T(M): 500℃; H2O-Con: 0vol%; SO2-Con: 200; O2-Con: 5.0vol%; Performance: Positive##', 'Molar Ratio: Ce to Sn = 0.5; Reac-Temp: 350℃; GHSV: 20000h-1; Dry-T(M): 120℃; Cal-T(M): 400℃; H2O-Con: 0vol%; SO2-Con: 0; O2-Con: 5.0vol%; Performance: Positive##', 'Molar Ratio: Ce to Sn = 1.0; Reac-Temp: 160℃; GHSV: 50000h-1; Dry-T(M): 105℃; Cal-T(M): 500℃; H2O-Con: 0vol%; SO2-Con: 0; O2-Con: 5.0vol%; Performance: Negative##', 'Molar Ratio: Ce to Sn = 1.0; Reac-Temp: 300℃; GHSV: 20000h-1; Dry-T(M): 120℃; Cal-T(M): 400℃; H2O-Con: 0vol%; SO2-Con: 0; O2-Con: 5.0vol%; Performance: Positive##', 'Molar Ratio: Ce to Sn = 4.0; Reac-Temp: 250℃; GHSV: 20000h-1; Dry-T(M): 120℃; Cal-T(M): 400℃; H2O-Con: 0vol%; SO2-Con: 0; O2-Con: 5.0vol%; Performance: Positive##', 'Molar Ratio: Ce to Sn = 0.5; Reac-Temp: 200℃; GHSV: 20000h-1; Dry-T(M): 120℃; Cal-T(M): 400℃; H2O-Con: 0vol%; SO2-Con: 0; O2-Con: 5.0vol%; Performance: Negative##', 'Molar Ratio: Ce to Sn = 2.0; Reac-Temp: 360℃; GHSV: 50000h-1; Dry-T(M): 105℃; Cal-T(M): 500℃; H2O-Con: 5vol%; SO2-Con: 200; O2-Con: 5.0vol%; Performance: Negative##', 'Molar Ratio: Ce to Sn = 2.0; Reac-Temp: 125℃; GHSV: 60000h-1; Dry-T(M): 110℃; Cal-T(M): 450℃; H2O-Con: 0vol%; SO2-Con: 0; O2-Con: 5.0vol%; Performance: Negative##', 'Molar Ratio: Ce to Sn = 1.32; Reac-Temp: 150℃; GHSV: 60000h-1; Dry-T(M): 110℃; Cal-T(M): 500℃; H2O-Con: 0vol%; SO2-Con: 100; O2-Con: 3.0vol%; Performance: Positive##', 'Molar Ratio: Ce to Sn = 0.5; Reac-Temp: 300℃; GHSV: 20000h-1; Dry-T(M): 120℃; Cal-T(M): 400℃; H2O-Con: 0vol%; SO2-Con: 0; O2-Con: 5.0vol%; Performance: Positive##']\n",
      "['Molar Ratio: Ce to Ti = 0.09; Reac-Temp: 400℃; GHSV: 90000h-1; Dry-T(M): 80℃; Cal-T(M): 500℃; H2O-Con: 0vol%; SO2-Con: 0; O2-Con: 3.0vol%; Performance: Positive##', 'Molar Ratio: Ce to Ti = 0.3; Reac-Temp: 150℃; GHSV: 25000h-1; Dry-T(M): 100℃; Cal-T(M): 650℃; H2O-Con: 0vol%; SO2-Con: 0; O2-Con: 5.3vol%; Performance: Negative##', 'Molar Ratio: Ce to Ti = 0.5; Reac-Temp: 225℃; GHSV: 25000h-1; Dry-T(M): 100℃; Cal-T(M): 500℃; H2O-Con: 0vol%; SO2-Con: 0; O2-Con: 5.3vol%; Performance: Positive##', 'Molar Ratio: Ce to Ti = 20.0; Reac-Temp: 350℃; GHSV: 50000h-1; Dry-T(M): 80℃; Cal-T(M): 500℃; H2O-Con: 10vol%; SO2-Con: 500; O2-Con: 3.0vol%; Performance: Negative##', 'Molar Ratio: Ce to Ti = 0.2; Reac-Temp: 200℃; GHSV: 25000h-1; Dry-T(M): 100℃; Cal-T(M): 500℃; H2O-Con: 0vol%; SO2-Con: 0; O2-Con: 5.3vol%; Performance: Positive##', 'Molar Ratio: Ce to Ti = 0.47; Reac-Temp: 270℃; GHSV: 30000h-1; Dry-T(M): 105℃; Cal-T(M): 500℃; H2O-Con: 5vol%; SO2-Con: 300; O2-Con: 6.0vol%; Performance: Positive##', 'Molar Ratio: Ce to Ti = 0.05; Reac-Temp: 100℃; GHSV: 60000h-1; Dry-T(M): 110℃; Cal-T(M): 450℃; H2O-Con: 0vol%; SO2-Con: 0; O2-Con: 5.0vol%; Performance: Negative##', 'Molar Ratio: Ce to Ti = 20.0; Reac-Temp: 300℃; GHSV: 90000h-1; Dry-T(M): 80℃; Cal-T(M): 500℃; H2O-Con: 10vol%; SO2-Con: 0; O2-Con: 3.0vol%; Performance: Negative##', 'Molar Ratio: Ce to Ti = 0.05; Reac-Temp: 400℃; GHSV: 30000h-1; Dry-T(M): 105℃; Cal-T(M): 500℃; H2O-Con: 0vol%; SO2-Con: 0; O2-Con: 6.0vol%; Performance: Positive##', 'Molar Ratio: Ce to Mn = 0.33; Reac-Temp: 125℃; GHSV: 50000h-1; Dry-T(M): 100℃; Cal-T(M): 500℃; H2O-Con: 0vol%; SO2-Con: 0; O2-Con: 5.0vol%; Performance: Positive##', 'Molar Ratio: Ce to Mn = 1.0; Reac-Temp: 150℃; GHSV: 64000h-1; Dry-T(M): 120℃; Cal-T(M): 500℃; H2O-Con: 5vol%; SO2-Con: 0; O2-Con: 5.0vol%; Performance: Positive##', 'Molar Ratio: Ce to Mn = 2.33; Reac-Temp: 100℃; GHSV: 64000h-1; Dry-T(M): 120℃; Cal-T(M): 500℃; H2O-Con: 0vol%; SO2-Con: 0; O2-Con: 5.0vol%; Performance: Negative##', 'Molar Ratio: Ce to Mn = 4.0; Reac-Temp: 275℃; GHSV: 60000h-1; Dry-T(M): 110℃; Cal-T(M): 500℃; H2O-Con: 0vol%; SO2-Con: 0; O2-Con: 5.0vol%; Performance: Negative##', 'Molar Ratio: Ce to Mn = 1.5; Reac-Temp: 170℃; GHSV: 35000h-1; Dry-T(M): 105℃; Cal-T(M): 500℃; H2O-Con: 0vol%; SO2-Con: 0; O2-Con: 2.0vol%; Performance: Positive##', 'Molar Ratio: Ce to Mn = 0.67; Reac-Temp: 200℃; GHSV: 60000h-1; Dry-T(M): 80℃; Cal-T(M): 550℃; H2O-Con: 0vol%; SO2-Con: 0; O2-Con: 5.0vol%; Performance: Positive##', 'Molar Ratio: Ce to Mn = 0.67; Reac-Temp: 110℃; GHSV: 60000h-1; Dry-T(M): 80℃; Cal-T(M): 550℃; H2O-Con: 0vol%; SO2-Con: 0; O2-Con: 5.0vol%; Performance: Negative##', 'Molar Ratio: Ce to Mn = 2.33; Reac-Temp: 250℃; GHSV: 64000h-1; Dry-T(M): 120℃; Cal-T(M): 500℃; H2O-Con: 0vol%; SO2-Con: 0; O2-Con: 5.0vol%; Performance: Negative##', 'Molar Ratio: Ce to Mn = 0.2; Reac-Temp: 140℃; GHSV: 30000h-1; Dry-T(M): 100℃; Cal-T(M): 550℃; H2O-Con: 0vol%; SO2-Con: 0; O2-Con: 6.0vol%; Performance: Negative##', 'Molar Ratio: Ce to Fe = 0.05; Reac-Temp: 100℃; GHSV: 30000h-1; Dry-T(M): 105℃; Cal-T(M): 400℃; H2O-Con: 0vol%; SO2-Con: 0; O2-Con: 3.0vol%; Performance: Negative##', 'Molar Ratio: Ce to Fe = 0.43; Reac-Temp: 340℃; GHSV: 20000h-1; Dry-T(M): 110℃; Cal-T(M): 500℃; H2O-Con: 0vol%; SO2-Con: 0; O2-Con: 5.0vol%; Performance: Negative##', 'Molar Ratio: Ce to Fe = 0.56; Reac-Temp: 350℃; GHSV: 75000h-1; Dry-T(M): 105℃; Cal-T(M): 500℃; H2O-Con: 0vol%; SO2-Con: 200; O2-Con: 5.0vol%; Performance: Positive##', 'Molar Ratio: Ce to Fe = 0.56; Reac-Temp: 225℃; GHSV: 75000h-1; Dry-T(M): 105℃; Cal-T(M): 500℃; H2O-Con: 0vol%; SO2-Con: 200; O2-Con: 5.0vol%; Performance: Negative##', 'Molar Ratio: Ce to Fe = 0.43; Reac-Temp: 250℃; GHSV: 20000h-1; Dry-T(M): 110℃; Cal-T(M): 500℃; H2O-Con: 0vol%; SO2-Con: 0; O2-Con: 5.0vol%; Performance: Positive##', 'Molar Ratio: Ce to Fe = 0.05; Reac-Temp: 150℃; GHSV: 30000h-1; Dry-T(M): 105℃; Cal-T(M): 450℃; H2O-Con: 0vol%; SO2-Con: 0; O2-Con: 3.0vol%; Performance: Negative##', 'Molar Ratio: Ce to Fe = 0.05; Reac-Temp: 300℃; GHSV: 30000h-1; Dry-T(M): 105℃; Cal-T(M): 450℃; H2O-Con: 0vol%; SO2-Con: 0; O2-Con: 3.0vol%; Performance: Positive##', 'Molar Ratio: Ce to Fe = 0.56; Reac-Temp: 375℃; GHSV: 75000h-1; Dry-T(M): 105℃; Cal-T(M): 500℃; H2O-Con: 0vol%; SO2-Con: 200; O2-Con: 5.0vol%; Performance: Positive##', 'Molar Ratio: Ce to Fe = 0.43; Reac-Temp: 340℃; GHSV: 20000h-1; Dry-T(M): 110℃; Cal-T(M): 500℃; H2O-Con: 0vol%; SO2-Con: 0; O2-Con: 5.0vol%; Performance: Negative##', 'Molar Ratio: Ce to W = 0.25; Reac-Temp: 300℃; GHSV: 47000h-1; Dry-T(M): 110℃; Cal-T(M): 500℃; H2O-Con: 0vol%; SO2-Con: 0; O2-Con: 3.0vol%; Performance: Positive##', 'Molar Ratio: Ce to W = 1.5; Reac-Temp: 200℃; GHSV: 50000h-1; Dry-T(M): 110℃; Cal-T(M): 500℃; H2O-Con: 0vol%; SO2-Con: 0; O2-Con: 2.0vol%; Performance: Negative##', 'Molar Ratio: Ce to W = 1.5; Reac-Temp: 340℃; GHSV: 50000h-1; Dry-T(M): 110℃; Cal-T(M): 500℃; H2O-Con: 0vol%; SO2-Con: 0; O2-Con: 2.0vol%; Performance: Positive##', 'Molar Ratio: Ce to W = 1.5; Reac-Temp: 400℃; GHSV: 250000h-1; Dry-T(M): 100℃; Cal-T(M): 500℃; H2O-Con: 0vol%; SO2-Con: 0; O2-Con: 5.0vol%; Performance: Negative##', 'Molar Ratio: Ce to W = 4.0; Reac-Temp: 150℃; GHSV: 47000h-1; Dry-T(M): 110℃; Cal-T(M): 500℃; H2O-Con: 0vol%; SO2-Con: 0; O2-Con: 3.0vol%; Performance: Negative##', 'Molar Ratio: Ce to W = 1.5; Reac-Temp: 175℃; GHSV: 47000h-1; Dry-T(M): 110℃; Cal-T(M): 500℃; H2O-Con: 0vol%; SO2-Con: 0; O2-Con: 3.0vol%; Performance: Negative##', 'Molar Ratio: Ce to W = 1.5; Reac-Temp: 250℃; GHSV: 94000h-1; Dry-T(M): 110℃; Cal-T(M): 500℃; H2O-Con: 0vol%; SO2-Con: 0; O2-Con: 3.0vol%; Performance: Positive##', 'Molar Ratio: Ce to W = 1.0; Reac-Temp: 350℃; GHSV: 300000h-1; Dry-T(M): 100℃; Cal-T(M): 500℃; H2O-Con: 0vol%; SO2-Con: 0; O2-Con: 5.0vol%; Performance: Positive##', 'Molar Ratio: Ce to W = 0.2; Reac-Temp: 390℃; GHSV: 36000h-1; Dry-T(M): 105℃; Cal-T(M): 400℃; H2O-Con: 0vol%; SO2-Con: 0; O2-Con: 5.0vol%; Performance: Negative##', 'Molar Ratio: Ce to Mo = 0.08; Reac-Temp: 200℃; GHSV: 75000h-1; Dry-T(M): 105℃; Cal-T(M): 500℃; H2O-Con: 0vol%; SO2-Con: 0; O2-Con: 5.0vol%; Performance: Negative##', 'Molar Ratio: Ce to Mo = 1.67; Reac-Temp: 250℃; GHSV: 90000h-1; Dry-T(M): 110℃; Cal-T(M): 500℃; H2O-Con: 0vol%; SO2-Con: 0; O2-Con: 3.0vol%; Performance: Negative##', 'Molar Ratio: Ce to Mo = 1.67; Reac-Temp: 350℃; GHSV: 90000h-1; Dry-T(M): 80℃; Cal-T(M): 500℃; H2O-Con: 0vol%; SO2-Con: 1000; O2-Con: 3.0vol%; Performance: Negative##', 'Molar Ratio: Ce to Mo = 3.0; Reac-Temp: 300℃; GHSV: 50000h-1; Dry-T(M): 110℃; Cal-T(M): 500℃; H2O-Con: 0vol%; SO2-Con: 0; O2-Con: 5.0vol%; Performance: Positive##', 'Molar Ratio: Ce to Mo = 2.0; Reac-Temp: 150℃; GHSV: 50000h-1; Dry-T(M): 110℃; Cal-T(M): 500℃; H2O-Con: 0vol%; SO2-Con: 100; O2-Con: 5.0vol%; Performance: Positive##', 'Molar Ratio: Ce to Mo = 0.08; Reac-Temp: 225℃; GHSV: 75000h-1; Dry-T(M): 105℃; Cal-T(M): 500℃; H2O-Con: 0vol%; SO2-Con: 200; O2-Con: 5.0vol%; Performance: Negative##', 'Molar Ratio: Ce to Mo = 0.08; Reac-Temp: 275℃; GHSV: 75000h-1; Dry-T(M): 105℃; Cal-T(M): 500℃; H2O-Con: 0vol%; SO2-Con: 0; O2-Con: 5.0vol%; Performance: Positive##', 'Molar Ratio: Ce to Mo = 1.67; Reac-Temp: 400℃; GHSV: 90000h-1; Dry-T(M): 110℃; Cal-T(M): 500℃; H2O-Con: 10vol%; SO2-Con: 0; O2-Con: 3.0vol%; Performance: Positive##', 'Molar Ratio: Ce to Mo = 0.08; Reac-Temp: 300℃; GHSV: 75000h-1; Dry-T(M): 105℃; Cal-T(M): 500℃; H2O-Con: 0vol%; SO2-Con: 200; O2-Con: 5.0vol%; Performance: Positive##', 'Molar Ratio: Ce to Sn = 0.5; Reac-Temp: 360℃; GHSV: 50000h-1; Dry-T(M): 105℃; Cal-T(M): 500℃; H2O-Con: 0vol%; SO2-Con: 0; O2-Con: 5.0vol%; Performance: Negative##', 'Molar Ratio: Ce to Sn = 1.0; Reac-Temp: 220℃; GHSV: 35000h-1; Dry-T(M): [MISSING]℃; Cal-T(M): 500℃; H2O-Con: 9vol%; SO2-Con: 100; O2-Con: 2.0vol%; Performance: Negative##', 'Molar Ratio: Ce to Sn = 1.32; Reac-Temp: 400℃; GHSV: 60000h-1; Dry-T(M): 110℃; Cal-T(M): 500℃; H2O-Con: 0vol%; SO2-Con: 0; O2-Con: 3.0vol%; Performance: Positive##', 'Molar Ratio: Ce to Sn = 2.0; Reac-Temp: 240℃; GHSV: 50000h-1; Dry-T(M): 105℃; Cal-T(M): 500℃; H2O-Con: 0vol%; SO2-Con: 200; O2-Con: 5.0vol%; Performance: Negative##', 'Molar Ratio: Ce to Sn = 4.0; Reac-Temp: 350℃; GHSV: 20000h-1; Dry-T(M): 120℃; Cal-T(M): 400℃; H2O-Con: 0vol%; SO2-Con: 0; O2-Con: 5.0vol%; Performance: Positive##', 'Molar Ratio: Ce to Sn = 1.0; Reac-Temp: 300℃; GHSV: 20000h-1; Dry-T(M): 120℃; Cal-T(M): 400℃; H2O-Con: 0vol%; SO2-Con: 100; O2-Con: 5.0vol%; Performance: Positive##', 'Molar Ratio: Ce to Sn = 2.0; Reac-Temp: 160℃; GHSV: 50000h-1; Dry-T(M): 105℃; Cal-T(M): 500℃; H2O-Con: 5vol%; SO2-Con: 0; O2-Con: 5.0vol%; Performance: Negative##', 'Molar Ratio: Ce to Sn = 1.32; Reac-Temp: 200℃; GHSV: 60000h-1; Dry-T(M): 110℃; Cal-T(M): 500℃; H2O-Con: 0vol%; SO2-Con: 100; O2-Con: 3.0vol%; Performance: Positive##', 'Molar Ratio: Ce to Sn = 0.5; Reac-Temp: 300℃; GHSV: 20000h-1; Dry-T(M): 120℃; Cal-T(M): 400℃; H2O-Con: 0vol%; SO2-Con: 0; O2-Con: 5.0vol%; Performance: Positive##']\n",
      "['Molar Ratio: Ce to Ti = 0.05; Reac-Temp: 160℃; GHSV: 30000h-1; Dry-T(M): 105℃; Cal-T(M): 500℃; H2O-Con: 0vol%; SO2-Con: 0; O2-Con: 6.0vol%; Performance: Negative##', 'Molar Ratio: Ce to Ti = 0.1; Reac-Temp: 270℃; GHSV: 40000h-1; Dry-T(M): 105℃; Cal-T(M): 500℃; H2O-Con: 0vol%; SO2-Con: 0; O2-Con: 3.0vol%; Performance: Positive##', 'Molar Ratio: Ce to Ti = 0.5; Reac-Temp: 200℃; GHSV: 25000h-1; Dry-T(M): 100℃; Cal-T(M): 500℃; H2O-Con: 0vol%; SO2-Con: 0; O2-Con: 5.3vol%; Performance: Positive##', 'Molar Ratio: Ce to Ti = 9.3; Reac-Temp: 350℃; GHSV: 90000h-1; Dry-T(M): 80℃; Cal-T(M): 500℃; H2O-Con: 10vol%; SO2-Con: 200; O2-Con: 3.0vol%; Performance: Negative##', 'Molar Ratio: Ce to Ti = 0.3; Reac-Temp: 175℃; GHSV: 25000h-1; Dry-T(M): 100℃; Cal-T(M): 500℃; H2O-Con: 0vol%; SO2-Con: 0; O2-Con: 5.3vol%; Performance: Positive##', 'Molar Ratio: Ce to Ti = 0.05; Reac-Temp: 260℃; GHSV: 30000h-1; Dry-T(M): 105℃; Cal-T(M): 500℃; H2O-Con: 0vol%; SO2-Con: 0; O2-Con: 6.0vol%; Performance: Positive##', 'Molar Ratio: Ce to Ti = 9.3; Reac-Temp: 450℃; GHSV: 90000h-1; Dry-T(M): 80℃; Cal-T(M): 500℃; H2O-Con: 0vol%; SO2-Con: 0; O2-Con: 3.0vol%; Performance: Negative##', 'Molar Ratio: Ce to Ti = 9.3; Reac-Temp: 250℃; GHSV: 90000h-1; Dry-T(M): 80℃; Cal-T(M): 500℃; H2O-Con: 10vol%; SO2-Con: 0; O2-Con: 3.0vol%; Performance: Negative##', 'Molar Ratio: Ce to Ti = 0.05; Reac-Temp: 400℃; GHSV: 30000h-1; Dry-T(M): 105℃; Cal-T(M): 500℃; H2O-Con: 0vol%; SO2-Con: 0; O2-Con: 6.0vol%; Performance: Positive##', 'Molar Ratio: Ce to Mn = 0.2; Reac-Temp: 180℃; GHSV: 30000h-1; Dry-T(M): 100℃; Cal-T(M): 550℃; H2O-Con: 7vol%; SO2-Con: 0; O2-Con: 6.0vol%; Performance: Negative##', 'Molar Ratio: Ce to Mn = 1.0; Reac-Temp: 150℃; GHSV: 64000h-1; Dry-T(M): 120℃; Cal-T(M): 500℃; H2O-Con: 5vol%; SO2-Con: 0; O2-Con: 5.0vol%; Performance: Positive##', 'Molar Ratio: Ce to Mn = 1.5; Reac-Temp: 170℃; GHSV: 35000h-1; Dry-T(M): 105℃; Cal-T(M): 500℃; H2O-Con: 0vol%; SO2-Con: 0; O2-Con: 2.0vol%; Performance: Positive##', 'Molar Ratio: Ce to Mn = 2.33; Reac-Temp: 100℃; GHSV: 64000h-1; Dry-T(M): 120℃; Cal-T(M): 500℃; H2O-Con: 0vol%; SO2-Con: 0; O2-Con: 5.0vol%; Performance: Negative##', 'Molar Ratio: Ce to Mn = 1.5; Reac-Temp: 110℃; GHSV: 35000h-1; Dry-T(M): 105℃; Cal-T(M): 500℃; H2O-Con: 12vol%; SO2-Con: 100; O2-Con: 2.0vol%; Performance: Negative##', 'Molar Ratio: Ce to Mn = 0.33; Reac-Temp: 125℃; GHSV: 50000h-1; Dry-T(M): 100℃; Cal-T(M): 500℃; H2O-Con: 0vol%; SO2-Con: 0; O2-Con: 5.0vol%; Performance: Positive##', 'Molar Ratio: Ce to Mn = 4.0; Reac-Temp: 50℃; GHSV: 60000h-1; Dry-T(M): 110℃; Cal-T(M): 500℃; H2O-Con: 0vol%; SO2-Con: 0; O2-Con: 5.0vol%; Performance: Negative##', 'Molar Ratio: Ce to Mn = 2.33; Reac-Temp: 200℃; GHSV: 64000h-1; Dry-T(M): 120℃; Cal-T(M): 500℃; H2O-Con: 0vol%; SO2-Con: 0; O2-Con: 5.0vol%; Performance: Positive##', 'Molar Ratio: Ce to Mn = 0.2; Reac-Temp: 140℃; GHSV: 30000h-1; Dry-T(M): 100℃; Cal-T(M): 550℃; H2O-Con: 0vol%; SO2-Con: 0; O2-Con: 6.0vol%; Performance: Negative##', 'Molar Ratio: Ce to Fe = 0.05; Reac-Temp: 200℃; GHSV: 30000h-1; Dry-T(M): 105℃; Cal-T(M): 400℃; H2O-Con: 0vol%; SO2-Con: 0; O2-Con: 3.0vol%; Performance: Positive##', 'Molar Ratio: Ce to Fe = 0.43; Reac-Temp: 190℃; GHSV: 20000h-1; Dry-T(M): 110℃; Cal-T(M): 500℃; H2O-Con: 0vol%; SO2-Con: 0; O2-Con: 5.0vol%; Performance: Negative##', 'Molar Ratio: Ce to Fe = 0.56; Reac-Temp: 225℃; GHSV: 75000h-1; Dry-T(M): 105℃; Cal-T(M): 500℃; H2O-Con: 0vol%; SO2-Con: 0; O2-Con: 5.0vol%; Performance: Negative##', 'Molar Ratio: Ce to Fe = 0.56; Reac-Temp: 175℃; GHSV: 75000h-1; Dry-T(M): 105℃; Cal-T(M): 500℃; H2O-Con: 0vol%; SO2-Con: 200; O2-Con: 5.0vol%; Performance: Negative##', 'Molar Ratio: Ce to Fe = 0.43; Reac-Temp: 340℃; GHSV: 20000h-1; Dry-T(M): 110℃; Cal-T(M): 500℃; H2O-Con: 0vol%; SO2-Con: 0; O2-Con: 5.0vol%; Performance: Negative##', 'Molar Ratio: Ce to Fe = 0.43; Reac-Temp: 250℃; GHSV: 20000h-1; Dry-T(M): 110℃; Cal-T(M): 500℃; H2O-Con: 0vol%; SO2-Con: 0; O2-Con: 5.0vol%; Performance: Positive##', 'Molar Ratio: Ce to Fe = 0.56; Reac-Temp: 300℃; GHSV: 75000h-1; Dry-T(M): 105℃; Cal-T(M): 500℃; H2O-Con: 0vol%; SO2-Con: 200; O2-Con: 5.0vol%; Performance: Positive##', 'Molar Ratio: Ce to Fe = 0.56; Reac-Temp: 350℃; GHSV: 75000h-1; Dry-T(M): 105℃; Cal-T(M): 500℃; H2O-Con: 0vol%; SO2-Con: 200; O2-Con: 5.0vol%; Performance: Positive##', 'Molar Ratio: Ce to Fe = 0.43; Reac-Temp: 310℃; GHSV: 20000h-1; Dry-T(M): 110℃; Cal-T(M): 500℃; H2O-Con: 0vol%; SO2-Con: 0; O2-Con: 5.0vol%; Performance: Negative##', 'Molar Ratio: Ce to W = 0.2; Reac-Temp: 240℃; GHSV: 36000h-1; Dry-T(M): 105℃; Cal-T(M): 400℃; H2O-Con: 0vol%; SO2-Con: 0; O2-Con: 5.0vol%; Performance: Negative##', 'Molar Ratio: Ce to W = 1.5; Reac-Temp: 260℃; GHSV: 50000h-1; Dry-T(M): 110℃; Cal-T(M): 700℃; H2O-Con: 0vol%; SO2-Con: 0; O2-Con: 2.0vol%; Performance: Negative##', 'Molar Ratio: Ce to W = 1.5; Reac-Temp: 250℃; GHSV: 94000h-1; Dry-T(M): 110℃; Cal-T(M): 500℃; H2O-Con: 0vol%; SO2-Con: 0; O2-Con: 3.0vol%; Performance: Positive##', 'Molar Ratio: Ce to W = 1.5; Reac-Temp: 400℃; GHSV: 94000h-1; Dry-T(M): 110℃; Cal-T(M): 500℃; H2O-Con: 0vol%; SO2-Con: 0; O2-Con: 3.0vol%; Performance: Positive##', 'Molar Ratio: Ce to W = 0.2; Reac-Temp: 390℃; GHSV: 36000h-1; Dry-T(M): 105℃; Cal-T(M): 400℃; H2O-Con: 0vol%; SO2-Con: 0; O2-Con: 5.0vol%; Performance: Negative##', 'Molar Ratio: Ce to W = 1.5; Reac-Temp: 300℃; GHSV: 47000h-1; Dry-T(M): 110℃; Cal-T(M): 500℃; H2O-Con: 0vol%; SO2-Con: 200; O2-Con: 3.0vol%; Performance: Positive##', 'Molar Ratio: Ce to W = 1.5; Reac-Temp: 200℃; GHSV: 50000h-1; Dry-T(M): 110℃; Cal-T(M): 700℃; H2O-Con: 0vol%; SO2-Con: 0; O2-Con: 2.0vol%; Performance: Negative##', 'Molar Ratio: Ce to W = 1.5; Reac-Temp: 350℃; GHSV: 94000h-1; Dry-T(M): 110℃; Cal-T(M): 500℃; H2O-Con: 0vol%; SO2-Con: 0; O2-Con: 3.0vol%; Performance: Positive##', 'Molar Ratio: Ce to W = 1.0; Reac-Temp: 450℃; GHSV: 600000h-1; Dry-T(M): 100℃; Cal-T(M): 500℃; H2O-Con: 0vol%; SO2-Con: 0; O2-Con: 5.0vol%; Performance: Negative##', 'Molar Ratio: Ce to Mo = 0.08; Reac-Temp: 225℃; GHSV: 75000h-1; Dry-T(M): 105℃; Cal-T(M): 500℃; H2O-Con: 0vol%; SO2-Con: 0; O2-Con: 5.0vol%; Performance: Positive##', 'Molar Ratio: Ce to Mo = 1.67; Reac-Temp: 250℃; GHSV: 90000h-1; Dry-T(M): 110℃; Cal-T(M): 500℃; H2O-Con: 0vol%; SO2-Con: 0; O2-Con: 3.0vol%; Performance: Negative##', 'Molar Ratio: Ce to Mo = 1.67; Reac-Temp: 200℃; GHSV: 90000h-1; Dry-T(M): 110℃; Cal-T(M): 500℃; H2O-Con: 0vol%; SO2-Con: 0; O2-Con: 3.0vol%; Performance: Negative##', 'Molar Ratio: Ce to Mo = 4.0; Reac-Temp: 350℃; GHSV: 50000h-1; Dry-T(M): 110℃; Cal-T(M): 500℃; H2O-Con: 0vol%; SO2-Con: 0; O2-Con: 5.0vol%; Performance: Positive##', 'Molar Ratio: Ce to Mo = 2.0; Reac-Temp: 150℃; GHSV: 50000h-1; Dry-T(M): 110℃; Cal-T(M): 500℃; H2O-Con: 5vol%; SO2-Con: 0; O2-Con: 5.0vol%; Performance: Positive##', 'Molar Ratio: Ce to Mo = 0.08; Reac-Temp: 175℃; GHSV: 75000h-1; Dry-T(M): 105℃; Cal-T(M): 500℃; H2O-Con: 0vol%; SO2-Con: 0; O2-Con: 5.0vol%; Performance: Negative##', 'Molar Ratio: Ce to Mo = 1.67; Reac-Temp: 300℃; GHSV: 90000h-1; Dry-T(M): 110℃; Cal-T(M): 500℃; H2O-Con: 10vol%; SO2-Con: 0; O2-Con: 3.0vol%; Performance: Negative##', 'Molar Ratio: Ce to Mo = 1.67; Reac-Temp: 400℃; GHSV: 90000h-1; Dry-T(M): 80℃; Cal-T(M): 500℃; H2O-Con: 0vol%; SO2-Con: 0; O2-Con: 3.0vol%; Performance: Positive##', 'Molar Ratio: Ce to Mo = 0.08; Reac-Temp: 300℃; GHSV: 75000h-1; Dry-T(M): 105℃; Cal-T(M): 500℃; H2O-Con: 0vol%; SO2-Con: 200; O2-Con: 5.0vol%; Performance: Positive##', 'Molar Ratio: Ce to Sn = 0.25; Reac-Temp: 400℃; GHSV: 60000h-1; Dry-T(M): 110℃; Cal-T(M): 500℃; H2O-Con: 0vol%; SO2-Con: 0; O2-Con: 3.0vol%; Performance: Positive##', 'Molar Ratio: Ce to Sn = 1.0; Reac-Temp: 100℃; GHSV: 20000h-1; Dry-T(M): 120℃; Cal-T(M): 400℃; H2O-Con: 0vol%; SO2-Con: 0; O2-Con: 5.0vol%; Performance: Negative##', 'Molar Ratio: Ce to Sn = 1.0; Reac-Temp: 170℃; GHSV: 35000h-1; Dry-T(M): [MISSING]℃; Cal-T(M): 500℃; H2O-Con: 0vol%; SO2-Con: 0; O2-Con: 2.0vol%; Performance: Negative##', 'Molar Ratio: Ce to Sn = 2.0; Reac-Temp: 350℃; GHSV: 20000h-1; Dry-T(M): 120℃; Cal-T(M): 400℃; H2O-Con: 0vol%; SO2-Con: 0; O2-Con: 5.0vol%; Performance: Positive##', 'Molar Ratio: Ce to Sn = 1.0; Reac-Temp: 150℃; GHSV: 20000h-1; Dry-T(M): 120℃; Cal-T(M): 700℃; H2O-Con: 0vol%; SO2-Con: 0; O2-Con: 5.0vol%; Performance: Negative##', 'Molar Ratio: Ce to Sn = 2.0; Reac-Temp: 250℃; GHSV: 20000h-1; Dry-T(M): 120℃; Cal-T(M): 400℃; H2O-Con: 0vol%; SO2-Con: 0; O2-Con: 5.0vol%; Performance: Positive##', 'Molar Ratio: Ce to Sn = 2.0; Reac-Temp: 200℃; GHSV: 60000h-1; Dry-T(M): 110℃; Cal-T(M): 450℃; H2O-Con: 0vol%; SO2-Con: 0; O2-Con: 5.0vol%; Performance: Negative##', 'Molar Ratio: Ce to Sn = 0.25; Reac-Temp: 300℃; GHSV: 60000h-1; Dry-T(M): 110℃; Cal-T(M): 500℃; H2O-Con: 0vol%; SO2-Con: 100; O2-Con: 3.0vol%; Performance: Positive##', 'Molar Ratio: Ce to Sn = 0.5; Reac-Temp: 300℃; GHSV: 20000h-1; Dry-T(M): 120℃; Cal-T(M): 400℃; H2O-Con: 0vol%; SO2-Con: 0; O2-Con: 5.0vol%; Performance: Positive##']\n"
     ]
    }
   ],
   "source": [
    "for run in range(5):\n",
    "    Collet_data = pd.DataFrame([])\n",
    "    for i in range(6):\n",
    "        name =  f\"{Elements[i]}_run{run}.csv\"        \n",
    "        Data = pd.read_csv(name, encoding = 'utf-8')\n",
    "        Data.columns = ['NO','Co1', 'Ratio', 'Dry-T(M)', 'Cal-T(M)',\n",
    "            'GHSV', 'Reac-Temp', 'O2-Con','H2O-Con','SO2-Con', 'Performance']\n",
    "        Collet_data = pd.concat((Collet_data, Data.loc[0:8,:]), axis = 0)\n",
    "        Collet_data = Collet_data.reset_index(drop = True)\n",
    "        Prompt_data = form_PROMPT(Collet_data)\n",
    "    datapoints = Prompt_data[str(5)]\n",
    "    print(datapoints)\n",
    "    messages =  [{'role':'system','content': sys_message(i, j)},\n",
    "                 {'role':'user', 'content': user_message(j, datapoints)}] # call system_message&user_message function\n",
    "    response = get_completion_from_messages(messages) # call Completion request function\n",
    "    print(response)\n",
    "    Respon_GPT4_OP.loc[0, f'run{run}'] = response"
   ]
  },
  {
   "cell_type": "markdown",
   "id": "0c59d351",
   "metadata": {},
   "source": [
    "# Inferring performance of binary ce-based oxides"
   ]
  },
  {
   "cell_type": "code",
   "execution_count": 171,
   "id": "531958ca-bb79-42a4-a0ce-724964f00d32",
   "metadata": {},
   "outputs": [],
   "source": [
    "delimiter = \"##\"\n",
    "def form_PROMPT_infer(data):\n",
    "    Answer = list(data['Performance'])\n",
    "    unit_map = {\n",
    "        'Ratio': '',\n",
    "        'Dry-T(M)': '℃',\n",
    "        'Cal-T(M)': '℃',\n",
    "        'GHSV': 'h-1',\n",
    "        'Reac-Temp': '℃',\n",
    "        'O2-Con': 'vol%',\n",
    "        'H2O-Con': 'vol%',\n",
    "        'SO2-Con': '',\n",
    "    }\n",
    "\n",
    "    feature_set = ['Ratio', 'Reac-Temp', 'GHSV', 'Dry-T(M)', 'Cal-T(M)', 'H2O-Con', 'SO2-Con', 'O2-Con']\n",
    "\n",
    "    Prompts = []\n",
    "    for _, row in data.iterrows():\n",
    "        info_parts = []\n",
    "        for index, feature in enumerate(feature_set):\n",
    "            if feature == 'Ratio':\n",
    "                info_parts.append(f\"Molar Ratio: Ce to {row['Co1']} = {row[feature]}\")\n",
    "            else:\n",
    "                info_parts.append(f\"{feature}: {row[feature]}{unit_map.get(feature, '')}\")                                        \n",
    "        one_sample = \"; \".join(info_parts) \n",
    "        Prompts.append(one_sample + delimiter)\n",
    "\n",
    "    return Prompts, Answer"
   ]
  },
  {
   "cell_type": "code",
   "execution_count": 185,
   "id": "54f80834",
   "metadata": {},
   "outputs": [],
   "source": [
    "def user_message(element_number, datapoints, run):\n",
    "    cata = f'Ce{Elements[element_number]}'\n",
    "    run = f'run{run}'\n",
    "    user_message = f\"\"\"\n",
    "    Below are the reasoning paths for evaluating the performance of catalysts:\n",
    "        \n",
    "    {Respon_GPT4_OS.loc[5, run]}\n",
    "\n",
    "    Additionally, here are the five untested samples for the {cata} catalyst:\n",
    "\n",
    "    {datapoints}\n",
    "\n",
    "    \"\"\"\n",
    "    return user_message   "
   ]
  },
  {
   "cell_type": "code",
   "execution_count": 186,
   "id": "8afc6923",
   "metadata": {},
   "outputs": [],
   "source": [
    "def sys_message(element_number):\n",
    "    cata = f'Ce{element_number}'\n",
    "    system_message = f\"\"\"\n",
    "As an AI expert in the field of selective catalytic reduction of NOx by NH3, you will be given five untested samples of {cata} catalyst along with reasoning paths for evaluating catalyst performance. \n",
    "The datapoints will be separated by {delimiter} characters, and the performance metrics are either positive or negative.\n",
    "\n",
    "Your task is to infer the most likely performance of the provided untested datapoints of {cata} catalyst. Your inference process should thoroughly consider the provided reasoning paths.\n",
    "\n",
    "Please present the output in the following format for each datapoint with very concise reasoning paths, in at most 15 words:\n",
    "\n",
    "{delimiter}<performance>{delimiter}<reasoning paths>\n",
    "{delimiter}<performance>{delimiter}<reasoning paths>\n",
    "......\n",
    "{delimiter}<performance>{delimiter}<reasoning paths>\n",
    "\n",
    "Remember not to make a decision on the performance until you have carefully considered all reasoning paths.\"\"\"\n",
    "    return system_message"
   ]
  },
  {
   "cell_type": "code",
   "execution_count": 175,
   "id": "eae5dc82-4e57-4436-ac9f-b736e2ddb53c",
   "metadata": {},
   "outputs": [],
   "source": [
    "def parser(response):\n",
    "    res_split = response.split(delimiter)\n",
    "    collect_per = []\n",
    "    for item in res_split:\n",
    "        if (item == 'Positive') or (item == 'Negative'):\n",
    "            collect_per.append(item)\n",
    "    if len(collect_per) == Batch:\n",
    "        tem_check = np.sum(collect_per == answer[idx: idx + Batch])\n",
    "        return tem_check\n",
    "    else:\n",
    "        print('the LLM has been malfunctioned')"
   ]
  },
  {
   "cell_type": "code",
   "execution_count": 188,
   "id": "60d4d7a1",
   "metadata": {
    "collapsed": true,
    "jupyter": {
     "outputs_hidden": true
    }
   },
   "outputs": [
    {
     "name": "stdout",
     "output_type": "stream",
     "text": [
      "the prompt has been malfunctioned\n",
      "the prompt has been malfunctioned\n",
      "the prompt has been malfunctioned\n",
      "the prompt has been malfunctioned\n"
     ]
    },
    {
     "ename": "KeyboardInterrupt",
     "evalue": "",
     "output_type": "error",
     "traceback": [
      "\u001b[1;31m---------------------------------------------------------------------------\u001b[0m",
      "\u001b[1;31mKeyboardInterrupt\u001b[0m                         Traceback (most recent call last)",
      "Cell \u001b[1;32mIn[188], line 17\u001b[0m\n\u001b[0;32m     14\u001b[0m datapoints \u001b[38;5;241m=\u001b[39m Infer_datapoints[idx: idx \u001b[38;5;241m+\u001b[39m Batch]\n\u001b[0;32m     15\u001b[0m messages \u001b[38;5;241m=\u001b[39m  [{\u001b[38;5;124m'\u001b[39m\u001b[38;5;124mrole\u001b[39m\u001b[38;5;124m'\u001b[39m:\u001b[38;5;124m'\u001b[39m\u001b[38;5;124msystem\u001b[39m\u001b[38;5;124m'\u001b[39m, \u001b[38;5;124m'\u001b[39m\u001b[38;5;124mcontent\u001b[39m\u001b[38;5;124m'\u001b[39m: sys_message(i)},\n\u001b[0;32m     16\u001b[0m              {\u001b[38;5;124m'\u001b[39m\u001b[38;5;124mrole\u001b[39m\u001b[38;5;124m'\u001b[39m:\u001b[38;5;124m'\u001b[39m\u001b[38;5;124muser\u001b[39m\u001b[38;5;124m'\u001b[39m, \u001b[38;5;124m'\u001b[39m\u001b[38;5;124mcontent\u001b[39m\u001b[38;5;124m'\u001b[39m: user_message(i, datapoints, run)}]\n\u001b[1;32m---> 17\u001b[0m response \u001b[38;5;241m=\u001b[39m \u001b[43mget_completion_from_messages\u001b[49m\u001b[43m(\u001b[49m\u001b[43mmessages\u001b[49m\u001b[43m)\u001b[49m\n\u001b[0;32m     18\u001b[0m tem_check \u001b[38;5;241m=\u001b[39m parser(response)\n\u001b[0;32m     19\u001b[0m \u001b[38;5;28;01mif\u001b[39;00m tem_check:\n",
      "Cell \u001b[1;32mIn[124], line 4\u001b[0m, in \u001b[0;36mget_completion_from_messages\u001b[1;34m(messages, model, temperature, max_tokens)\u001b[0m\n\u001b[0;32m      1\u001b[0m \u001b[38;5;28;01mdef\u001b[39;00m \u001b[38;5;21mget_completion_from_messages\u001b[39m(messages, \n\u001b[0;32m      2\u001b[0m                                  model\u001b[38;5;241m=\u001b[39m\u001b[38;5;124m\"\u001b[39m\u001b[38;5;124mgpt-4\u001b[39m\u001b[38;5;124m\"\u001b[39m, \n\u001b[0;32m      3\u001b[0m                                  temperature\u001b[38;5;241m=\u001b[39m\u001b[38;5;241m0\u001b[39m, max_tokens\u001b[38;5;241m=\u001b[39m\u001b[38;5;241m3000\u001b[39m):\n\u001b[1;32m----> 4\u001b[0m     response \u001b[38;5;241m=\u001b[39m \u001b[43mopenai\u001b[49m\u001b[38;5;241;43m.\u001b[39;49m\u001b[43mChatCompletion\u001b[49m\u001b[38;5;241;43m.\u001b[39;49m\u001b[43mcreate\u001b[49m\u001b[43m(\u001b[49m\n\u001b[0;32m      5\u001b[0m \u001b[43m        \u001b[49m\u001b[43mmodel\u001b[49m\u001b[38;5;241;43m=\u001b[39;49m\u001b[43mmodel\u001b[49m\u001b[43m,\u001b[49m\n\u001b[0;32m      6\u001b[0m \u001b[43m        \u001b[49m\u001b[43mmessages\u001b[49m\u001b[38;5;241;43m=\u001b[39;49m\u001b[43mmessages\u001b[49m\u001b[43m,\u001b[49m\n\u001b[0;32m      7\u001b[0m \u001b[43m        \u001b[49m\u001b[43mtemperature\u001b[49m\u001b[38;5;241;43m=\u001b[39;49m\u001b[43mtemperature\u001b[49m\u001b[43m,\u001b[49m\u001b[43m \u001b[49m\n\u001b[0;32m      8\u001b[0m \u001b[43m        \u001b[49m\u001b[43mmax_tokens\u001b[49m\u001b[38;5;241;43m=\u001b[39;49m\u001b[43mmax_tokens\u001b[49m\u001b[43m,\u001b[49m\u001b[43m \u001b[49m\n\u001b[0;32m      9\u001b[0m \u001b[43m    \u001b[49m\u001b[43m)\u001b[49m\n\u001b[0;32m     10\u001b[0m     \u001b[38;5;28;01mreturn\u001b[39;00m response\u001b[38;5;241m.\u001b[39mchoices[\u001b[38;5;241m0\u001b[39m]\u001b[38;5;241m.\u001b[39mmessage[\u001b[38;5;124m\"\u001b[39m\u001b[38;5;124mcontent\u001b[39m\u001b[38;5;124m\"\u001b[39m]\n",
      "File \u001b[1;32mD:\\anaconda\\anaconda\\envs\\langchain1\\lib\\site-packages\\openai\\api_resources\\chat_completion.py:25\u001b[0m, in \u001b[0;36mChatCompletion.create\u001b[1;34m(cls, *args, **kwargs)\u001b[0m\n\u001b[0;32m     23\u001b[0m \u001b[38;5;28;01mwhile\u001b[39;00m \u001b[38;5;28;01mTrue\u001b[39;00m:\n\u001b[0;32m     24\u001b[0m     \u001b[38;5;28;01mtry\u001b[39;00m:\n\u001b[1;32m---> 25\u001b[0m         \u001b[38;5;28;01mreturn\u001b[39;00m \u001b[38;5;28msuper\u001b[39m()\u001b[38;5;241m.\u001b[39mcreate(\u001b[38;5;241m*\u001b[39margs, \u001b[38;5;241m*\u001b[39m\u001b[38;5;241m*\u001b[39mkwargs)\n\u001b[0;32m     26\u001b[0m     \u001b[38;5;28;01mexcept\u001b[39;00m TryAgain \u001b[38;5;28;01mas\u001b[39;00m e:\n\u001b[0;32m     27\u001b[0m         \u001b[38;5;28;01mif\u001b[39;00m timeout \u001b[38;5;129;01mis\u001b[39;00m \u001b[38;5;129;01mnot\u001b[39;00m \u001b[38;5;28;01mNone\u001b[39;00m \u001b[38;5;129;01mand\u001b[39;00m time\u001b[38;5;241m.\u001b[39mtime() \u001b[38;5;241m>\u001b[39m start \u001b[38;5;241m+\u001b[39m timeout:\n",
      "File \u001b[1;32mD:\\anaconda\\anaconda\\envs\\langchain1\\lib\\site-packages\\openai\\api_resources\\abstract\\engine_api_resource.py:155\u001b[0m, in \u001b[0;36mEngineAPIResource.create\u001b[1;34m(cls, api_key, api_base, api_type, request_id, api_version, organization, **params)\u001b[0m\n\u001b[0;32m    129\u001b[0m \u001b[38;5;129m@classmethod\u001b[39m\n\u001b[0;32m    130\u001b[0m \u001b[38;5;28;01mdef\u001b[39;00m \u001b[38;5;21mcreate\u001b[39m(\n\u001b[0;32m    131\u001b[0m     \u001b[38;5;28mcls\u001b[39m,\n\u001b[1;32m   (...)\u001b[0m\n\u001b[0;32m    138\u001b[0m     \u001b[38;5;241m*\u001b[39m\u001b[38;5;241m*\u001b[39mparams,\n\u001b[0;32m    139\u001b[0m ):\n\u001b[0;32m    140\u001b[0m     (\n\u001b[0;32m    141\u001b[0m         deployment_id,\n\u001b[0;32m    142\u001b[0m         engine,\n\u001b[1;32m   (...)\u001b[0m\n\u001b[0;32m    152\u001b[0m         api_key, api_base, api_type, api_version, organization, \u001b[38;5;241m*\u001b[39m\u001b[38;5;241m*\u001b[39mparams\n\u001b[0;32m    153\u001b[0m     )\n\u001b[1;32m--> 155\u001b[0m     response, _, api_key \u001b[38;5;241m=\u001b[39m \u001b[43mrequestor\u001b[49m\u001b[38;5;241;43m.\u001b[39;49m\u001b[43mrequest\u001b[49m\u001b[43m(\u001b[49m\n\u001b[0;32m    156\u001b[0m \u001b[43m        \u001b[49m\u001b[38;5;124;43m\"\u001b[39;49m\u001b[38;5;124;43mpost\u001b[39;49m\u001b[38;5;124;43m\"\u001b[39;49m\u001b[43m,\u001b[49m\n\u001b[0;32m    157\u001b[0m \u001b[43m        \u001b[49m\u001b[43murl\u001b[49m\u001b[43m,\u001b[49m\n\u001b[0;32m    158\u001b[0m \u001b[43m        \u001b[49m\u001b[43mparams\u001b[49m\u001b[38;5;241;43m=\u001b[39;49m\u001b[43mparams\u001b[49m\u001b[43m,\u001b[49m\n\u001b[0;32m    159\u001b[0m \u001b[43m        \u001b[49m\u001b[43mheaders\u001b[49m\u001b[38;5;241;43m=\u001b[39;49m\u001b[43mheaders\u001b[49m\u001b[43m,\u001b[49m\n\u001b[0;32m    160\u001b[0m \u001b[43m        \u001b[49m\u001b[43mstream\u001b[49m\u001b[38;5;241;43m=\u001b[39;49m\u001b[43mstream\u001b[49m\u001b[43m,\u001b[49m\n\u001b[0;32m    161\u001b[0m \u001b[43m        \u001b[49m\u001b[43mrequest_id\u001b[49m\u001b[38;5;241;43m=\u001b[39;49m\u001b[43mrequest_id\u001b[49m\u001b[43m,\u001b[49m\n\u001b[0;32m    162\u001b[0m \u001b[43m        \u001b[49m\u001b[43mrequest_timeout\u001b[49m\u001b[38;5;241;43m=\u001b[39;49m\u001b[43mrequest_timeout\u001b[49m\u001b[43m,\u001b[49m\n\u001b[0;32m    163\u001b[0m \u001b[43m    \u001b[49m\u001b[43m)\u001b[49m\n\u001b[0;32m    165\u001b[0m     \u001b[38;5;28;01mif\u001b[39;00m stream:\n\u001b[0;32m    166\u001b[0m         \u001b[38;5;66;03m# must be an iterator\u001b[39;00m\n\u001b[0;32m    167\u001b[0m         \u001b[38;5;28;01massert\u001b[39;00m \u001b[38;5;129;01mnot\u001b[39;00m \u001b[38;5;28misinstance\u001b[39m(response, OpenAIResponse)\n",
      "File \u001b[1;32mD:\\anaconda\\anaconda\\envs\\langchain1\\lib\\site-packages\\openai\\api_requestor.py:289\u001b[0m, in \u001b[0;36mAPIRequestor.request\u001b[1;34m(self, method, url, params, headers, files, stream, request_id, request_timeout)\u001b[0m\n\u001b[0;32m    278\u001b[0m \u001b[38;5;28;01mdef\u001b[39;00m \u001b[38;5;21mrequest\u001b[39m(\n\u001b[0;32m    279\u001b[0m     \u001b[38;5;28mself\u001b[39m,\n\u001b[0;32m    280\u001b[0m     method,\n\u001b[1;32m   (...)\u001b[0m\n\u001b[0;32m    287\u001b[0m     request_timeout: Optional[Union[\u001b[38;5;28mfloat\u001b[39m, Tuple[\u001b[38;5;28mfloat\u001b[39m, \u001b[38;5;28mfloat\u001b[39m]]] \u001b[38;5;241m=\u001b[39m \u001b[38;5;28;01mNone\u001b[39;00m,\n\u001b[0;32m    288\u001b[0m ) \u001b[38;5;241m-\u001b[39m\u001b[38;5;241m>\u001b[39m Tuple[Union[OpenAIResponse, Iterator[OpenAIResponse]], \u001b[38;5;28mbool\u001b[39m, \u001b[38;5;28mstr\u001b[39m]:\n\u001b[1;32m--> 289\u001b[0m     result \u001b[38;5;241m=\u001b[39m \u001b[38;5;28;43mself\u001b[39;49m\u001b[38;5;241;43m.\u001b[39;49m\u001b[43mrequest_raw\u001b[49m\u001b[43m(\u001b[49m\n\u001b[0;32m    290\u001b[0m \u001b[43m        \u001b[49m\u001b[43mmethod\u001b[49m\u001b[38;5;241;43m.\u001b[39;49m\u001b[43mlower\u001b[49m\u001b[43m(\u001b[49m\u001b[43m)\u001b[49m\u001b[43m,\u001b[49m\n\u001b[0;32m    291\u001b[0m \u001b[43m        \u001b[49m\u001b[43murl\u001b[49m\u001b[43m,\u001b[49m\n\u001b[0;32m    292\u001b[0m \u001b[43m        \u001b[49m\u001b[43mparams\u001b[49m\u001b[38;5;241;43m=\u001b[39;49m\u001b[43mparams\u001b[49m\u001b[43m,\u001b[49m\n\u001b[0;32m    293\u001b[0m \u001b[43m        \u001b[49m\u001b[43msupplied_headers\u001b[49m\u001b[38;5;241;43m=\u001b[39;49m\u001b[43mheaders\u001b[49m\u001b[43m,\u001b[49m\n\u001b[0;32m    294\u001b[0m \u001b[43m        \u001b[49m\u001b[43mfiles\u001b[49m\u001b[38;5;241;43m=\u001b[39;49m\u001b[43mfiles\u001b[49m\u001b[43m,\u001b[49m\n\u001b[0;32m    295\u001b[0m \u001b[43m        \u001b[49m\u001b[43mstream\u001b[49m\u001b[38;5;241;43m=\u001b[39;49m\u001b[43mstream\u001b[49m\u001b[43m,\u001b[49m\n\u001b[0;32m    296\u001b[0m \u001b[43m        \u001b[49m\u001b[43mrequest_id\u001b[49m\u001b[38;5;241;43m=\u001b[39;49m\u001b[43mrequest_id\u001b[49m\u001b[43m,\u001b[49m\n\u001b[0;32m    297\u001b[0m \u001b[43m        \u001b[49m\u001b[43mrequest_timeout\u001b[49m\u001b[38;5;241;43m=\u001b[39;49m\u001b[43mrequest_timeout\u001b[49m\u001b[43m,\u001b[49m\n\u001b[0;32m    298\u001b[0m \u001b[43m    \u001b[49m\u001b[43m)\u001b[49m\n\u001b[0;32m    299\u001b[0m     resp, got_stream \u001b[38;5;241m=\u001b[39m \u001b[38;5;28mself\u001b[39m\u001b[38;5;241m.\u001b[39m_interpret_response(result, stream)\n\u001b[0;32m    300\u001b[0m     \u001b[38;5;28;01mreturn\u001b[39;00m resp, got_stream, \u001b[38;5;28mself\u001b[39m\u001b[38;5;241m.\u001b[39mapi_key\n",
      "File \u001b[1;32mD:\\anaconda\\anaconda\\envs\\langchain1\\lib\\site-packages\\openai\\api_requestor.py:606\u001b[0m, in \u001b[0;36mAPIRequestor.request_raw\u001b[1;34m(self, method, url, params, supplied_headers, files, stream, request_id, request_timeout)\u001b[0m\n\u001b[0;32m    604\u001b[0m     _thread_context\u001b[38;5;241m.\u001b[39msession_create_time \u001b[38;5;241m=\u001b[39m time\u001b[38;5;241m.\u001b[39mtime()\n\u001b[0;32m    605\u001b[0m \u001b[38;5;28;01mtry\u001b[39;00m:\n\u001b[1;32m--> 606\u001b[0m     result \u001b[38;5;241m=\u001b[39m \u001b[43m_thread_context\u001b[49m\u001b[38;5;241;43m.\u001b[39;49m\u001b[43msession\u001b[49m\u001b[38;5;241;43m.\u001b[39;49m\u001b[43mrequest\u001b[49m\u001b[43m(\u001b[49m\n\u001b[0;32m    607\u001b[0m \u001b[43m        \u001b[49m\u001b[43mmethod\u001b[49m\u001b[43m,\u001b[49m\n\u001b[0;32m    608\u001b[0m \u001b[43m        \u001b[49m\u001b[43mabs_url\u001b[49m\u001b[43m,\u001b[49m\n\u001b[0;32m    609\u001b[0m \u001b[43m        \u001b[49m\u001b[43mheaders\u001b[49m\u001b[38;5;241;43m=\u001b[39;49m\u001b[43mheaders\u001b[49m\u001b[43m,\u001b[49m\n\u001b[0;32m    610\u001b[0m \u001b[43m        \u001b[49m\u001b[43mdata\u001b[49m\u001b[38;5;241;43m=\u001b[39;49m\u001b[43mdata\u001b[49m\u001b[43m,\u001b[49m\n\u001b[0;32m    611\u001b[0m \u001b[43m        \u001b[49m\u001b[43mfiles\u001b[49m\u001b[38;5;241;43m=\u001b[39;49m\u001b[43mfiles\u001b[49m\u001b[43m,\u001b[49m\n\u001b[0;32m    612\u001b[0m \u001b[43m        \u001b[49m\u001b[43mstream\u001b[49m\u001b[38;5;241;43m=\u001b[39;49m\u001b[43mstream\u001b[49m\u001b[43m,\u001b[49m\n\u001b[0;32m    613\u001b[0m \u001b[43m        \u001b[49m\u001b[43mtimeout\u001b[49m\u001b[38;5;241;43m=\u001b[39;49m\u001b[43mrequest_timeout\u001b[49m\u001b[43m \u001b[49m\u001b[38;5;28;43;01mif\u001b[39;49;00m\u001b[43m \u001b[49m\u001b[43mrequest_timeout\u001b[49m\u001b[43m \u001b[49m\u001b[38;5;28;43;01melse\u001b[39;49;00m\u001b[43m \u001b[49m\u001b[43mTIMEOUT_SECS\u001b[49m\u001b[43m,\u001b[49m\n\u001b[0;32m    614\u001b[0m \u001b[43m        \u001b[49m\u001b[43mproxies\u001b[49m\u001b[38;5;241;43m=\u001b[39;49m\u001b[43m_thread_context\u001b[49m\u001b[38;5;241;43m.\u001b[39;49m\u001b[43msession\u001b[49m\u001b[38;5;241;43m.\u001b[39;49m\u001b[43mproxies\u001b[49m\u001b[43m,\u001b[49m\n\u001b[0;32m    615\u001b[0m \u001b[43m    \u001b[49m\u001b[43m)\u001b[49m\n\u001b[0;32m    616\u001b[0m \u001b[38;5;28;01mexcept\u001b[39;00m requests\u001b[38;5;241m.\u001b[39mexceptions\u001b[38;5;241m.\u001b[39mTimeout \u001b[38;5;28;01mas\u001b[39;00m e:\n\u001b[0;32m    617\u001b[0m     \u001b[38;5;28;01mraise\u001b[39;00m error\u001b[38;5;241m.\u001b[39mTimeout(\u001b[38;5;124m\"\u001b[39m\u001b[38;5;124mRequest timed out: \u001b[39m\u001b[38;5;132;01m{}\u001b[39;00m\u001b[38;5;124m\"\u001b[39m\u001b[38;5;241m.\u001b[39mformat(e)) \u001b[38;5;28;01mfrom\u001b[39;00m \u001b[38;5;21;01me\u001b[39;00m\n",
      "File \u001b[1;32mD:\\anaconda\\anaconda\\envs\\langchain1\\lib\\site-packages\\requests\\sessions.py:589\u001b[0m, in \u001b[0;36mSession.request\u001b[1;34m(self, method, url, params, data, headers, cookies, files, auth, timeout, allow_redirects, proxies, hooks, stream, verify, cert, json)\u001b[0m\n\u001b[0;32m    584\u001b[0m send_kwargs \u001b[38;5;241m=\u001b[39m {\n\u001b[0;32m    585\u001b[0m     \u001b[38;5;124m\"\u001b[39m\u001b[38;5;124mtimeout\u001b[39m\u001b[38;5;124m\"\u001b[39m: timeout,\n\u001b[0;32m    586\u001b[0m     \u001b[38;5;124m\"\u001b[39m\u001b[38;5;124mallow_redirects\u001b[39m\u001b[38;5;124m\"\u001b[39m: allow_redirects,\n\u001b[0;32m    587\u001b[0m }\n\u001b[0;32m    588\u001b[0m send_kwargs\u001b[38;5;241m.\u001b[39mupdate(settings)\n\u001b[1;32m--> 589\u001b[0m resp \u001b[38;5;241m=\u001b[39m \u001b[38;5;28mself\u001b[39m\u001b[38;5;241m.\u001b[39msend(prep, \u001b[38;5;241m*\u001b[39m\u001b[38;5;241m*\u001b[39msend_kwargs)\n\u001b[0;32m    591\u001b[0m \u001b[38;5;28;01mreturn\u001b[39;00m resp\n",
      "File \u001b[1;32mD:\\anaconda\\anaconda\\envs\\langchain1\\lib\\site-packages\\requests\\sessions.py:703\u001b[0m, in \u001b[0;36mSession.send\u001b[1;34m(self, request, **kwargs)\u001b[0m\n\u001b[0;32m    700\u001b[0m start \u001b[38;5;241m=\u001b[39m preferred_clock()\n\u001b[0;32m    702\u001b[0m \u001b[38;5;66;03m# Send the request\u001b[39;00m\n\u001b[1;32m--> 703\u001b[0m r \u001b[38;5;241m=\u001b[39m adapter\u001b[38;5;241m.\u001b[39msend(request, \u001b[38;5;241m*\u001b[39m\u001b[38;5;241m*\u001b[39mkwargs)\n\u001b[0;32m    705\u001b[0m \u001b[38;5;66;03m# Total elapsed time of the request (approximately)\u001b[39;00m\n\u001b[0;32m    706\u001b[0m elapsed \u001b[38;5;241m=\u001b[39m preferred_clock() \u001b[38;5;241m-\u001b[39m start\n",
      "File \u001b[1;32mD:\\anaconda\\anaconda\\envs\\langchain1\\lib\\site-packages\\requests\\adapters.py:486\u001b[0m, in \u001b[0;36mHTTPAdapter.send\u001b[1;34m(self, request, stream, timeout, verify, cert, proxies)\u001b[0m\n\u001b[0;32m    483\u001b[0m     timeout \u001b[38;5;241m=\u001b[39m TimeoutSauce(connect\u001b[38;5;241m=\u001b[39mtimeout, read\u001b[38;5;241m=\u001b[39mtimeout)\n\u001b[0;32m    485\u001b[0m \u001b[38;5;28;01mtry\u001b[39;00m:\n\u001b[1;32m--> 486\u001b[0m     resp \u001b[38;5;241m=\u001b[39m \u001b[43mconn\u001b[49m\u001b[38;5;241;43m.\u001b[39;49m\u001b[43murlopen\u001b[49m\u001b[43m(\u001b[49m\n\u001b[0;32m    487\u001b[0m \u001b[43m        \u001b[49m\u001b[43mmethod\u001b[49m\u001b[38;5;241;43m=\u001b[39;49m\u001b[43mrequest\u001b[49m\u001b[38;5;241;43m.\u001b[39;49m\u001b[43mmethod\u001b[49m\u001b[43m,\u001b[49m\n\u001b[0;32m    488\u001b[0m \u001b[43m        \u001b[49m\u001b[43murl\u001b[49m\u001b[38;5;241;43m=\u001b[39;49m\u001b[43murl\u001b[49m\u001b[43m,\u001b[49m\n\u001b[0;32m    489\u001b[0m \u001b[43m        \u001b[49m\u001b[43mbody\u001b[49m\u001b[38;5;241;43m=\u001b[39;49m\u001b[43mrequest\u001b[49m\u001b[38;5;241;43m.\u001b[39;49m\u001b[43mbody\u001b[49m\u001b[43m,\u001b[49m\n\u001b[0;32m    490\u001b[0m \u001b[43m        \u001b[49m\u001b[43mheaders\u001b[49m\u001b[38;5;241;43m=\u001b[39;49m\u001b[43mrequest\u001b[49m\u001b[38;5;241;43m.\u001b[39;49m\u001b[43mheaders\u001b[49m\u001b[43m,\u001b[49m\n\u001b[0;32m    491\u001b[0m \u001b[43m        \u001b[49m\u001b[43mredirect\u001b[49m\u001b[38;5;241;43m=\u001b[39;49m\u001b[38;5;28;43;01mFalse\u001b[39;49;00m\u001b[43m,\u001b[49m\n\u001b[0;32m    492\u001b[0m \u001b[43m        \u001b[49m\u001b[43massert_same_host\u001b[49m\u001b[38;5;241;43m=\u001b[39;49m\u001b[38;5;28;43;01mFalse\u001b[39;49;00m\u001b[43m,\u001b[49m\n\u001b[0;32m    493\u001b[0m \u001b[43m        \u001b[49m\u001b[43mpreload_content\u001b[49m\u001b[38;5;241;43m=\u001b[39;49m\u001b[38;5;28;43;01mFalse\u001b[39;49;00m\u001b[43m,\u001b[49m\n\u001b[0;32m    494\u001b[0m \u001b[43m        \u001b[49m\u001b[43mdecode_content\u001b[49m\u001b[38;5;241;43m=\u001b[39;49m\u001b[38;5;28;43;01mFalse\u001b[39;49;00m\u001b[43m,\u001b[49m\n\u001b[0;32m    495\u001b[0m \u001b[43m        \u001b[49m\u001b[43mretries\u001b[49m\u001b[38;5;241;43m=\u001b[39;49m\u001b[38;5;28;43mself\u001b[39;49m\u001b[38;5;241;43m.\u001b[39;49m\u001b[43mmax_retries\u001b[49m\u001b[43m,\u001b[49m\n\u001b[0;32m    496\u001b[0m \u001b[43m        \u001b[49m\u001b[43mtimeout\u001b[49m\u001b[38;5;241;43m=\u001b[39;49m\u001b[43mtimeout\u001b[49m\u001b[43m,\u001b[49m\n\u001b[0;32m    497\u001b[0m \u001b[43m        \u001b[49m\u001b[43mchunked\u001b[49m\u001b[38;5;241;43m=\u001b[39;49m\u001b[43mchunked\u001b[49m\u001b[43m,\u001b[49m\n\u001b[0;32m    498\u001b[0m \u001b[43m    \u001b[49m\u001b[43m)\u001b[49m\n\u001b[0;32m    500\u001b[0m \u001b[38;5;28;01mexcept\u001b[39;00m (ProtocolError, \u001b[38;5;167;01mOSError\u001b[39;00m) \u001b[38;5;28;01mas\u001b[39;00m err:\n\u001b[0;32m    501\u001b[0m     \u001b[38;5;28;01mraise\u001b[39;00m \u001b[38;5;167;01mConnectionError\u001b[39;00m(err, request\u001b[38;5;241m=\u001b[39mrequest)\n",
      "File \u001b[1;32mD:\\anaconda\\anaconda\\envs\\langchain1\\lib\\site-packages\\urllib3\\connectionpool.py:791\u001b[0m, in \u001b[0;36mHTTPConnectionPool.urlopen\u001b[1;34m(self, method, url, body, headers, retries, redirect, assert_same_host, timeout, pool_timeout, release_conn, chunked, body_pos, preload_content, decode_content, **response_kw)\u001b[0m\n\u001b[0;32m    788\u001b[0m response_conn \u001b[38;5;241m=\u001b[39m conn \u001b[38;5;28;01mif\u001b[39;00m \u001b[38;5;129;01mnot\u001b[39;00m release_conn \u001b[38;5;28;01melse\u001b[39;00m \u001b[38;5;28;01mNone\u001b[39;00m\n\u001b[0;32m    790\u001b[0m \u001b[38;5;66;03m# Make the request on the HTTPConnection object\u001b[39;00m\n\u001b[1;32m--> 791\u001b[0m response \u001b[38;5;241m=\u001b[39m \u001b[38;5;28mself\u001b[39m\u001b[38;5;241m.\u001b[39m_make_request(\n\u001b[0;32m    792\u001b[0m     conn,\n\u001b[0;32m    793\u001b[0m     method,\n\u001b[0;32m    794\u001b[0m     url,\n\u001b[0;32m    795\u001b[0m     timeout\u001b[38;5;241m=\u001b[39mtimeout_obj,\n\u001b[0;32m    796\u001b[0m     body\u001b[38;5;241m=\u001b[39mbody,\n\u001b[0;32m    797\u001b[0m     headers\u001b[38;5;241m=\u001b[39mheaders,\n\u001b[0;32m    798\u001b[0m     chunked\u001b[38;5;241m=\u001b[39mchunked,\n\u001b[0;32m    799\u001b[0m     retries\u001b[38;5;241m=\u001b[39mretries,\n\u001b[0;32m    800\u001b[0m     response_conn\u001b[38;5;241m=\u001b[39mresponse_conn,\n\u001b[0;32m    801\u001b[0m     preload_content\u001b[38;5;241m=\u001b[39mpreload_content,\n\u001b[0;32m    802\u001b[0m     decode_content\u001b[38;5;241m=\u001b[39mdecode_content,\n\u001b[0;32m    803\u001b[0m     \u001b[38;5;241m*\u001b[39m\u001b[38;5;241m*\u001b[39mresponse_kw,\n\u001b[0;32m    804\u001b[0m )\n\u001b[0;32m    806\u001b[0m \u001b[38;5;66;03m# Everything went great!\u001b[39;00m\n\u001b[0;32m    807\u001b[0m clean_exit \u001b[38;5;241m=\u001b[39m \u001b[38;5;28;01mTrue\u001b[39;00m\n",
      "File \u001b[1;32mD:\\anaconda\\anaconda\\envs\\langchain1\\lib\\site-packages\\urllib3\\connectionpool.py:537\u001b[0m, in \u001b[0;36mHTTPConnectionPool._make_request\u001b[1;34m(self, conn, method, url, body, headers, retries, timeout, chunked, response_conn, preload_content, decode_content, enforce_content_length)\u001b[0m\n\u001b[0;32m    535\u001b[0m \u001b[38;5;66;03m# Receive the response from the server\u001b[39;00m\n\u001b[0;32m    536\u001b[0m \u001b[38;5;28;01mtry\u001b[39;00m:\n\u001b[1;32m--> 537\u001b[0m     response \u001b[38;5;241m=\u001b[39m \u001b[43mconn\u001b[49m\u001b[38;5;241;43m.\u001b[39;49m\u001b[43mgetresponse\u001b[49m\u001b[43m(\u001b[49m\u001b[43m)\u001b[49m\n\u001b[0;32m    538\u001b[0m \u001b[38;5;28;01mexcept\u001b[39;00m (BaseSSLError, \u001b[38;5;167;01mOSError\u001b[39;00m) \u001b[38;5;28;01mas\u001b[39;00m e:\n\u001b[0;32m    539\u001b[0m     \u001b[38;5;28mself\u001b[39m\u001b[38;5;241m.\u001b[39m_raise_timeout(err\u001b[38;5;241m=\u001b[39me, url\u001b[38;5;241m=\u001b[39murl, timeout_value\u001b[38;5;241m=\u001b[39mread_timeout)\n",
      "File \u001b[1;32mD:\\anaconda\\anaconda\\envs\\langchain1\\lib\\site-packages\\urllib3\\connection.py:461\u001b[0m, in \u001b[0;36mHTTPConnection.getresponse\u001b[1;34m(self)\u001b[0m\n\u001b[0;32m    458\u001b[0m \u001b[38;5;28;01mfrom\u001b[39;00m \u001b[38;5;21;01m.\u001b[39;00m\u001b[38;5;21;01mresponse\u001b[39;00m \u001b[38;5;28;01mimport\u001b[39;00m HTTPResponse\n\u001b[0;32m    460\u001b[0m \u001b[38;5;66;03m# Get the response from http.client.HTTPConnection\u001b[39;00m\n\u001b[1;32m--> 461\u001b[0m httplib_response \u001b[38;5;241m=\u001b[39m \u001b[38;5;28;43msuper\u001b[39;49m\u001b[43m(\u001b[49m\u001b[43m)\u001b[49m\u001b[38;5;241;43m.\u001b[39;49m\u001b[43mgetresponse\u001b[49m\u001b[43m(\u001b[49m\u001b[43m)\u001b[49m\n\u001b[0;32m    463\u001b[0m \u001b[38;5;28;01mtry\u001b[39;00m:\n\u001b[0;32m    464\u001b[0m     assert_header_parsing(httplib_response\u001b[38;5;241m.\u001b[39mmsg)\n",
      "File \u001b[1;32mD:\\anaconda\\anaconda\\envs\\langchain1\\lib\\http\\client.py:1375\u001b[0m, in \u001b[0;36mHTTPConnection.getresponse\u001b[1;34m(self)\u001b[0m\n\u001b[0;32m   1373\u001b[0m \u001b[38;5;28;01mtry\u001b[39;00m:\n\u001b[0;32m   1374\u001b[0m     \u001b[38;5;28;01mtry\u001b[39;00m:\n\u001b[1;32m-> 1375\u001b[0m         \u001b[43mresponse\u001b[49m\u001b[38;5;241;43m.\u001b[39;49m\u001b[43mbegin\u001b[49m\u001b[43m(\u001b[49m\u001b[43m)\u001b[49m\n\u001b[0;32m   1376\u001b[0m     \u001b[38;5;28;01mexcept\u001b[39;00m \u001b[38;5;167;01mConnectionError\u001b[39;00m:\n\u001b[0;32m   1377\u001b[0m         \u001b[38;5;28mself\u001b[39m\u001b[38;5;241m.\u001b[39mclose()\n",
      "File \u001b[1;32mD:\\anaconda\\anaconda\\envs\\langchain1\\lib\\http\\client.py:318\u001b[0m, in \u001b[0;36mHTTPResponse.begin\u001b[1;34m(self)\u001b[0m\n\u001b[0;32m    316\u001b[0m \u001b[38;5;66;03m# read until we get a non-100 response\u001b[39;00m\n\u001b[0;32m    317\u001b[0m \u001b[38;5;28;01mwhile\u001b[39;00m \u001b[38;5;28;01mTrue\u001b[39;00m:\n\u001b[1;32m--> 318\u001b[0m     version, status, reason \u001b[38;5;241m=\u001b[39m \u001b[38;5;28;43mself\u001b[39;49m\u001b[38;5;241;43m.\u001b[39;49m\u001b[43m_read_status\u001b[49m\u001b[43m(\u001b[49m\u001b[43m)\u001b[49m\n\u001b[0;32m    319\u001b[0m     \u001b[38;5;28;01mif\u001b[39;00m status \u001b[38;5;241m!=\u001b[39m CONTINUE:\n\u001b[0;32m    320\u001b[0m         \u001b[38;5;28;01mbreak\u001b[39;00m\n",
      "File \u001b[1;32mD:\\anaconda\\anaconda\\envs\\langchain1\\lib\\http\\client.py:279\u001b[0m, in \u001b[0;36mHTTPResponse._read_status\u001b[1;34m(self)\u001b[0m\n\u001b[0;32m    278\u001b[0m \u001b[38;5;28;01mdef\u001b[39;00m \u001b[38;5;21m_read_status\u001b[39m(\u001b[38;5;28mself\u001b[39m):\n\u001b[1;32m--> 279\u001b[0m     line \u001b[38;5;241m=\u001b[39m \u001b[38;5;28mstr\u001b[39m(\u001b[38;5;28;43mself\u001b[39;49m\u001b[38;5;241;43m.\u001b[39;49m\u001b[43mfp\u001b[49m\u001b[38;5;241;43m.\u001b[39;49m\u001b[43mreadline\u001b[49m\u001b[43m(\u001b[49m\u001b[43m_MAXLINE\u001b[49m\u001b[43m \u001b[49m\u001b[38;5;241;43m+\u001b[39;49m\u001b[43m \u001b[49m\u001b[38;5;241;43m1\u001b[39;49m\u001b[43m)\u001b[49m, \u001b[38;5;124m\"\u001b[39m\u001b[38;5;124miso-8859-1\u001b[39m\u001b[38;5;124m\"\u001b[39m)\n\u001b[0;32m    280\u001b[0m     \u001b[38;5;28;01mif\u001b[39;00m \u001b[38;5;28mlen\u001b[39m(line) \u001b[38;5;241m>\u001b[39m _MAXLINE:\n\u001b[0;32m    281\u001b[0m         \u001b[38;5;28;01mraise\u001b[39;00m LineTooLong(\u001b[38;5;124m\"\u001b[39m\u001b[38;5;124mstatus line\u001b[39m\u001b[38;5;124m\"\u001b[39m)\n",
      "File \u001b[1;32mD:\\anaconda\\anaconda\\envs\\langchain1\\lib\\socket.py:705\u001b[0m, in \u001b[0;36mSocketIO.readinto\u001b[1;34m(self, b)\u001b[0m\n\u001b[0;32m    703\u001b[0m \u001b[38;5;28;01mwhile\u001b[39;00m \u001b[38;5;28;01mTrue\u001b[39;00m:\n\u001b[0;32m    704\u001b[0m     \u001b[38;5;28;01mtry\u001b[39;00m:\n\u001b[1;32m--> 705\u001b[0m         \u001b[38;5;28;01mreturn\u001b[39;00m \u001b[38;5;28;43mself\u001b[39;49m\u001b[38;5;241;43m.\u001b[39;49m\u001b[43m_sock\u001b[49m\u001b[38;5;241;43m.\u001b[39;49m\u001b[43mrecv_into\u001b[49m\u001b[43m(\u001b[49m\u001b[43mb\u001b[49m\u001b[43m)\u001b[49m\n\u001b[0;32m    706\u001b[0m     \u001b[38;5;28;01mexcept\u001b[39;00m timeout:\n\u001b[0;32m    707\u001b[0m         \u001b[38;5;28mself\u001b[39m\u001b[38;5;241m.\u001b[39m_timeout_occurred \u001b[38;5;241m=\u001b[39m \u001b[38;5;28;01mTrue\u001b[39;00m\n",
      "File \u001b[1;32mD:\\anaconda\\anaconda\\envs\\langchain1\\lib\\ssl.py:1307\u001b[0m, in \u001b[0;36mSSLSocket.recv_into\u001b[1;34m(self, buffer, nbytes, flags)\u001b[0m\n\u001b[0;32m   1303\u001b[0m     \u001b[38;5;28;01mif\u001b[39;00m flags \u001b[38;5;241m!=\u001b[39m \u001b[38;5;241m0\u001b[39m:\n\u001b[0;32m   1304\u001b[0m         \u001b[38;5;28;01mraise\u001b[39;00m \u001b[38;5;167;01mValueError\u001b[39;00m(\n\u001b[0;32m   1305\u001b[0m           \u001b[38;5;124m\"\u001b[39m\u001b[38;5;124mnon-zero flags not allowed in calls to recv_into() on \u001b[39m\u001b[38;5;132;01m%s\u001b[39;00m\u001b[38;5;124m\"\u001b[39m \u001b[38;5;241m%\u001b[39m\n\u001b[0;32m   1306\u001b[0m           \u001b[38;5;28mself\u001b[39m\u001b[38;5;241m.\u001b[39m\u001b[38;5;18m__class__\u001b[39m)\n\u001b[1;32m-> 1307\u001b[0m     \u001b[38;5;28;01mreturn\u001b[39;00m \u001b[38;5;28;43mself\u001b[39;49m\u001b[38;5;241;43m.\u001b[39;49m\u001b[43mread\u001b[49m\u001b[43m(\u001b[49m\u001b[43mnbytes\u001b[49m\u001b[43m,\u001b[49m\u001b[43m \u001b[49m\u001b[43mbuffer\u001b[49m\u001b[43m)\u001b[49m\n\u001b[0;32m   1308\u001b[0m \u001b[38;5;28;01melse\u001b[39;00m:\n\u001b[0;32m   1309\u001b[0m     \u001b[38;5;28;01mreturn\u001b[39;00m \u001b[38;5;28msuper\u001b[39m()\u001b[38;5;241m.\u001b[39mrecv_into(buffer, nbytes, flags)\n",
      "File \u001b[1;32mD:\\anaconda\\anaconda\\envs\\langchain1\\lib\\ssl.py:1163\u001b[0m, in \u001b[0;36mSSLSocket.read\u001b[1;34m(self, len, buffer)\u001b[0m\n\u001b[0;32m   1161\u001b[0m \u001b[38;5;28;01mtry\u001b[39;00m:\n\u001b[0;32m   1162\u001b[0m     \u001b[38;5;28;01mif\u001b[39;00m buffer \u001b[38;5;129;01mis\u001b[39;00m \u001b[38;5;129;01mnot\u001b[39;00m \u001b[38;5;28;01mNone\u001b[39;00m:\n\u001b[1;32m-> 1163\u001b[0m         \u001b[38;5;28;01mreturn\u001b[39;00m \u001b[38;5;28;43mself\u001b[39;49m\u001b[38;5;241;43m.\u001b[39;49m\u001b[43m_sslobj\u001b[49m\u001b[38;5;241;43m.\u001b[39;49m\u001b[43mread\u001b[49m\u001b[43m(\u001b[49m\u001b[38;5;28;43mlen\u001b[39;49m\u001b[43m,\u001b[49m\u001b[43m \u001b[49m\u001b[43mbuffer\u001b[49m\u001b[43m)\u001b[49m\n\u001b[0;32m   1164\u001b[0m     \u001b[38;5;28;01melse\u001b[39;00m:\n\u001b[0;32m   1165\u001b[0m         \u001b[38;5;28;01mreturn\u001b[39;00m \u001b[38;5;28mself\u001b[39m\u001b[38;5;241m.\u001b[39m_sslobj\u001b[38;5;241m.\u001b[39mread(\u001b[38;5;28mlen\u001b[39m)\n",
      "\u001b[1;31mKeyboardInterrupt\u001b[0m: "
     ]
    }
   ],
   "source": [
    "for run in range(5):\n",
    "    for i in range(6):\n",
    "        name =  f\"{Elements[i]}_run{run}.csv\"        \n",
    "        Data = pd.read_csv(name, encoding = 'utf-8')\n",
    "        Data.columns = ['NO','Co1', 'Ratio', \n",
    "                        'Dry-T(M)', 'Cal-T(M)',\n",
    "                         'GHSV', 'Reac-Temp','O2-Con','H2O-Con','SO2-Con', \n",
    "                        'Performance']\n",
    "        Infer_datapoints, Answer = form_PROMPT_infer(Data.loc[8:58,:])\n",
    "        Batch = 5\n",
    "        num = 0\n",
    "        for idx in range(0, 50 - Batch, Batch):\n",
    "            datapoints = Infer_datapoints[idx: idx + Batch]\n",
    "            messages =  [{'role':'system', 'content': sys_message(i)},\n",
    "                         {'role':'user', 'content': user_message(i, datapoints, run)}]\n",
    "            response = get_completion_from_messages(messages)\n",
    "            tem_check = parser(response)\n",
    "            if tem_check:\n",
    "                num += tem_check\n",
    "        print('Inferrance Accuracy is {}%'.format(num/50) )"
   ]
  },
  {
   "cell_type": "markdown",
   "id": "f5e72039",
   "metadata": {},
   "source": [
    "# Inferring performance of ternary oxides"
   ]
  },
  {
   "cell_type": "code",
   "execution_count": 189,
   "id": "a6e2ee02-23e8-4e07-9e75-fcc5f9c05ffc",
   "metadata": {},
   "outputs": [
    {
     "data": {
      "text/plain": [
       "'C:\\\\Users\\\\LMY99\\\\Desktop\\\\GPT project\\\\Model1-4\\\\model-3 (reasoning)\\\\demo_binary\\\\demos\\\\files\\\\ternary_test'"
      ]
     },
     "execution_count": 189,
     "metadata": {},
     "output_type": "execute_result"
    }
   ],
   "source": [
    "os.chdir(r'C:\\Users\\LMY99\\Desktop\\GPT project\\Model1-4\\model-3 (reasoning)\\demo_binary\\demos\\files\\ternary_test')\n",
    "os.getcwd()"
   ]
  },
  {
   "cell_type": "code",
   "execution_count": 201,
   "id": "e183380a",
   "metadata": {},
   "outputs": [],
   "source": [
    "Combinations = [\"Ti_Fe\",\"Ti_Mo\",\"Ti_Sn\",\"Ti_W\",\"Mn_Fe\",\"Mn_Sn\",\"Mn_Ti\",\"Mn_W\"]\n",
    "def combination_path(combination):\n",
    "    \n",
    "    path = [f'Ce' + i.split('_')[0] + i.split('_')[1]  + '.csv' for i in Combinations]\n",
    "    Dict = dict(zip(Combinations, path))\n",
    "    return Dict[combination]"
   ]
  },
  {
   "cell_type": "code",
   "execution_count": 221,
   "id": "263a5bdc-af44-4404-91e0-931f504d60e8",
   "metadata": {},
   "outputs": [],
   "source": [
    "delimiter = \"##\"\n",
    "def form_PROMPT_infer(data):\n",
    "    Answer = list(data['Performance'])\n",
    "    unit_map = {\n",
    "        'Ratio1': '',\n",
    "        'Ratio2': '',\n",
    "        'Dry-T(M)': '℃',\n",
    "        'Cal-T(M)': '℃',\n",
    "        'GHSV': '',\n",
    "        'Reac-Temp': '℃',\n",
    "        'O2-Con': 'vol%',\n",
    "        'H2O-Con': 'vol%',\n",
    "        'SO2-Con': 'vol%',\n",
    "    }\n",
    "\n",
    "    feature_set = ['Ratio1', 'Ratio2', 'Reac-Temp', 'GHSV', 'Dry-T(M)', 'Cal-T(M)', 'H2O-Con', 'SO2-Con', 'O2-Con']\n",
    "\n",
    "    Prompts = []\n",
    "    for _, row in data.iterrows():\n",
    "        info_parts = []\n",
    "        for index, feature in enumerate(feature_set):\n",
    "            if feature == 'Ratio1':\n",
    "                info_parts.append(f\"Molar Ratio1: Ce to {row['Co1']} = {row[feature]}\")\n",
    "            elif feature == 'Ratio2':\n",
    "                info_parts.append(f\"Molar Ratio2: Ce to {row['Co2']} = {row[feature]}\")\n",
    "            else:\n",
    "                info_parts.append(f\"{feature}: {row[feature]}{unit_map.get(feature, '')}\")                                        \n",
    "        one_sample = \"; \".join(info_parts) \n",
    "        Prompts.append(one_sample + delimiter)\n",
    "\n",
    "    return Prompts, Answer"
   ]
  },
  {
   "cell_type": "code",
   "execution_count": 236,
   "id": "46fed929",
   "metadata": {},
   "outputs": [],
   "source": [
    "def sys_message(cata1,cata2):\n",
    "    Combination = f'Ce{cata1}{cata2}'\n",
    "    system_message = f\"\"\"\n",
    "As an AI specialist in selective catalytic reduction of NOx by NH3, you will receive untested datapoints of ternary Ce-based mixed metal oxides catalyst. \n",
    "And \n",
    "You will be provided with reasoning paths for evaluating the performance of binary Ce-based mixed metal oxides catalyst. \n",
    "Performance metrics are Positive and Negative.\n",
    "\n",
    "Your objective is to infer the most likely performance of the untested datapoints for Ce{cata1}{cata2} catalyst. \n",
    "This involves meticulous weighing of the provided reasoning paths of evaluating performance of binary Ce-based mixed metal oxides catalysts:\n",
    "\n",
    "The output must only contain inferred performance (Positive or Negative) on each datapoint in the following formats with your concise inference process, in at most 25 words.\n",
    "    \n",
    "    {delimiter}<performance>{delimiter}<reasoning paths>\n",
    "    {delimiter}<performance>{delimiter}<reasoning paths>\n",
    "    ......\n",
    "    {delimiter}<performance>{delimiter}<reasoning paths>\n",
    "    \"\"\"\n",
    "    return system_message"
   ]
  },
  {
   "cell_type": "code",
   "execution_count": 237,
   "id": "53e4753c",
   "metadata": {},
   "outputs": [],
   "source": [
    "def user_message(cata1,cata2, datapoints, run):\n",
    "    run = f'run{run}'\n",
    "    user_message = f\"\"\"\n",
    "    Here are the reasoning paths of binary Ce-based mixed metal oxides catalysts: \n",
    "\n",
    "    reasoning paths: \\n\n",
    "    <{Respon_GPT4_OS.loc[5, run]}>\\n\n",
    "\n",
    "    Here are the untested datapoints for the ternary mixed oxides catalyst, Ce{cata1}{cata2}, delimited with {delimiter} characters:\n",
    "\n",
    "    Untested datapoints: \n",
    "    ```{datapoints}```\n",
    "    \n",
    "    Please ensure thorough analysis before determining performance. \n",
    "    \"\"\"\n",
    "    return user_message       \n"
   ]
  },
  {
   "cell_type": "code",
   "execution_count": 243,
   "id": "18041238",
   "metadata": {
    "collapsed": true,
    "jupyter": {
     "outputs_hidden": true
    },
    "scrolled": true
   },
   "outputs": [
    {
     "name": "stdout",
     "output_type": "stream",
     "text": [
      "the prompt has been malfunctioned\n",
      "the prompt has been malfunctioned\n",
      "the prompt has been malfunctioned\n"
     ]
    },
    {
     "ename": "KeyboardInterrupt",
     "evalue": "",
     "output_type": "error",
     "traceback": [
      "\u001b[1;31m---------------------------------------------------------------------------\u001b[0m",
      "\u001b[1;31mKeyboardInterrupt\u001b[0m                         Traceback (most recent call last)",
      "Cell \u001b[1;32mIn[243], line 18\u001b[0m\n\u001b[0;32m     15\u001b[0m datapoints \u001b[38;5;241m=\u001b[39m Infer_datapoints[idx: idx \u001b[38;5;241m+\u001b[39m Batch]\n\u001b[0;32m     16\u001b[0m messages \u001b[38;5;241m=\u001b[39m  [{\u001b[38;5;124m'\u001b[39m\u001b[38;5;124mrole\u001b[39m\u001b[38;5;124m'\u001b[39m:\u001b[38;5;124m'\u001b[39m\u001b[38;5;124msystem\u001b[39m\u001b[38;5;124m'\u001b[39m, \u001b[38;5;124m'\u001b[39m\u001b[38;5;124mcontent\u001b[39m\u001b[38;5;124m'\u001b[39m: sys_message(cata1, cata2)},\n\u001b[0;32m     17\u001b[0m              {\u001b[38;5;124m'\u001b[39m\u001b[38;5;124mrole\u001b[39m\u001b[38;5;124m'\u001b[39m:\u001b[38;5;124m'\u001b[39m\u001b[38;5;124muser\u001b[39m\u001b[38;5;124m'\u001b[39m, \u001b[38;5;124m'\u001b[39m\u001b[38;5;124mcontent\u001b[39m\u001b[38;5;124m'\u001b[39m: user_message(cata1, cata2, datapoints, run)}]\n\u001b[1;32m---> 18\u001b[0m response \u001b[38;5;241m=\u001b[39m \u001b[43mget_completion_from_messages\u001b[49m\u001b[43m(\u001b[49m\u001b[43mmessages\u001b[49m\u001b[43m)\u001b[49m\n\u001b[0;32m     19\u001b[0m tem_check \u001b[38;5;241m=\u001b[39m parser(response)\n\u001b[0;32m     20\u001b[0m \u001b[38;5;28;01mif\u001b[39;00m tem_check:\n",
      "Cell \u001b[1;32mIn[124], line 4\u001b[0m, in \u001b[0;36mget_completion_from_messages\u001b[1;34m(messages, model, temperature, max_tokens)\u001b[0m\n\u001b[0;32m      1\u001b[0m \u001b[38;5;28;01mdef\u001b[39;00m \u001b[38;5;21mget_completion_from_messages\u001b[39m(messages, \n\u001b[0;32m      2\u001b[0m                                  model\u001b[38;5;241m=\u001b[39m\u001b[38;5;124m\"\u001b[39m\u001b[38;5;124mgpt-4\u001b[39m\u001b[38;5;124m\"\u001b[39m, \n\u001b[0;32m      3\u001b[0m                                  temperature\u001b[38;5;241m=\u001b[39m\u001b[38;5;241m0\u001b[39m, max_tokens\u001b[38;5;241m=\u001b[39m\u001b[38;5;241m3000\u001b[39m):\n\u001b[1;32m----> 4\u001b[0m     response \u001b[38;5;241m=\u001b[39m \u001b[43mopenai\u001b[49m\u001b[38;5;241;43m.\u001b[39;49m\u001b[43mChatCompletion\u001b[49m\u001b[38;5;241;43m.\u001b[39;49m\u001b[43mcreate\u001b[49m\u001b[43m(\u001b[49m\n\u001b[0;32m      5\u001b[0m \u001b[43m        \u001b[49m\u001b[43mmodel\u001b[49m\u001b[38;5;241;43m=\u001b[39;49m\u001b[43mmodel\u001b[49m\u001b[43m,\u001b[49m\n\u001b[0;32m      6\u001b[0m \u001b[43m        \u001b[49m\u001b[43mmessages\u001b[49m\u001b[38;5;241;43m=\u001b[39;49m\u001b[43mmessages\u001b[49m\u001b[43m,\u001b[49m\n\u001b[0;32m      7\u001b[0m \u001b[43m        \u001b[49m\u001b[43mtemperature\u001b[49m\u001b[38;5;241;43m=\u001b[39;49m\u001b[43mtemperature\u001b[49m\u001b[43m,\u001b[49m\u001b[43m \u001b[49m\n\u001b[0;32m      8\u001b[0m \u001b[43m        \u001b[49m\u001b[43mmax_tokens\u001b[49m\u001b[38;5;241;43m=\u001b[39;49m\u001b[43mmax_tokens\u001b[49m\u001b[43m,\u001b[49m\u001b[43m \u001b[49m\n\u001b[0;32m      9\u001b[0m \u001b[43m    \u001b[49m\u001b[43m)\u001b[49m\n\u001b[0;32m     10\u001b[0m     \u001b[38;5;28;01mreturn\u001b[39;00m response\u001b[38;5;241m.\u001b[39mchoices[\u001b[38;5;241m0\u001b[39m]\u001b[38;5;241m.\u001b[39mmessage[\u001b[38;5;124m\"\u001b[39m\u001b[38;5;124mcontent\u001b[39m\u001b[38;5;124m\"\u001b[39m]\n",
      "File \u001b[1;32mD:\\anaconda\\anaconda\\envs\\langchain1\\lib\\site-packages\\openai\\api_resources\\chat_completion.py:25\u001b[0m, in \u001b[0;36mChatCompletion.create\u001b[1;34m(cls, *args, **kwargs)\u001b[0m\n\u001b[0;32m     23\u001b[0m \u001b[38;5;28;01mwhile\u001b[39;00m \u001b[38;5;28;01mTrue\u001b[39;00m:\n\u001b[0;32m     24\u001b[0m     \u001b[38;5;28;01mtry\u001b[39;00m:\n\u001b[1;32m---> 25\u001b[0m         \u001b[38;5;28;01mreturn\u001b[39;00m \u001b[38;5;28msuper\u001b[39m()\u001b[38;5;241m.\u001b[39mcreate(\u001b[38;5;241m*\u001b[39margs, \u001b[38;5;241m*\u001b[39m\u001b[38;5;241m*\u001b[39mkwargs)\n\u001b[0;32m     26\u001b[0m     \u001b[38;5;28;01mexcept\u001b[39;00m TryAgain \u001b[38;5;28;01mas\u001b[39;00m e:\n\u001b[0;32m     27\u001b[0m         \u001b[38;5;28;01mif\u001b[39;00m timeout \u001b[38;5;129;01mis\u001b[39;00m \u001b[38;5;129;01mnot\u001b[39;00m \u001b[38;5;28;01mNone\u001b[39;00m \u001b[38;5;129;01mand\u001b[39;00m time\u001b[38;5;241m.\u001b[39mtime() \u001b[38;5;241m>\u001b[39m start \u001b[38;5;241m+\u001b[39m timeout:\n",
      "File \u001b[1;32mD:\\anaconda\\anaconda\\envs\\langchain1\\lib\\site-packages\\openai\\api_resources\\abstract\\engine_api_resource.py:155\u001b[0m, in \u001b[0;36mEngineAPIResource.create\u001b[1;34m(cls, api_key, api_base, api_type, request_id, api_version, organization, **params)\u001b[0m\n\u001b[0;32m    129\u001b[0m \u001b[38;5;129m@classmethod\u001b[39m\n\u001b[0;32m    130\u001b[0m \u001b[38;5;28;01mdef\u001b[39;00m \u001b[38;5;21mcreate\u001b[39m(\n\u001b[0;32m    131\u001b[0m     \u001b[38;5;28mcls\u001b[39m,\n\u001b[1;32m   (...)\u001b[0m\n\u001b[0;32m    138\u001b[0m     \u001b[38;5;241m*\u001b[39m\u001b[38;5;241m*\u001b[39mparams,\n\u001b[0;32m    139\u001b[0m ):\n\u001b[0;32m    140\u001b[0m     (\n\u001b[0;32m    141\u001b[0m         deployment_id,\n\u001b[0;32m    142\u001b[0m         engine,\n\u001b[1;32m   (...)\u001b[0m\n\u001b[0;32m    152\u001b[0m         api_key, api_base, api_type, api_version, organization, \u001b[38;5;241m*\u001b[39m\u001b[38;5;241m*\u001b[39mparams\n\u001b[0;32m    153\u001b[0m     )\n\u001b[1;32m--> 155\u001b[0m     response, _, api_key \u001b[38;5;241m=\u001b[39m \u001b[43mrequestor\u001b[49m\u001b[38;5;241;43m.\u001b[39;49m\u001b[43mrequest\u001b[49m\u001b[43m(\u001b[49m\n\u001b[0;32m    156\u001b[0m \u001b[43m        \u001b[49m\u001b[38;5;124;43m\"\u001b[39;49m\u001b[38;5;124;43mpost\u001b[39;49m\u001b[38;5;124;43m\"\u001b[39;49m\u001b[43m,\u001b[49m\n\u001b[0;32m    157\u001b[0m \u001b[43m        \u001b[49m\u001b[43murl\u001b[49m\u001b[43m,\u001b[49m\n\u001b[0;32m    158\u001b[0m \u001b[43m        \u001b[49m\u001b[43mparams\u001b[49m\u001b[38;5;241;43m=\u001b[39;49m\u001b[43mparams\u001b[49m\u001b[43m,\u001b[49m\n\u001b[0;32m    159\u001b[0m \u001b[43m        \u001b[49m\u001b[43mheaders\u001b[49m\u001b[38;5;241;43m=\u001b[39;49m\u001b[43mheaders\u001b[49m\u001b[43m,\u001b[49m\n\u001b[0;32m    160\u001b[0m \u001b[43m        \u001b[49m\u001b[43mstream\u001b[49m\u001b[38;5;241;43m=\u001b[39;49m\u001b[43mstream\u001b[49m\u001b[43m,\u001b[49m\n\u001b[0;32m    161\u001b[0m \u001b[43m        \u001b[49m\u001b[43mrequest_id\u001b[49m\u001b[38;5;241;43m=\u001b[39;49m\u001b[43mrequest_id\u001b[49m\u001b[43m,\u001b[49m\n\u001b[0;32m    162\u001b[0m \u001b[43m        \u001b[49m\u001b[43mrequest_timeout\u001b[49m\u001b[38;5;241;43m=\u001b[39;49m\u001b[43mrequest_timeout\u001b[49m\u001b[43m,\u001b[49m\n\u001b[0;32m    163\u001b[0m \u001b[43m    \u001b[49m\u001b[43m)\u001b[49m\n\u001b[0;32m    165\u001b[0m     \u001b[38;5;28;01mif\u001b[39;00m stream:\n\u001b[0;32m    166\u001b[0m         \u001b[38;5;66;03m# must be an iterator\u001b[39;00m\n\u001b[0;32m    167\u001b[0m         \u001b[38;5;28;01massert\u001b[39;00m \u001b[38;5;129;01mnot\u001b[39;00m \u001b[38;5;28misinstance\u001b[39m(response, OpenAIResponse)\n",
      "File \u001b[1;32mD:\\anaconda\\anaconda\\envs\\langchain1\\lib\\site-packages\\openai\\api_requestor.py:289\u001b[0m, in \u001b[0;36mAPIRequestor.request\u001b[1;34m(self, method, url, params, headers, files, stream, request_id, request_timeout)\u001b[0m\n\u001b[0;32m    278\u001b[0m \u001b[38;5;28;01mdef\u001b[39;00m \u001b[38;5;21mrequest\u001b[39m(\n\u001b[0;32m    279\u001b[0m     \u001b[38;5;28mself\u001b[39m,\n\u001b[0;32m    280\u001b[0m     method,\n\u001b[1;32m   (...)\u001b[0m\n\u001b[0;32m    287\u001b[0m     request_timeout: Optional[Union[\u001b[38;5;28mfloat\u001b[39m, Tuple[\u001b[38;5;28mfloat\u001b[39m, \u001b[38;5;28mfloat\u001b[39m]]] \u001b[38;5;241m=\u001b[39m \u001b[38;5;28;01mNone\u001b[39;00m,\n\u001b[0;32m    288\u001b[0m ) \u001b[38;5;241m-\u001b[39m\u001b[38;5;241m>\u001b[39m Tuple[Union[OpenAIResponse, Iterator[OpenAIResponse]], \u001b[38;5;28mbool\u001b[39m, \u001b[38;5;28mstr\u001b[39m]:\n\u001b[1;32m--> 289\u001b[0m     result \u001b[38;5;241m=\u001b[39m \u001b[38;5;28;43mself\u001b[39;49m\u001b[38;5;241;43m.\u001b[39;49m\u001b[43mrequest_raw\u001b[49m\u001b[43m(\u001b[49m\n\u001b[0;32m    290\u001b[0m \u001b[43m        \u001b[49m\u001b[43mmethod\u001b[49m\u001b[38;5;241;43m.\u001b[39;49m\u001b[43mlower\u001b[49m\u001b[43m(\u001b[49m\u001b[43m)\u001b[49m\u001b[43m,\u001b[49m\n\u001b[0;32m    291\u001b[0m \u001b[43m        \u001b[49m\u001b[43murl\u001b[49m\u001b[43m,\u001b[49m\n\u001b[0;32m    292\u001b[0m \u001b[43m        \u001b[49m\u001b[43mparams\u001b[49m\u001b[38;5;241;43m=\u001b[39;49m\u001b[43mparams\u001b[49m\u001b[43m,\u001b[49m\n\u001b[0;32m    293\u001b[0m \u001b[43m        \u001b[49m\u001b[43msupplied_headers\u001b[49m\u001b[38;5;241;43m=\u001b[39;49m\u001b[43mheaders\u001b[49m\u001b[43m,\u001b[49m\n\u001b[0;32m    294\u001b[0m \u001b[43m        \u001b[49m\u001b[43mfiles\u001b[49m\u001b[38;5;241;43m=\u001b[39;49m\u001b[43mfiles\u001b[49m\u001b[43m,\u001b[49m\n\u001b[0;32m    295\u001b[0m \u001b[43m        \u001b[49m\u001b[43mstream\u001b[49m\u001b[38;5;241;43m=\u001b[39;49m\u001b[43mstream\u001b[49m\u001b[43m,\u001b[49m\n\u001b[0;32m    296\u001b[0m \u001b[43m        \u001b[49m\u001b[43mrequest_id\u001b[49m\u001b[38;5;241;43m=\u001b[39;49m\u001b[43mrequest_id\u001b[49m\u001b[43m,\u001b[49m\n\u001b[0;32m    297\u001b[0m \u001b[43m        \u001b[49m\u001b[43mrequest_timeout\u001b[49m\u001b[38;5;241;43m=\u001b[39;49m\u001b[43mrequest_timeout\u001b[49m\u001b[43m,\u001b[49m\n\u001b[0;32m    298\u001b[0m \u001b[43m    \u001b[49m\u001b[43m)\u001b[49m\n\u001b[0;32m    299\u001b[0m     resp, got_stream \u001b[38;5;241m=\u001b[39m \u001b[38;5;28mself\u001b[39m\u001b[38;5;241m.\u001b[39m_interpret_response(result, stream)\n\u001b[0;32m    300\u001b[0m     \u001b[38;5;28;01mreturn\u001b[39;00m resp, got_stream, \u001b[38;5;28mself\u001b[39m\u001b[38;5;241m.\u001b[39mapi_key\n",
      "File \u001b[1;32mD:\\anaconda\\anaconda\\envs\\langchain1\\lib\\site-packages\\openai\\api_requestor.py:606\u001b[0m, in \u001b[0;36mAPIRequestor.request_raw\u001b[1;34m(self, method, url, params, supplied_headers, files, stream, request_id, request_timeout)\u001b[0m\n\u001b[0;32m    604\u001b[0m     _thread_context\u001b[38;5;241m.\u001b[39msession_create_time \u001b[38;5;241m=\u001b[39m time\u001b[38;5;241m.\u001b[39mtime()\n\u001b[0;32m    605\u001b[0m \u001b[38;5;28;01mtry\u001b[39;00m:\n\u001b[1;32m--> 606\u001b[0m     result \u001b[38;5;241m=\u001b[39m \u001b[43m_thread_context\u001b[49m\u001b[38;5;241;43m.\u001b[39;49m\u001b[43msession\u001b[49m\u001b[38;5;241;43m.\u001b[39;49m\u001b[43mrequest\u001b[49m\u001b[43m(\u001b[49m\n\u001b[0;32m    607\u001b[0m \u001b[43m        \u001b[49m\u001b[43mmethod\u001b[49m\u001b[43m,\u001b[49m\n\u001b[0;32m    608\u001b[0m \u001b[43m        \u001b[49m\u001b[43mabs_url\u001b[49m\u001b[43m,\u001b[49m\n\u001b[0;32m    609\u001b[0m \u001b[43m        \u001b[49m\u001b[43mheaders\u001b[49m\u001b[38;5;241;43m=\u001b[39;49m\u001b[43mheaders\u001b[49m\u001b[43m,\u001b[49m\n\u001b[0;32m    610\u001b[0m \u001b[43m        \u001b[49m\u001b[43mdata\u001b[49m\u001b[38;5;241;43m=\u001b[39;49m\u001b[43mdata\u001b[49m\u001b[43m,\u001b[49m\n\u001b[0;32m    611\u001b[0m \u001b[43m        \u001b[49m\u001b[43mfiles\u001b[49m\u001b[38;5;241;43m=\u001b[39;49m\u001b[43mfiles\u001b[49m\u001b[43m,\u001b[49m\n\u001b[0;32m    612\u001b[0m \u001b[43m        \u001b[49m\u001b[43mstream\u001b[49m\u001b[38;5;241;43m=\u001b[39;49m\u001b[43mstream\u001b[49m\u001b[43m,\u001b[49m\n\u001b[0;32m    613\u001b[0m \u001b[43m        \u001b[49m\u001b[43mtimeout\u001b[49m\u001b[38;5;241;43m=\u001b[39;49m\u001b[43mrequest_timeout\u001b[49m\u001b[43m \u001b[49m\u001b[38;5;28;43;01mif\u001b[39;49;00m\u001b[43m \u001b[49m\u001b[43mrequest_timeout\u001b[49m\u001b[43m \u001b[49m\u001b[38;5;28;43;01melse\u001b[39;49;00m\u001b[43m \u001b[49m\u001b[43mTIMEOUT_SECS\u001b[49m\u001b[43m,\u001b[49m\n\u001b[0;32m    614\u001b[0m \u001b[43m        \u001b[49m\u001b[43mproxies\u001b[49m\u001b[38;5;241;43m=\u001b[39;49m\u001b[43m_thread_context\u001b[49m\u001b[38;5;241;43m.\u001b[39;49m\u001b[43msession\u001b[49m\u001b[38;5;241;43m.\u001b[39;49m\u001b[43mproxies\u001b[49m\u001b[43m,\u001b[49m\n\u001b[0;32m    615\u001b[0m \u001b[43m    \u001b[49m\u001b[43m)\u001b[49m\n\u001b[0;32m    616\u001b[0m \u001b[38;5;28;01mexcept\u001b[39;00m requests\u001b[38;5;241m.\u001b[39mexceptions\u001b[38;5;241m.\u001b[39mTimeout \u001b[38;5;28;01mas\u001b[39;00m e:\n\u001b[0;32m    617\u001b[0m     \u001b[38;5;28;01mraise\u001b[39;00m error\u001b[38;5;241m.\u001b[39mTimeout(\u001b[38;5;124m\"\u001b[39m\u001b[38;5;124mRequest timed out: \u001b[39m\u001b[38;5;132;01m{}\u001b[39;00m\u001b[38;5;124m\"\u001b[39m\u001b[38;5;241m.\u001b[39mformat(e)) \u001b[38;5;28;01mfrom\u001b[39;00m \u001b[38;5;21;01me\u001b[39;00m\n",
      "File \u001b[1;32mD:\\anaconda\\anaconda\\envs\\langchain1\\lib\\site-packages\\requests\\sessions.py:589\u001b[0m, in \u001b[0;36mSession.request\u001b[1;34m(self, method, url, params, data, headers, cookies, files, auth, timeout, allow_redirects, proxies, hooks, stream, verify, cert, json)\u001b[0m\n\u001b[0;32m    584\u001b[0m send_kwargs \u001b[38;5;241m=\u001b[39m {\n\u001b[0;32m    585\u001b[0m     \u001b[38;5;124m\"\u001b[39m\u001b[38;5;124mtimeout\u001b[39m\u001b[38;5;124m\"\u001b[39m: timeout,\n\u001b[0;32m    586\u001b[0m     \u001b[38;5;124m\"\u001b[39m\u001b[38;5;124mallow_redirects\u001b[39m\u001b[38;5;124m\"\u001b[39m: allow_redirects,\n\u001b[0;32m    587\u001b[0m }\n\u001b[0;32m    588\u001b[0m send_kwargs\u001b[38;5;241m.\u001b[39mupdate(settings)\n\u001b[1;32m--> 589\u001b[0m resp \u001b[38;5;241m=\u001b[39m \u001b[38;5;28mself\u001b[39m\u001b[38;5;241m.\u001b[39msend(prep, \u001b[38;5;241m*\u001b[39m\u001b[38;5;241m*\u001b[39msend_kwargs)\n\u001b[0;32m    591\u001b[0m \u001b[38;5;28;01mreturn\u001b[39;00m resp\n",
      "File \u001b[1;32mD:\\anaconda\\anaconda\\envs\\langchain1\\lib\\site-packages\\requests\\sessions.py:703\u001b[0m, in \u001b[0;36mSession.send\u001b[1;34m(self, request, **kwargs)\u001b[0m\n\u001b[0;32m    700\u001b[0m start \u001b[38;5;241m=\u001b[39m preferred_clock()\n\u001b[0;32m    702\u001b[0m \u001b[38;5;66;03m# Send the request\u001b[39;00m\n\u001b[1;32m--> 703\u001b[0m r \u001b[38;5;241m=\u001b[39m adapter\u001b[38;5;241m.\u001b[39msend(request, \u001b[38;5;241m*\u001b[39m\u001b[38;5;241m*\u001b[39mkwargs)\n\u001b[0;32m    705\u001b[0m \u001b[38;5;66;03m# Total elapsed time of the request (approximately)\u001b[39;00m\n\u001b[0;32m    706\u001b[0m elapsed \u001b[38;5;241m=\u001b[39m preferred_clock() \u001b[38;5;241m-\u001b[39m start\n",
      "File \u001b[1;32mD:\\anaconda\\anaconda\\envs\\langchain1\\lib\\site-packages\\requests\\adapters.py:486\u001b[0m, in \u001b[0;36mHTTPAdapter.send\u001b[1;34m(self, request, stream, timeout, verify, cert, proxies)\u001b[0m\n\u001b[0;32m    483\u001b[0m     timeout \u001b[38;5;241m=\u001b[39m TimeoutSauce(connect\u001b[38;5;241m=\u001b[39mtimeout, read\u001b[38;5;241m=\u001b[39mtimeout)\n\u001b[0;32m    485\u001b[0m \u001b[38;5;28;01mtry\u001b[39;00m:\n\u001b[1;32m--> 486\u001b[0m     resp \u001b[38;5;241m=\u001b[39m \u001b[43mconn\u001b[49m\u001b[38;5;241;43m.\u001b[39;49m\u001b[43murlopen\u001b[49m\u001b[43m(\u001b[49m\n\u001b[0;32m    487\u001b[0m \u001b[43m        \u001b[49m\u001b[43mmethod\u001b[49m\u001b[38;5;241;43m=\u001b[39;49m\u001b[43mrequest\u001b[49m\u001b[38;5;241;43m.\u001b[39;49m\u001b[43mmethod\u001b[49m\u001b[43m,\u001b[49m\n\u001b[0;32m    488\u001b[0m \u001b[43m        \u001b[49m\u001b[43murl\u001b[49m\u001b[38;5;241;43m=\u001b[39;49m\u001b[43murl\u001b[49m\u001b[43m,\u001b[49m\n\u001b[0;32m    489\u001b[0m \u001b[43m        \u001b[49m\u001b[43mbody\u001b[49m\u001b[38;5;241;43m=\u001b[39;49m\u001b[43mrequest\u001b[49m\u001b[38;5;241;43m.\u001b[39;49m\u001b[43mbody\u001b[49m\u001b[43m,\u001b[49m\n\u001b[0;32m    490\u001b[0m \u001b[43m        \u001b[49m\u001b[43mheaders\u001b[49m\u001b[38;5;241;43m=\u001b[39;49m\u001b[43mrequest\u001b[49m\u001b[38;5;241;43m.\u001b[39;49m\u001b[43mheaders\u001b[49m\u001b[43m,\u001b[49m\n\u001b[0;32m    491\u001b[0m \u001b[43m        \u001b[49m\u001b[43mredirect\u001b[49m\u001b[38;5;241;43m=\u001b[39;49m\u001b[38;5;28;43;01mFalse\u001b[39;49;00m\u001b[43m,\u001b[49m\n\u001b[0;32m    492\u001b[0m \u001b[43m        \u001b[49m\u001b[43massert_same_host\u001b[49m\u001b[38;5;241;43m=\u001b[39;49m\u001b[38;5;28;43;01mFalse\u001b[39;49;00m\u001b[43m,\u001b[49m\n\u001b[0;32m    493\u001b[0m \u001b[43m        \u001b[49m\u001b[43mpreload_content\u001b[49m\u001b[38;5;241;43m=\u001b[39;49m\u001b[38;5;28;43;01mFalse\u001b[39;49;00m\u001b[43m,\u001b[49m\n\u001b[0;32m    494\u001b[0m \u001b[43m        \u001b[49m\u001b[43mdecode_content\u001b[49m\u001b[38;5;241;43m=\u001b[39;49m\u001b[38;5;28;43;01mFalse\u001b[39;49;00m\u001b[43m,\u001b[49m\n\u001b[0;32m    495\u001b[0m \u001b[43m        \u001b[49m\u001b[43mretries\u001b[49m\u001b[38;5;241;43m=\u001b[39;49m\u001b[38;5;28;43mself\u001b[39;49m\u001b[38;5;241;43m.\u001b[39;49m\u001b[43mmax_retries\u001b[49m\u001b[43m,\u001b[49m\n\u001b[0;32m    496\u001b[0m \u001b[43m        \u001b[49m\u001b[43mtimeout\u001b[49m\u001b[38;5;241;43m=\u001b[39;49m\u001b[43mtimeout\u001b[49m\u001b[43m,\u001b[49m\n\u001b[0;32m    497\u001b[0m \u001b[43m        \u001b[49m\u001b[43mchunked\u001b[49m\u001b[38;5;241;43m=\u001b[39;49m\u001b[43mchunked\u001b[49m\u001b[43m,\u001b[49m\n\u001b[0;32m    498\u001b[0m \u001b[43m    \u001b[49m\u001b[43m)\u001b[49m\n\u001b[0;32m    500\u001b[0m \u001b[38;5;28;01mexcept\u001b[39;00m (ProtocolError, \u001b[38;5;167;01mOSError\u001b[39;00m) \u001b[38;5;28;01mas\u001b[39;00m err:\n\u001b[0;32m    501\u001b[0m     \u001b[38;5;28;01mraise\u001b[39;00m \u001b[38;5;167;01mConnectionError\u001b[39;00m(err, request\u001b[38;5;241m=\u001b[39mrequest)\n",
      "File \u001b[1;32mD:\\anaconda\\anaconda\\envs\\langchain1\\lib\\site-packages\\urllib3\\connectionpool.py:791\u001b[0m, in \u001b[0;36mHTTPConnectionPool.urlopen\u001b[1;34m(self, method, url, body, headers, retries, redirect, assert_same_host, timeout, pool_timeout, release_conn, chunked, body_pos, preload_content, decode_content, **response_kw)\u001b[0m\n\u001b[0;32m    788\u001b[0m response_conn \u001b[38;5;241m=\u001b[39m conn \u001b[38;5;28;01mif\u001b[39;00m \u001b[38;5;129;01mnot\u001b[39;00m release_conn \u001b[38;5;28;01melse\u001b[39;00m \u001b[38;5;28;01mNone\u001b[39;00m\n\u001b[0;32m    790\u001b[0m \u001b[38;5;66;03m# Make the request on the HTTPConnection object\u001b[39;00m\n\u001b[1;32m--> 791\u001b[0m response \u001b[38;5;241m=\u001b[39m \u001b[38;5;28mself\u001b[39m\u001b[38;5;241m.\u001b[39m_make_request(\n\u001b[0;32m    792\u001b[0m     conn,\n\u001b[0;32m    793\u001b[0m     method,\n\u001b[0;32m    794\u001b[0m     url,\n\u001b[0;32m    795\u001b[0m     timeout\u001b[38;5;241m=\u001b[39mtimeout_obj,\n\u001b[0;32m    796\u001b[0m     body\u001b[38;5;241m=\u001b[39mbody,\n\u001b[0;32m    797\u001b[0m     headers\u001b[38;5;241m=\u001b[39mheaders,\n\u001b[0;32m    798\u001b[0m     chunked\u001b[38;5;241m=\u001b[39mchunked,\n\u001b[0;32m    799\u001b[0m     retries\u001b[38;5;241m=\u001b[39mretries,\n\u001b[0;32m    800\u001b[0m     response_conn\u001b[38;5;241m=\u001b[39mresponse_conn,\n\u001b[0;32m    801\u001b[0m     preload_content\u001b[38;5;241m=\u001b[39mpreload_content,\n\u001b[0;32m    802\u001b[0m     decode_content\u001b[38;5;241m=\u001b[39mdecode_content,\n\u001b[0;32m    803\u001b[0m     \u001b[38;5;241m*\u001b[39m\u001b[38;5;241m*\u001b[39mresponse_kw,\n\u001b[0;32m    804\u001b[0m )\n\u001b[0;32m    806\u001b[0m \u001b[38;5;66;03m# Everything went great!\u001b[39;00m\n\u001b[0;32m    807\u001b[0m clean_exit \u001b[38;5;241m=\u001b[39m \u001b[38;5;28;01mTrue\u001b[39;00m\n",
      "File \u001b[1;32mD:\\anaconda\\anaconda\\envs\\langchain1\\lib\\site-packages\\urllib3\\connectionpool.py:537\u001b[0m, in \u001b[0;36mHTTPConnectionPool._make_request\u001b[1;34m(self, conn, method, url, body, headers, retries, timeout, chunked, response_conn, preload_content, decode_content, enforce_content_length)\u001b[0m\n\u001b[0;32m    535\u001b[0m \u001b[38;5;66;03m# Receive the response from the server\u001b[39;00m\n\u001b[0;32m    536\u001b[0m \u001b[38;5;28;01mtry\u001b[39;00m:\n\u001b[1;32m--> 537\u001b[0m     response \u001b[38;5;241m=\u001b[39m \u001b[43mconn\u001b[49m\u001b[38;5;241;43m.\u001b[39;49m\u001b[43mgetresponse\u001b[49m\u001b[43m(\u001b[49m\u001b[43m)\u001b[49m\n\u001b[0;32m    538\u001b[0m \u001b[38;5;28;01mexcept\u001b[39;00m (BaseSSLError, \u001b[38;5;167;01mOSError\u001b[39;00m) \u001b[38;5;28;01mas\u001b[39;00m e:\n\u001b[0;32m    539\u001b[0m     \u001b[38;5;28mself\u001b[39m\u001b[38;5;241m.\u001b[39m_raise_timeout(err\u001b[38;5;241m=\u001b[39me, url\u001b[38;5;241m=\u001b[39murl, timeout_value\u001b[38;5;241m=\u001b[39mread_timeout)\n",
      "File \u001b[1;32mD:\\anaconda\\anaconda\\envs\\langchain1\\lib\\site-packages\\urllib3\\connection.py:461\u001b[0m, in \u001b[0;36mHTTPConnection.getresponse\u001b[1;34m(self)\u001b[0m\n\u001b[0;32m    458\u001b[0m \u001b[38;5;28;01mfrom\u001b[39;00m \u001b[38;5;21;01m.\u001b[39;00m\u001b[38;5;21;01mresponse\u001b[39;00m \u001b[38;5;28;01mimport\u001b[39;00m HTTPResponse\n\u001b[0;32m    460\u001b[0m \u001b[38;5;66;03m# Get the response from http.client.HTTPConnection\u001b[39;00m\n\u001b[1;32m--> 461\u001b[0m httplib_response \u001b[38;5;241m=\u001b[39m \u001b[38;5;28;43msuper\u001b[39;49m\u001b[43m(\u001b[49m\u001b[43m)\u001b[49m\u001b[38;5;241;43m.\u001b[39;49m\u001b[43mgetresponse\u001b[49m\u001b[43m(\u001b[49m\u001b[43m)\u001b[49m\n\u001b[0;32m    463\u001b[0m \u001b[38;5;28;01mtry\u001b[39;00m:\n\u001b[0;32m    464\u001b[0m     assert_header_parsing(httplib_response\u001b[38;5;241m.\u001b[39mmsg)\n",
      "File \u001b[1;32mD:\\anaconda\\anaconda\\envs\\langchain1\\lib\\http\\client.py:1375\u001b[0m, in \u001b[0;36mHTTPConnection.getresponse\u001b[1;34m(self)\u001b[0m\n\u001b[0;32m   1373\u001b[0m \u001b[38;5;28;01mtry\u001b[39;00m:\n\u001b[0;32m   1374\u001b[0m     \u001b[38;5;28;01mtry\u001b[39;00m:\n\u001b[1;32m-> 1375\u001b[0m         \u001b[43mresponse\u001b[49m\u001b[38;5;241;43m.\u001b[39;49m\u001b[43mbegin\u001b[49m\u001b[43m(\u001b[49m\u001b[43m)\u001b[49m\n\u001b[0;32m   1376\u001b[0m     \u001b[38;5;28;01mexcept\u001b[39;00m \u001b[38;5;167;01mConnectionError\u001b[39;00m:\n\u001b[0;32m   1377\u001b[0m         \u001b[38;5;28mself\u001b[39m\u001b[38;5;241m.\u001b[39mclose()\n",
      "File \u001b[1;32mD:\\anaconda\\anaconda\\envs\\langchain1\\lib\\http\\client.py:318\u001b[0m, in \u001b[0;36mHTTPResponse.begin\u001b[1;34m(self)\u001b[0m\n\u001b[0;32m    316\u001b[0m \u001b[38;5;66;03m# read until we get a non-100 response\u001b[39;00m\n\u001b[0;32m    317\u001b[0m \u001b[38;5;28;01mwhile\u001b[39;00m \u001b[38;5;28;01mTrue\u001b[39;00m:\n\u001b[1;32m--> 318\u001b[0m     version, status, reason \u001b[38;5;241m=\u001b[39m \u001b[38;5;28;43mself\u001b[39;49m\u001b[38;5;241;43m.\u001b[39;49m\u001b[43m_read_status\u001b[49m\u001b[43m(\u001b[49m\u001b[43m)\u001b[49m\n\u001b[0;32m    319\u001b[0m     \u001b[38;5;28;01mif\u001b[39;00m status \u001b[38;5;241m!=\u001b[39m CONTINUE:\n\u001b[0;32m    320\u001b[0m         \u001b[38;5;28;01mbreak\u001b[39;00m\n",
      "File \u001b[1;32mD:\\anaconda\\anaconda\\envs\\langchain1\\lib\\http\\client.py:279\u001b[0m, in \u001b[0;36mHTTPResponse._read_status\u001b[1;34m(self)\u001b[0m\n\u001b[0;32m    278\u001b[0m \u001b[38;5;28;01mdef\u001b[39;00m \u001b[38;5;21m_read_status\u001b[39m(\u001b[38;5;28mself\u001b[39m):\n\u001b[1;32m--> 279\u001b[0m     line \u001b[38;5;241m=\u001b[39m \u001b[38;5;28mstr\u001b[39m(\u001b[38;5;28;43mself\u001b[39;49m\u001b[38;5;241;43m.\u001b[39;49m\u001b[43mfp\u001b[49m\u001b[38;5;241;43m.\u001b[39;49m\u001b[43mreadline\u001b[49m\u001b[43m(\u001b[49m\u001b[43m_MAXLINE\u001b[49m\u001b[43m \u001b[49m\u001b[38;5;241;43m+\u001b[39;49m\u001b[43m \u001b[49m\u001b[38;5;241;43m1\u001b[39;49m\u001b[43m)\u001b[49m, \u001b[38;5;124m\"\u001b[39m\u001b[38;5;124miso-8859-1\u001b[39m\u001b[38;5;124m\"\u001b[39m)\n\u001b[0;32m    280\u001b[0m     \u001b[38;5;28;01mif\u001b[39;00m \u001b[38;5;28mlen\u001b[39m(line) \u001b[38;5;241m>\u001b[39m _MAXLINE:\n\u001b[0;32m    281\u001b[0m         \u001b[38;5;28;01mraise\u001b[39;00m LineTooLong(\u001b[38;5;124m\"\u001b[39m\u001b[38;5;124mstatus line\u001b[39m\u001b[38;5;124m\"\u001b[39m)\n",
      "File \u001b[1;32mD:\\anaconda\\anaconda\\envs\\langchain1\\lib\\socket.py:705\u001b[0m, in \u001b[0;36mSocketIO.readinto\u001b[1;34m(self, b)\u001b[0m\n\u001b[0;32m    703\u001b[0m \u001b[38;5;28;01mwhile\u001b[39;00m \u001b[38;5;28;01mTrue\u001b[39;00m:\n\u001b[0;32m    704\u001b[0m     \u001b[38;5;28;01mtry\u001b[39;00m:\n\u001b[1;32m--> 705\u001b[0m         \u001b[38;5;28;01mreturn\u001b[39;00m \u001b[38;5;28;43mself\u001b[39;49m\u001b[38;5;241;43m.\u001b[39;49m\u001b[43m_sock\u001b[49m\u001b[38;5;241;43m.\u001b[39;49m\u001b[43mrecv_into\u001b[49m\u001b[43m(\u001b[49m\u001b[43mb\u001b[49m\u001b[43m)\u001b[49m\n\u001b[0;32m    706\u001b[0m     \u001b[38;5;28;01mexcept\u001b[39;00m timeout:\n\u001b[0;32m    707\u001b[0m         \u001b[38;5;28mself\u001b[39m\u001b[38;5;241m.\u001b[39m_timeout_occurred \u001b[38;5;241m=\u001b[39m \u001b[38;5;28;01mTrue\u001b[39;00m\n",
      "File \u001b[1;32mD:\\anaconda\\anaconda\\envs\\langchain1\\lib\\ssl.py:1307\u001b[0m, in \u001b[0;36mSSLSocket.recv_into\u001b[1;34m(self, buffer, nbytes, flags)\u001b[0m\n\u001b[0;32m   1303\u001b[0m     \u001b[38;5;28;01mif\u001b[39;00m flags \u001b[38;5;241m!=\u001b[39m \u001b[38;5;241m0\u001b[39m:\n\u001b[0;32m   1304\u001b[0m         \u001b[38;5;28;01mraise\u001b[39;00m \u001b[38;5;167;01mValueError\u001b[39;00m(\n\u001b[0;32m   1305\u001b[0m           \u001b[38;5;124m\"\u001b[39m\u001b[38;5;124mnon-zero flags not allowed in calls to recv_into() on \u001b[39m\u001b[38;5;132;01m%s\u001b[39;00m\u001b[38;5;124m\"\u001b[39m \u001b[38;5;241m%\u001b[39m\n\u001b[0;32m   1306\u001b[0m           \u001b[38;5;28mself\u001b[39m\u001b[38;5;241m.\u001b[39m\u001b[38;5;18m__class__\u001b[39m)\n\u001b[1;32m-> 1307\u001b[0m     \u001b[38;5;28;01mreturn\u001b[39;00m \u001b[38;5;28;43mself\u001b[39;49m\u001b[38;5;241;43m.\u001b[39;49m\u001b[43mread\u001b[49m\u001b[43m(\u001b[49m\u001b[43mnbytes\u001b[49m\u001b[43m,\u001b[49m\u001b[43m \u001b[49m\u001b[43mbuffer\u001b[49m\u001b[43m)\u001b[49m\n\u001b[0;32m   1308\u001b[0m \u001b[38;5;28;01melse\u001b[39;00m:\n\u001b[0;32m   1309\u001b[0m     \u001b[38;5;28;01mreturn\u001b[39;00m \u001b[38;5;28msuper\u001b[39m()\u001b[38;5;241m.\u001b[39mrecv_into(buffer, nbytes, flags)\n",
      "File \u001b[1;32mD:\\anaconda\\anaconda\\envs\\langchain1\\lib\\ssl.py:1163\u001b[0m, in \u001b[0;36mSSLSocket.read\u001b[1;34m(self, len, buffer)\u001b[0m\n\u001b[0;32m   1161\u001b[0m \u001b[38;5;28;01mtry\u001b[39;00m:\n\u001b[0;32m   1162\u001b[0m     \u001b[38;5;28;01mif\u001b[39;00m buffer \u001b[38;5;129;01mis\u001b[39;00m \u001b[38;5;129;01mnot\u001b[39;00m \u001b[38;5;28;01mNone\u001b[39;00m:\n\u001b[1;32m-> 1163\u001b[0m         \u001b[38;5;28;01mreturn\u001b[39;00m \u001b[38;5;28;43mself\u001b[39;49m\u001b[38;5;241;43m.\u001b[39;49m\u001b[43m_sslobj\u001b[49m\u001b[38;5;241;43m.\u001b[39;49m\u001b[43mread\u001b[49m\u001b[43m(\u001b[49m\u001b[38;5;28;43mlen\u001b[39;49m\u001b[43m,\u001b[49m\u001b[43m \u001b[49m\u001b[43mbuffer\u001b[49m\u001b[43m)\u001b[49m\n\u001b[0;32m   1164\u001b[0m     \u001b[38;5;28;01melse\u001b[39;00m:\n\u001b[0;32m   1165\u001b[0m         \u001b[38;5;28;01mreturn\u001b[39;00m \u001b[38;5;28mself\u001b[39m\u001b[38;5;241m.\u001b[39m_sslobj\u001b[38;5;241m.\u001b[39mread(\u001b[38;5;28mlen\u001b[39m)\n",
      "\u001b[1;31mKeyboardInterrupt\u001b[0m: "
     ]
    }
   ],
   "source": [
    "for run in range(5):\n",
    "    for i in range(8):        \n",
    "        Data = pd.read_csv(combination_path(Combinations[i]), encoding = 'utf-8')\n",
    "        Data.columns = ['NO','Co1','Co2', 'Ratio1', 'Ratio2', \n",
    "                        'Dry-T(M)', 'Dry-t(M)', 'Cal-T(M)',\n",
    "                         'GHSV', 'Reac-Temp',\n",
    "                        'O2-Con','H2O-Con','SO2-Con', \n",
    "                        'Performance']\n",
    "        Infer_datapoints, Answer = form_PROMPT_infer(Data)\n",
    "        catas = Combinations[i].split('_')\n",
    "        cata1, cata2 = catas[0], catas[1]\n",
    "        Batch = 5\n",
    "        num = 0\n",
    "        for idx in range(0, 50 - Batch, Batch):\n",
    "            datapoints = Infer_datapoints[idx: idx + Batch]\n",
    "            messages =  [{'role':'system', 'content': sys_message(cata1, cata2)},\n",
    "                         {'role':'user', 'content': user_message(cata1, cata2, datapoints, run)}]\n",
    "            response = get_completion_from_messages(messages)\n",
    "            tem_check = parser(response)\n",
    "            if tem_check:\n",
    "                num += tem_check\n",
    "        print('Inferrance Accuracy is {}%'.format(num/50) )"
   ]
  },
  {
   "cell_type": "code",
   "execution_count": null,
   "id": "69877fc7",
   "metadata": {},
   "outputs": [],
   "source": []
  },
  {
   "cell_type": "code",
   "execution_count": null,
   "id": "221a5819",
   "metadata": {},
   "outputs": [],
   "source": []
  }
 ],
 "metadata": {
  "kernelspec": {
   "display_name": "Python 3 (ipykernel)",
   "language": "python",
   "name": "python3"
  },
  "language_info": {
   "codemirror_mode": {
    "name": "ipython",
    "version": 3
   },
   "file_extension": ".py",
   "mimetype": "text/x-python",
   "name": "python",
   "nbconvert_exporter": "python",
   "pygments_lexer": "ipython3",
   "version": "3.10.13"
  },
  "toc-autonumbering": true,
  "toc-showmarkdowntxt": true,
  "toc-showtags": false,
  "widgets": {
   "application/vnd.jupyter.widget-state+json": {
    "state": {},
    "version_major": 2,
    "version_minor": 0
   }
  }
 },
 "nbformat": 4,
 "nbformat_minor": 5
}
